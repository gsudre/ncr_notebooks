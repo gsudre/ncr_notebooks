{
 "cells": [
  {
   "cell_type": "markdown",
   "metadata": {},
   "source": [
    "The main goal here was to use Partial Least Squares Correlation (mean-centered task PLSC) in R to try to get some sense of the baseline data. This equates to using Barycentric Discriminant Analysis (BADA):\n",
    "\n",
    "* http://www.sciencedirect.com/science/article/pii/S1053811910010074\n",
    "* https://rdrr.io/cran/TInPosition/\n",
    "* https://cran.r-project.org/web/packages/TExPosition/TExPosition.pdf\n",
    "* http://dx.doi.org/10.1016/j.csda.2013.11.006"
   ]
  },
  {
   "cell_type": "code",
   "execution_count": null,
   "metadata": {
    "collapsed": true
   },
   "outputs": [],
   "source": [
    "gf = read.csv('~/data/baseline_prediction/gf_final_long_aug11.csv')\n",
    "st_data = read.csv('~/data/baseline_prediction/structural_long_12082016.csv')\n",
    "mrn_gf = unique(gf[, c('ID', 'group_HI_linear_4gp_names')])\n",
    "source('~/research_code/baseline_predictions/aux_functions.R')\n",
    "data = get_baseline_scans(st_data)\n",
    "ldata = merge(mrn_gf, data, by.x='ID', by.y='MRN')\n",
    "phen_vars = which(grepl(\"area\", colnames(ldata)))\n",
    "tmp = tepBADA.inference.battery(DATA=ldata[,phen_vars], DESIGN=ldata$group_HI_linear_4gp_names, scale=T, center=T, make_design_nominal=T, test.iters= 1000)"
   ]
  },
  {
   "cell_type": "code",
   "execution_count": null,
   "metadata": {
    "collapsed": true
   },
   "outputs": [],
   "source": []
  },
  {
   "cell_type": "code",
   "execution_count": null,
   "metadata": {
    "collapsed": true
   },
   "outputs": [],
   "source": []
  },
  {
   "cell_type": "code",
   "execution_count": null,
   "metadata": {
    "collapsed": true
   },
   "outputs": [],
   "source": []
  },
  {
   "cell_type": "code",
   "execution_count": null,
   "metadata": {
    "collapsed": true
   },
   "outputs": [],
   "source": []
  },
  {
   "cell_type": "code",
   "execution_count": null,
   "metadata": {
    "collapsed": true
   },
   "outputs": [],
   "source": []
  },
  {
   "cell_type": "code",
   "execution_count": null,
   "metadata": {
    "collapsed": true
   },
   "outputs": [],
   "source": []
  }
 ],
 "metadata": {
  "anaconda-cloud": {},
  "kernelspec": {
   "display_name": "R",
   "language": "R",
   "name": "ir"
  },
  "nav_menu": {},
  "toc": {
   "navigate_menu": true,
   "number_sections": true,
   "sideBar": true,
   "threshold": 6,
   "toc_cell": false,
   "toc_section_display": "block",
   "toc_window_display": false
  }
 },
 "nbformat": 4,
 "nbformat_minor": 0
}
