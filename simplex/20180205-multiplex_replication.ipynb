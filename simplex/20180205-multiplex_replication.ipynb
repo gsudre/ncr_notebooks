{
 "cells": [
  {
   "cell_type": "markdown",
   "metadata": {},
   "source": [
    "The idea here is to use the multiplex sample as replication (or negation) sample for the CNV findings in the simplex cohort. In other words, we want to check that whatever we found in the simplex cohort is not true for the multiplex cohort. So, no samples in the simplex cohort should be used in the multiplex findings. For that, I'll use the samples_multiplex_only.txt, which means that the samples are only in multiplex and not in simplex (151 samples raw).\n",
    "\n",
    "Let's start the preprocessing then. First, make sure that no weird samples need to be thrown out:"
   ]
  },
  {
   "cell_type": "code",
   "execution_count": 17,
   "metadata": {},
   "outputs": [
    {
     "name": "stdout",
     "output_type": "stream",
     "text": [
      "Unique samples: 150\n",
      "Unique families: 20\n",
      "Unique children: 78\n"
     ]
    }
   ],
   "source": [
    "import glob\n",
    "ped_files = ['/data/sudregp/multiplex_simplex/multiplex.ped']\n",
    "wes_prefix = ['CLIA', 'CCGO', 'WPS']\n",
    "fid = open('/home/sudregp/data/multiplex_simplex/samples_simplex_all.txt', 'r')\n",
    "exclude_list = [line.rstrip() for line in fid]\n",
    "fid.close()\n",
    "\n",
    "trios = []\n",
    "affected = []\n",
    "controls = []\n",
    "samples = []\n",
    "famids = []\n",
    "for ped_file in ped_files:\n",
    "    fid = open(ped_file, 'r')\n",
    "    for line in fid:\n",
    "        famid, sid, fa, mo, sex, aff = line.rstrip().split('\\t')\n",
    "        # if the current ID and its parents have WES data, and the sample is \n",
    "        # not in yet\n",
    "        if (fa.split('_')[0] in wes_prefix and\n",
    "            mo.split('_')[0] in wes_prefix and\n",
    "            sid.split('_')[0] in wes_prefix and\n",
    "            sid not in samples and\n",
    "            (sid not in exclude_list or fa not in exclude_list or mo not in exclude_list)):\n",
    "            fam = {}\n",
    "            fam['child'] = sid\n",
    "            if aff == '1':\n",
    "                affected.append(sid)\n",
    "            else:\n",
    "                controls.append(sid)\n",
    "            fam['father'] = fa\n",
    "            fam['mother'] = mo\n",
    "            fam['famid'] = famid\n",
    "            trios.append(fam)\n",
    "            samples += [sid, fa, mo]\n",
    "            famids.append(famid)\n",
    "    fid.close()\n",
    "samples = set(samples)\n",
    "famids = set(famids)\n",
    "kids = set(affected + controls)\n",
    "\n",
    "print 'Unique samples:', len(samples)\n",
    "print 'Unique families:', len(famids)\n",
    "print 'Unique children:', len(kids)"
   ]
  },
  {
   "cell_type": "markdown",
   "metadata": {},
   "source": [
    "So, 1 out of the 151 unique multiplex_only samples didn't make it. Let's see who:"
   ]
  },
  {
   "cell_type": "code",
   "execution_count": 9,
   "metadata": {},
   "outputs": [
    {
     "data": {
      "text/plain": [
       "['CCGO_800940', 'CCGO_800809']"
      ]
     },
     "execution_count": 9,
     "metadata": {},
     "output_type": "execute_result"
    }
   ],
   "source": [
    "fid = open('/home/sudregp/data/multiplex_simplex/samples_multiplex_only.txt')\n",
    "m = [l.rstrip() for l in fid]\n",
    "fid.close()\n",
    "[s for s in m if s not in samples]"
   ]
  },
  {
   "cell_type": "code",
   "execution_count": 9,
   "metadata": {},
   "outputs": [
    {
     "name": "stdout",
     "output_type": "stream",
     "text": [
      "9011\tCCGO_800940\t0\t0\t1\t1\n",
      "9011\tCCGO_800809\tCCGO_800940\t0\t1\t1\n",
      "9011\tCCGO_800809\tCCGO_800940\t0\t1\t1\n"
     ]
    }
   ],
   "source": [
    "%%bash\n",
    "grep CCGO_800940 /data/sudregp/multiplex_simplex/multiplex.ped\n",
    "grep CCGO_800809 /data/sudregp/multiplex_simplex/multiplex.ped"
   ]
  },
  {
   "cell_type": "code",
   "execution_count": 10,
   "metadata": {},
   "outputs": [
    {
     "data": {
      "text/plain": [
       "{'CCGO_800730',\n",
       " 'CCGO_800734',\n",
       " 'CCGO_800736',\n",
       " 'CCGO_800741',\n",
       " 'CCGO_800746',\n",
       " 'CCGO_800749',\n",
       " 'CCGO_800750',\n",
       " 'CCGO_800751',\n",
       " 'CCGO_800752',\n",
       " 'CCGO_800753',\n",
       " 'CCGO_800754',\n",
       " 'CCGO_800757',\n",
       " 'CCGO_800758',\n",
       " 'CCGO_800759',\n",
       " 'CCGO_800760',\n",
       " 'CCGO_800761',\n",
       " 'CCGO_800770',\n",
       " 'CCGO_800771',\n",
       " 'CCGO_800772',\n",
       " 'CCGO_800773',\n",
       " 'CCGO_800786',\n",
       " 'CCGO_800787',\n",
       " 'CCGO_800790',\n",
       " 'CCGO_800791',\n",
       " 'CCGO_800793',\n",
       " 'CCGO_800794',\n",
       " 'CCGO_800796',\n",
       " 'CCGO_800797',\n",
       " 'CCGO_800798',\n",
       " 'CCGO_800800',\n",
       " 'CCGO_800801',\n",
       " 'CCGO_800802',\n",
       " 'CCGO_800803',\n",
       " 'CCGO_800804',\n",
       " 'CCGO_800813',\n",
       " 'CCGO_800818',\n",
       " 'CCGO_800819',\n",
       " 'CCGO_800820',\n",
       " 'CCGO_800821',\n",
       " 'CCGO_800824',\n",
       " 'CCGO_800825',\n",
       " 'CCGO_800878',\n",
       " 'CCGO_800914',\n",
       " 'CCGO_800915',\n",
       " 'CCGO_800916',\n",
       " 'CCGO_800917',\n",
       " 'CCGO_800919',\n",
       " 'CCGO_800927',\n",
       " 'CCGO_800928',\n",
       " 'CCGO_800929',\n",
       " 'CCGO_800930',\n",
       " 'CCGO_800931',\n",
       " 'CCGO_800934',\n",
       " 'CCGO_800944',\n",
       " 'CCGO_800945',\n",
       " 'CCGO_800948',\n",
       " 'CCGO_800956',\n",
       " 'CCGO_800957',\n",
       " 'CCGO_800958',\n",
       " 'CCGO_800959',\n",
       " 'CCGO_800960',\n",
       " 'CCGO_800961',\n",
       " 'CCGO_800962',\n",
       " 'CCGO_800963',\n",
       " 'CCGO_800964',\n",
       " 'CCGO_800966',\n",
       " 'CCGO_800967',\n",
       " 'CCGO_800968',\n",
       " 'CCGO_800971',\n",
       " 'CCGO_800972',\n",
       " 'CCGO_800973',\n",
       " 'CCGO_800978',\n",
       " 'CCGO_800979',\n",
       " 'CCGO_800983',\n",
       " 'CCGO_800984',\n",
       " 'CCGO_800985',\n",
       " 'CCGO_800986',\n",
       " 'CCGO_800987',\n",
       " 'CCGO_800988',\n",
       " 'CCGO_800990',\n",
       " 'CCGO_800996',\n",
       " 'CCGO_800997',\n",
       " 'CCGO_801001',\n",
       " 'CCGO_801002',\n",
       " 'CCGO_801004',\n",
       " 'CLIA_400041',\n",
       " 'CLIA_400042',\n",
       " 'CLIA_400044',\n",
       " 'CLIA_400048',\n",
       " 'CLIA_400049',\n",
       " 'CLIA_400051',\n",
       " 'CLIA_400052',\n",
       " 'CLIA_400056',\n",
       " 'CLIA_400057',\n",
       " 'CLIA_400061',\n",
       " 'CLIA_400062',\n",
       " 'CLIA_400063',\n",
       " 'CLIA_400064',\n",
       " 'CLIA_400065',\n",
       " 'CLIA_400066',\n",
       " 'CLIA_400067',\n",
       " 'CLIA_400070',\n",
       " 'CLIA_400071',\n",
       " 'CLIA_400075',\n",
       " 'CLIA_400076',\n",
       " 'CLIA_400077',\n",
       " 'CLIA_400078',\n",
       " 'CLIA_400080',\n",
       " 'CLIA_400081',\n",
       " 'CLIA_400082',\n",
       " 'CLIA_400083',\n",
       " 'CLIA_400084',\n",
       " 'CLIA_400085',\n",
       " 'CLIA_400089',\n",
       " 'CLIA_400090',\n",
       " 'CLIA_400091',\n",
       " 'CLIA_400093',\n",
       " 'CLIA_400094',\n",
       " 'CLIA_400095',\n",
       " 'CLIA_400096',\n",
       " 'CLIA_400097',\n",
       " 'CLIA_400098',\n",
       " 'CLIA_400099',\n",
       " 'CLIA_400100',\n",
       " 'CLIA_400101',\n",
       " 'CLIA_400103',\n",
       " 'CLIA_400104',\n",
       " 'WPS_12',\n",
       " 'WPS_13',\n",
       " 'WPS_14',\n",
       " 'WPS_15',\n",
       " 'WPS_16',\n",
       " 'WPS_17',\n",
       " 'WPS_21',\n",
       " 'WPS_22',\n",
       " 'WPS_23',\n",
       " 'WPS_24',\n",
       " 'WPS_25',\n",
       " 'WPS_26',\n",
       " 'WPS_27',\n",
       " 'WPS_29',\n",
       " 'WPS_3',\n",
       " 'WPS_30',\n",
       " 'WPS_31',\n",
       " 'WPS_32',\n",
       " 'WPS_33',\n",
       " 'WPS_4',\n",
       " 'WPS_5',\n",
       " 'WPS_6',\n",
       " 'WPS_7'}"
      ]
     },
     "execution_count": 10,
     "metadata": {},
     "output_type": "execute_result"
    }
   ],
   "source": [
    "fid = open('/home/sudregp/tmp/test.txt', 'w')\n",
    "for s in samples:\n",
    "    fid.write(s+'.DOC.sample_interval_summary\\n')\n",
    "fid.close()\n",
    "samples"
   ]
  },
  {
   "cell_type": "code",
   "execution_count": 15,
   "metadata": {},
   "outputs": [
    {
     "data": {
      "text/plain": [
       "False"
      ]
     },
     "execution_count": 15,
     "metadata": {},
     "output_type": "execute_result"
    }
   ],
   "source": [
    "'CCGO_800979' in kids"
   ]
  },
  {
   "cell_type": "markdown",
   "metadata": {},
   "source": [
    "OK, that makes sense. They're both in a family without WES data for the mother, only dad and son. Let's add them to the exclude list, and start processing at least XHMM: **NOTE that this is the first time I'm running XHMM excluding targets based on extreme GC contents and rpeeated basis!!! Might need to re-run previous stuff as well.**"
   ]
  },
  {
   "cell_type": "code",
   "execution_count": null,
   "metadata": {
    "collapsed": true,
    "scrolled": true
   },
   "outputs": [],
   "source": [
    "# in terminal\n",
    "exome_targets='/data/NCR_SBRB/simplex/SeqCapEZ_Exome_v3.0_Design_Annotation_files/SeqCap_EZ_Exome_v3_hg19_capture_targets.bed'\n",
    "gatk_memory=\"50g\"\n",
    "ref_fa='/fdb/GATK_resource_bundle/hg19-2.8/ucsc.hg19.fasta'\n",
    "out_dir='/data/sudregp/multiplex_simplex/xhmm_replication'\n",
    "\n",
    "cd $out_dir\n",
    "module load GATK\n",
    "module load XHMM\n",
    "\n",
    "GATK -m ${gatk_memory} GCContentByInterval -L ${exome_targets} -R ${ref_fa} -o ./DATA.locus_GC.txt\n",
    "cat ./DATA.locus_GC.txt | awk '{if ($2 < 0.1 || $2 > 0.9) print $1}' > ./extreme_gc_targets.txt\n",
    "\n",
    "# merging all subjects in the directory\n",
    "ls -1 *.sample_interval_summary > depth_list.txt;\n",
    "grep -v -f ../exclude.txt depth_list.txt > depth_list2.txt\n",
    "\n",
    "xhmm --mergeGATKdepths --GATKdepthsList=depth_list2.txt -o ./DATA.RD.txt;\n",
    "\n",
    "# this does the same thing as the XHMM script, but it actually works in parsing \n",
    "# the base pair start and ends\n",
    "cat ${exome_targets} | awk 'BEGIN{OFS=\"\\t\"; print \"#CHR\\tBP1\\tBP2\\tID\"}{print $1, $2, $3, NR}' > ./EXOME.targets.reg\n",
    "\n",
    "pseq . loc-load --locdb ./EXOME.targets.LOCDB --file ./EXOME.targets.reg --group targets --out ./EXOME.target\n",
    "s.LOCDB.loc-load --noweb\n",
    "\n",
    "# this has the same effect as the suggested command, but it actually works\n",
    "pseq . loc-stats --locdb ./EXOME.targets.LOCDB --group targets --seqdb ./seqdb.hg19 --noweb | awk '{if (NR >\n",
    "1) { print  $4, $10 }}' | sed 's/\\.\\./-/' - > ./DATA.locus_complexity.txt\n",
    "\n",
    "cat ./DATA.locus_complexity.txt | awk '{if ($2 > 0.25) print $1}' > ./low_complexity_targets.txt\n",
    "\n",
    "xhmm --matrix -r ./DATA.RD.txt --centerData --centerType target \\\n",
    "-o ./DATA.filtered_centered.RD.txt \\\n",
    "--outputExcludedTargets ./DATA.filtered_centered.RD.txt.filtered_targets.txt \\\n",
    "--outputExcludedSamples ./DATA.filtered_centered.RD.txt.filtered_samples.txt \\\n",
    "--excludeTargets ./extreme_gc_targets.txt --excludeTargets ./low_complexity_targets.txt \\\n",
    "--minTargetSize 10 --maxTargetSize 10000 \\\n",
    "--minMeanTargetRD 10 --maxMeanTargetRD 500 \\\n",
    "--minMeanSampleRD 25 --maxMeanSampleRD 200 \\\n",
    "--maxSdSampleRD 150\n",
    "\n",
    "xhmm --PCA -r ./DATA.filtered_centered.RD.txt --PCAfiles ./DATA.RD_PCA\n",
    "\n",
    "xhmm --normalize -r ./DATA.filtered_centered.RD.txt --PCAfiles ./DATA.RD_PCA \\\n",
    "--normalizeOutput ./DATA.PCA_normalized.txt \\\n",
    "--PCnormalizeMethod PVE_mean --PVE_mean_factor 0.7\n",
    "\n",
    "xhmm --matrix -r ./DATA.PCA_normalized.txt --centerData --centerType sample --zScoreData \\\n",
    "-o ./DATA.PCA_normalized.filtered.sample_zscores.RD.txt \\\n",
    "--outputExcludedTargets ./DATA.PCA_normalized.filtered.sample_zscores.RD.txt.filtered_targets.txt \\\n",
    "--outputExcludedSamples ./DATA.PCA_normalized.filtered.sample_zscores.RD.txt.filtered_samples.txt \\\n",
    "--maxSdTargetRD 30\n",
    "\n",
    "xhmm --matrix -r ./DATA.RD.txt \\\n",
    "--excludeTargets ./DATA.filtered_centered.RD.txt.filtered_targets.txt \\\n",
    "--excludeTargets ./DATA.PCA_normalized.filtered.sample_zscores.RD.txt.filtered_targets.txt \\\n",
    "--excludeSamples ./DATA.filtered_centered.RD.txt.filtered_samples.txt \\\n",
    "--excludeSamples ./DATA.PCA_normalized.filtered.sample_zscores.RD.txt.filtered_samples.txt \\\n",
    "-o ./DATA.same_filtered.RD.txt\n",
    "\n",
    "xhmm --discover -p params.txt -r ./DATA.PCA_normalized.filtered.sample_zscores.RD.txt \\\n",
    "    -R ./DATA.same_filtered.RD.txt -c ./DATA.xcnv -a ./DATA.aux_xcnv -s ./DATA\n",
    "\n",
    "xhmm --genotype -p params.txt -r ./DATA.PCA_normalized.filtered.sample_zscores.RD.txt \\\n",
    "    -R ./DATA.same_filtered.RD.txt -g ./DATA.xcnv -F $ref_fa -v ./DATA.vcf\n",
    "\n"
   ]
  },
  {
   "cell_type": "markdown",
   "metadata": {},
   "source": [
    "Checking if anyone got removed:"
   ]
  },
  {
   "cell_type": "code",
   "execution_count": 12,
   "metadata": {},
   "outputs": [
    {
     "name": "stdout",
     "output_type": "stream",
     "text": [
      "-rw-rw---- 1 sudregp sudregp 0 Jan 25 15:37 DATA.filtered_centered.RD.txt.filtered_samples.txt\n"
     ]
    }
   ],
   "source": [
    "%%bash\n",
    "cd ~/data/multiplex_simplex/xhmm/\n",
    "ls -ltr DATA.filtered_centered.RD.txt.filtered_samples.txt"
   ]
  }
 ],
 "metadata": {
  "kernelspec": {
   "display_name": "Python [default]",
   "language": "python",
   "name": "python2"
  },
  "language_info": {
   "codemirror_mode": {
    "name": "ipython",
    "version": 2
   },
   "file_extension": ".py",
   "mimetype": "text/x-python",
   "name": "python",
   "nbconvert_exporter": "python",
   "pygments_lexer": "ipython2",
   "version": "2.7.14"
  },
  "nav_menu": {},
  "toc": {
   "navigate_menu": true,
   "number_sections": true,
   "sideBar": true,
   "threshold": 6,
   "toc_cell": false,
   "toc_section_display": "block",
   "toc_window_display": false
  }
 },
 "nbformat": 4,
 "nbformat_minor": 2
}
