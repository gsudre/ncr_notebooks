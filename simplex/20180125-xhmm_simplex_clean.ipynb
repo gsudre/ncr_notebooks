{
 "cells": [
  {
   "cell_type": "markdown",
   "metadata": {},
   "source": [
    "Now I'm re-running XHMM to remove targets with high GC content and also low complexity. Like the previous analysis, I'll run only the simplex families with at least 2 kids in them, for the contrast between affected and unaffected. Also have to remember to remove the other 2 samples we always remove."
   ]
  },
  {
   "cell_type": "code",
   "execution_count": 2,
   "metadata": {},
   "outputs": [
    {
     "data": {
      "text/html": [
       "<script>requirejs.config({paths: { 'plotly': ['https://cdn.plot.ly/plotly-latest.min']},});if(!window.Plotly) {{require(['plotly'],function(plotly) {window.Plotly=plotly;});}}</script>"
      ],
      "text/vnd.plotly.v1+html": [
       "<script>requirejs.config({paths: { 'plotly': ['https://cdn.plot.ly/plotly-latest.min']},});if(!window.Plotly) {{require(['plotly'],function(plotly) {window.Plotly=plotly;});}}</script>"
      ]
     },
     "metadata": {},
     "output_type": "display_data"
    }
   ],
   "source": [
    "import numpy as np\n",
    "import matplotlib.pyplot as plt\n",
    "import seaborn as sns\n",
    "import pandas as pd\n",
    "from plotly.offline import download_plotlyjs, init_notebook_mode, plot, iplot\n",
    "\n",
    "init_notebook_mode(connected=True)\n",
    "%matplotlib inline"
   ]
  },
  {
   "cell_type": "code",
   "execution_count": null,
   "metadata": {
    "collapsed": true
   },
   "outputs": [],
   "source": [
    "# in terminal\n",
    "exome_targets='/data/NCR_SBRB/simplex/SeqCapEZ_Exome_v3.0_Design_Annotation_files/SeqCap_EZ_Exome_v3_hg19_capture_targets.bed'\n",
    "gatk_memory=\"50g\"\n",
    "ref_fa='/fdb/GATK_resource_bundle/hg19-2.8/ucsc.hg19.fasta'\n",
    "out_dir='/data/sudregp/cnv/xhmm_clean'\n",
    "\n",
    "cd $out_dir\n",
    "module load GATK\n",
    "module load XHMM\n",
    "\n",
    "GATK -m ${gatk_memory} GCContentByInterval -L ${exome_targets} -R ${ref_fa} -o ./DATA.locus_GC.txt\n",
    "cat ./DATA.locus_GC.txt | awk '{if ($2 < 0.1 || $2 > 0.9) print $1}' > ./extreme_gc_targets.txt\n",
    "\n",
    "# merging all subjects in the directory\n",
    "ls -1 *.sample_interval_summary > depth_list.txt;\n",
    "grep -v -f ../exclude.txt depth_list.txt > depth_list2.txt\n",
    "grep -v -f ../exclude_multikids.txt depth_list2.txt > depth_list3.txt\n",
    "\n",
    "xhmm --mergeGATKdepths --GATKdepthsList=depth_list3.txt -o ./DATA.RD.txt;\n",
    "\n",
    "# this does the same thing as the XHMM script, but it actually works in parsing \n",
    "# the base pair start and ends\n",
    "cat ${exome_targets} | awk 'BEGIN{OFS=\"\\t\"; print \"#CHR\\tBP1\\tBP2\\tID\"}{print $1, $2, $3, NR}' > ./EXOME.targets.reg\n",
    "\n",
    "module load plinkseq\n",
    "pseq . loc-load --locdb ./EXOME.targets.LOCDB --file ./EXOME.targets.reg --group targets \\\n",
    "    --out ./EXOME.targets.LOCDB.loc-load --noweb\n",
    "\n",
    "# this has the same effect as the suggested command, but it actually works\n",
    "pseq . loc-stats --locdb ./EXOME.targets.LOCDB --group targets --seqdb ./seqdb.hg19 --noweb | \\\n",
    "    awk '{if (NR > 1) { print  $4, $10 }}' | sed 's/\\.\\./-/' - > ./DATA.locus_complexity.txt\n",
    "\n",
    "cat ./DATA.locus_complexity.txt | awk '{if ($2 > 0.25) print $1}' > ./low_complexity_targets.txt\n",
    "\n",
    "xhmm --matrix -r ./DATA.RD.txt --centerData --centerType target \\\n",
    "-o ./DATA.filtered_centered.RD.txt \\\n",
    "--outputExcludedTargets ./DATA.filtered_centered.RD.txt.filtered_targets.txt \\\n",
    "--outputExcludedSamples ./DATA.filtered_centered.RD.txt.filtered_samples.txt \\\n",
    "--excludeTargets ./extreme_gc_targets.txt --excludeTargets ./low_complexity_targets.txt \\\n",
    "--minTargetSize 10 --maxTargetSize 10000 \\\n",
    "--minMeanTargetRD 10 --maxMeanTargetRD 500 \\\n",
    "--minMeanSampleRD 25 --maxMeanSampleRD 200 \\\n",
    "--maxSdSampleRD 150\n",
    "\n",
    "xhmm --PCA -r ./DATA.filtered_centered.RD.txt --PCAfiles ./DATA.RD_PCA\n",
    "\n",
    "xhmm --normalize -r ./DATA.filtered_centered.RD.txt --PCAfiles ./DATA.RD_PCA \\\n",
    "--normalizeOutput ./DATA.PCA_normalized.txt \\\n",
    "--PCnormalizeMethod PVE_mean --PVE_mean_factor 0.7\n",
    "\n",
    "xhmm --matrix -r ./DATA.PCA_normalized.txt --centerData --centerType sample --zScoreData \\\n",
    "-o ./DATA.PCA_normalized.filtered.sample_zscores.RD.txt \\\n",
    "--outputExcludedTargets ./DATA.PCA_normalized.filtered.sample_zscores.RD.txt.filtered_targets.txt \\\n",
    "--outputExcludedSamples ./DATA.PCA_normalized.filtered.sample_zscores.RD.txt.filtered_samples.txt \\\n",
    "--maxSdTargetRD 30\n",
    "\n",
    "xhmm --matrix -r ./DATA.RD.txt \\\n",
    "--excludeTargets ./DATA.filtered_centered.RD.txt.filtered_targets.txt \\\n",
    "--excludeTargets ./DATA.PCA_normalized.filtered.sample_zscores.RD.txt.filtered_targets.txt \\\n",
    "--excludeSamples ./DATA.filtered_centered.RD.txt.filtered_samples.txt \\\n",
    "--excludeSamples ./DATA.PCA_normalized.filtered.sample_zscores.RD.txt.filtered_samples.txt \\\n",
    "-o ./DATA.same_filtered.RD.txt\n",
    "\n",
    "xhmm --discover -p params.txt -r ./DATA.PCA_normalized.filtered.sample_zscores.RD.txt \\\n",
    "    -R ./DATA.same_filtered.RD.txt -c ./DATA.xcnv -a ./DATA.aux_xcnv -s ./DATA\n",
    "\n",
    "xhmm --genotype -p params.txt -r ./DATA.PCA_normalized.filtered.sample_zscores.RD.txt \\\n",
    "    -R ./DATA.same_filtered.RD.txt -g ./DATA.xcnv -F $ref_fa -v ./DATA.vcf\n",
    "\n"
   ]
  },
  {
   "cell_type": "markdown",
   "metadata": {},
   "source": [
    "Let's make sure no sample was removed by XHMM this time:"
   ]
  },
  {
   "cell_type": "code",
   "execution_count": 4,
   "metadata": {},
   "outputs": [
    {
     "name": "stdout",
     "output_type": "stream",
     "text": [
      "-rw-rw---- 1 sudregp sudregp 0 Jan 25 16:03 DATA.filtered_centered.RD.txt.filtered_samples.txt\n"
     ]
    }
   ],
   "source": [
    "%%bash\n",
    "cd ~/data/cnv/xhmm_clean/\n",
    "ls -ltr DATA.filtered_centered.RD.txt.filtered_samples.txt"
   ]
  }
 ],
 "metadata": {
  "kernelspec": {
   "display_name": "Python [default]",
   "language": "python",
   "name": "python2"
  },
  "language_info": {
   "codemirror_mode": {
    "name": "ipython",
    "version": 2
   },
   "file_extension": ".py",
   "mimetype": "text/x-python",
   "name": "python",
   "nbconvert_exporter": "python",
   "pygments_lexer": "ipython2",
   "version": "2.7.14"
  },
  "nav_menu": {},
  "toc": {
   "navigate_menu": true,
   "number_sections": true,
   "sideBar": true,
   "threshold": 6,
   "toc_cell": false,
   "toc_section_display": "block",
   "toc_window_display": false
  }
 },
 "nbformat": 4,
 "nbformat_minor": 2
}
