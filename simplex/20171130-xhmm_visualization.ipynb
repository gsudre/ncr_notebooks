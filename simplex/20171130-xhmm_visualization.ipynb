{
 "cells": [
  {
   "cell_type": "markdown",
   "metadata": {},
   "source": [
    "After generating some plots yesterday, let's visualize them, following the guidelines in http://onlinelibrary.wiley.com/store/10.1002/0471142905.hg0723s81/asset/hg0723.pdf?v=1&t=jamnisjt&s=86d029167dab640c2a8a165feefb1b500ccfefd5&systemMessage=Wiley+Online+Library+usage+report+download+page+will+be+unavailable+on+Friday+24th+November+2017+at+21%3A00+EST+%2F+02.00+GMT+%2F+10%3A00+SGT+%28Saturday+25th+Nov+for+SGT+:"
   ]
  },
  {
   "cell_type": "code",
   "execution_count": 13,
   "metadata": {},
   "outputs": [
    {
     "data": {
      "image/png": "[encoded data removed]",
      "text/plain": [
       "<IPython.core.display.Image object>"
      ]
     },
     "metadata": {},
     "output_type": "display_data"
    }
   ],
   "source": [
    "from IPython.display import display, Image\n",
    "\n",
    "# used convert x y form ImageMagick in BW to go from pdf to png\n",
    "display(Image('/data/NCR_SBRB/simplex/xhmm/plots/mean_sample_coverage-0.png'))"
   ]
  },
  {
   "cell_type": "markdown",
   "metadata": {},
   "source": [
    "This makes sense, as our mean read depth is 50 (see cnvnator note). And I bet the sample with low coverage is the one that was dropped in the analysis... "
   ]
  },
  {
   "cell_type": "code",
   "execution_count": 17,
   "metadata": {},
   "outputs": [
    {
     "data": {
      "image/png": "[encoded data removed]",
      "text/plain": [
       "<IPython.core.display.Image object>"
      ]
     },
     "metadata": {},
     "output_type": "display_data"
    }
   ],
   "source": [
    "display(Image('/data/NCR_SBRB/simplex/xhmm/plots/PC_stddev.png'))"
   ]
  },
  {
   "cell_type": "markdown",
   "metadata": {},
   "source": [
    "PCs removed are also OK, maybe even a higher number. But we should include a pedigree later if we want to learn more about the PCs, so we can make sure they capture interesting things."
   ]
  },
  {
   "cell_type": "markdown",
   "metadata": {},
   "source": [
    "----"
   ]
  },
  {
   "cell_type": "markdown",
   "metadata": {},
   "source": [
    "Let's go back to the previous analysis and check if our separation among groups looks OK."
   ]
  },
  {
   "cell_type": "code",
   "execution_count": 18,
   "metadata": {
    "collapsed": true
   },
   "outputs": [],
   "source": [
    "import vcf\n",
    "import numpy as np\n",
    "import matplotlib.pyplot as plt\n",
    "import seaborn as sns\n",
    "import pandas as pd\n",
    "\n",
    "%matplotlib inline"
   ]
  },
  {
   "cell_type": "code",
   "execution_count": 19,
   "metadata": {
    "collapsed": true
   },
   "outputs": [],
   "source": [
    "# figure out who is who in each trio\n",
    "\n",
    "import glob\n",
    "data_dir = '/data/NCR_SBRB/simplex/'\n",
    "trios = {}\n",
    "affected = []\n",
    "controls = []\n",
    "peds = glob.glob(data_dir + '*trio*ped')\n",
    "for ped in peds:\n",
    "    trio_name = ped.split('/')[-1].split('.')[0]\n",
    "    fid = open(ped, 'r')\n",
    "    fam = {}\n",
    "    for line in fid:\n",
    "        famid, sid, fa, mo, sex, aff = line.rstrip().split('\\t')\n",
    "        if fa != '0':\n",
    "            fam['child'] = sid\n",
    "            if aff == '1':\n",
    "                affected.append(trio_name)\n",
    "            else:\n",
    "                controls.append(trio_name)\n",
    "        elif sex == '1':\n",
    "            fam['father'] = sid\n",
    "        else:\n",
    "            fam['mother'] = sid\n",
    "    trios[trio_name] = fam\n",
    "    fid.close()\n",
    "    \n",
    "fid = open('/data/NCR_SBRB/simplex/famids.txt', 'r')\n",
    "fams = [t.rstrip() for t in fid]\n",
    "fid.close()\n",
    "\n",
    "# CCGO_800976 was removed during sample filtering step in XHMM\n",
    "del trios['10369_trio1']\n",
    "del trios['10369_trio2']\n",
    "fams.remove('10369')"
   ]
  },
  {
   "cell_type": "code",
   "execution_count": 20,
   "metadata": {
    "collapsed": true
   },
   "outputs": [],
   "source": [
    "# saving the important metrics from VCFs\n",
    "vcf_reader = vcf.Reader(open('/data/NCR_SBRB/simplex/xhmm/DATA.vcf', 'r'))\n",
    "SQs = {}\n",
    "LQs = {}\n",
    "RQs = {}\n",
    "NQs = {}\n",
    "cnv_start, cnv_end = [], []\n",
    "for sample in vcf_reader.samples:\n",
    "    SQs[sample] = []\n",
    "    LQs[sample] = []\n",
    "    RQs[sample] = []\n",
    "    NQs[sample] = []\n",
    "for record in vcf_reader:\n",
    "    cnv_start.append(record.start)\n",
    "    cnv_end.append(record.end)\n",
    "    for sample in record.samples:\n",
    "        SQs[sample.sample].append(sample.data.SQ)\n",
    "        LQs[sample.sample].append(sample.data.LQ)\n",
    "        RQs[sample.sample].append(sample.data.RQ)\n",
    "        NQs[sample.sample].append(sample.data.NQ)"
   ]
  },
  {
   "cell_type": "markdown",
   "metadata": {},
   "source": [
    "For the disruptive criteria, we'll need to know which records have start or end within a gene transcript:"
   ]
  },
  {
   "cell_type": "code",
   "execution_count": 21,
   "metadata": {
    "collapsed": true
   },
   "outputs": [],
   "source": [
    "annot = pd.read_table('/data/NCR_SBRB/simplex/xhmm/annotated_targets.refseq.loci',\n",
    "                      names=['window', 'nannot', 'names'], header=None)\n",
    "trans_start, trans_end = [], []\n",
    "for pos, nannot in zip(annot.window, annot.nannot):\n",
    "    if nannot > 0:\n",
    "        start, end = pos.split(':')[-1].split('..')\n",
    "        trans_start.append(int(start))\n",
    "        trans_end.append(int(end))\n",
    "trans_start = np.array(trans_start)\n",
    "trans_end = np.array(trans_end)\n",
    "\n",
    "left_transcript, right_transcript = [], []\n",
    "for l, r in zip(cnv_start, cnv_end):\n",
    "    left_transcript.append(np.any((trans_start < l) & (trans_end > l)))\n",
    "    right_transcript.append(np.any((trans_start < r) & (trans_end > r)))\n",
    "left_transcript = np.array(left_transcript)\n",
    "right_transcript = np.array(right_transcript)"
   ]
  },
  {
   "cell_type": "code",
   "execution_count": 22,
   "metadata": {
    "collapsed": true
   },
   "outputs": [],
   "source": [
    "quality = np.arange(10, 100, 10)\n",
    "ntrios = len(trios)\n",
    "trans_rate = np.zeros([ntrios, len(quality)])\n",
    "denovo = np.zeros([ntrios, len(quality)])\n",
    "disruptive_dnm = np.zeros([ntrios, len(quality)])\n",
    "disruptive_inh = np.zeros([ntrios, len(quality)])\n",
    "cnvs = np.zeros([ntrios, len(quality)])\n",
    "for q, qual in enumerate(quality):\n",
    "    qual_prime = qual / 2.0\n",
    "    for t, trio in enumerate(trios.keys()):\n",
    "        some_deletion = np.any(np.array(SQs[trios[trio]['child']]) >= qual,\n",
    "                               axis=1)\n",
    "        cnvs[t, q] = np.sum(some_deletion)\n",
    "        \n",
    "        # denovo criteria\n",
    "        mom_diploid = np.any(np.array(NQs[trios[trio]['mother']]) >= qual,\n",
    "                             axis=1)\n",
    "        dad_diploid = np.any(np.array(NQs[trios[trio]['father']]) >= qual,\n",
    "                             axis=1)\n",
    "        child_dnms = np.logical_and(some_deletion,\n",
    "                                    np.logical_and(mom_diploid, dad_diploid))\n",
    "        denovo[t, q] = np.sum(child_dnms)\n",
    "        \n",
    "        # transmitted criteria\n",
    "        mom_deletion = np.any(np.array(SQs[trios[trio]['mother']]) >= qual,\n",
    "                              axis=1)\n",
    "        mom_source = np.logical_and(mom_deletion, dad_diploid)\n",
    "        dad_deletion = np.any(np.array(SQs[trios[trio]['father']]) >= qual,\n",
    "                              axis=1)\n",
    "        dad_source = np.logical_and(dad_deletion, mom_diploid)\n",
    "        transmitted = np.logical_or(np.logical_and(mom_source, some_deletion),\n",
    "                                    np.logical_and(dad_source, some_deletion))\n",
    "        \n",
    "        child_diploid = np.any(np.array(NQs[trios[trio]['child']]) >= qual,\n",
    "                               axis=1)\n",
    "        not_transmitted = np.logical_or(np.logical_and(mom_source,\n",
    "                                                       child_diploid),\n",
    "                                        np.logical_and(dad_source,\n",
    "                                                       child_diploid))\n",
    "        trans_rate[t, q] = float(np.sum(transmitted)) / (np.sum(transmitted) +\n",
    "                                                         np.sum(not_transmitted))\n",
    "        \n",
    "        # disruptive criteria\n",
    "        good_left = np.any(np.array(LQs[trios[trio]['child']]) >= qual_prime,\n",
    "                           axis=1)\n",
    "        good_right = np.any(np.array(RQs[trios[trio]['child']]) >= qual_prime,\n",
    "                            axis=1)\n",
    "        in_gene = np.logical_and(np.logical_or(good_left, good_right),\n",
    "                                 np.logical_or(left_transcript, right_transcript))\n",
    "        idx = np.logical_and(child_dnms, in_gene)\n",
    "        disruptive_dnm[t, q] = np.sum(idx)\n",
    "        idx = np.logical_and(transmitted, in_gene)\n",
    "        disruptive_inh[t, q] = np.sum(idx)"
   ]
  },
  {
   "cell_type": "code",
   "execution_count": 23,
   "metadata": {},
   "outputs": [
    {
     "data": {
      "text/plain": [
       "([<matplotlib.axis.XTick at 0x2aab06371210>,\n",
       "  <matplotlib.axis.XTick at 0x2aab06362110>,\n",
       "  <matplotlib.axis.XTick at 0x2aab063d6f10>,\n",
       "  <matplotlib.axis.XTick at 0x2aab064f8850>,\n",
       "  <matplotlib.axis.XTick at 0x2aab064f8f50>,\n",
       "  <matplotlib.axis.XTick at 0x2aab06502690>,\n",
       "  <matplotlib.axis.XTick at 0x2aab06502d90>,\n",
       "  <matplotlib.axis.XTick at 0x2aab0650f4d0>,\n",
       "  <matplotlib.axis.XTick at 0x2aab0650fbd0>],\n",
       " <a list of 9 Text xticklabel objects>)"
      ]
     },
     "execution_count": 23,
     "metadata": {},
     "output_type": "execute_result"
    },
    {
     "data": {
      "image/png": "[encoded data removed]",
      "text/plain": [
       "<matplotlib.figure.Figure at 0x2aab02965290>"
      ]
     },
     "metadata": {},
     "output_type": "display_data"
    }
   ],
   "source": [
    "fig = plt.figure(figsize=(15, 5))\n",
    "plt.subplot(1, 3, 1)\n",
    "sns.boxplot(data=[disruptive_dnm[:, q] + disruptive_inh[:, q] for q in range(len(quality))], orient='v')\n",
    "plt.xlabel('quality')\n",
    "plt.title('CNV events per child')\n",
    "plt.xticks(range(len(quality)), quality)\n",
    "\n",
    "plt.subplot(1, 3, 2)\n",
    "sns.boxplot(data=[disruptive_dnm[:, q] for q in range(len(quality))], orient='v')\n",
    "plt.xlabel('quality')\n",
    "plt.title('De novo events')\n",
    "plt.xticks(range(len(quality)), quality)\n",
    "\n",
    "plt.subplot(1, 3, 3)\n",
    "sns.boxplot(data=[trans_rate[:, q] for q in range(len(quality))], orient='v')\n",
    "plt.xlabel('quality')\n",
    "plt.title('CNV transmission rates')\n",
    "plt.xticks(range(len(quality)), quality)"
   ]
  },
  {
   "cell_type": "markdown",
   "metadata": {},
   "source": [
    "This seems a bit high still, even at quality threshold of 60. Like, median DNM of 50? We can play with this more later. "
   ]
  },
  {
   "cell_type": "code",
   "execution_count": 24,
   "metadata": {
    "collapsed": true
   },
   "outputs": [],
   "source": [
    "quality = np.arange(10, 100, 10)\n",
    "means = np.zeros([3, len(quality)])\n",
    "for q, qual in enumerate(quality):\n",
    "    aff = []\n",
    "    unaff_pair = []\n",
    "    unaff_all = []\n",
    "    for fam in fams:\n",
    "        # this family only has an affected trio\n",
    "        if fam != '10042':\n",
    "            keys = [k for k in trios.iterkeys() if k.find(fam)==0]\n",
    "            keys.sort()\n",
    "            k = [k for k in range(len(trios.keys())) if trios.keys()[k] == keys[0]]\n",
    "            aff.append(disruptive_dnm[k[0], q])\n",
    "            k = [k for k in range(len(trios.keys())) if trios.keys()[k] == keys[1]]\n",
    "            unaff_pair.append(disruptive_dnm[k[0], q])\n",
    "            for mykey in keys[1:]:\n",
    "                k = [k for k in range(len(trios.keys())) if trios.keys()[k] == mykey]\n",
    "                unaff_all.append(disruptive_dnm[k[0], q])\n",
    "    means[0, q] = np.mean(aff)\n",
    "    means[1, q] = np.mean(unaff_pair)\n",
    "    means[2, q] = np.mean(unaff_all)"
   ]
  },
  {
   "cell_type": "code",
   "execution_count": 25,
   "metadata": {},
   "outputs": [
    {
     "data": {
      "text/plain": [
       "<matplotlib.text.Text at 0x2aab0650f110>"
      ]
     },
     "execution_count": 25,
     "metadata": {},
     "output_type": "execute_result"
    },
    {
     "data": {
      "image/png": "[encoded data removed]",
      "text/plain": [
       "<matplotlib.figure.Figure at 0x2aaaf0338490>"
      ]
     },
     "metadata": {},
     "output_type": "display_data"
    }
   ],
   "source": [
    "plt.figure()\n",
    "plt.plot(quality, means[0, :], '.', color='r', markersize=20)\n",
    "plt.plot(quality, means[1, :], '.', color='b', markersize=20)\n",
    "plt.plot(quality, means[2, :], '.', color='g', markersize=20)\n",
    "plt.legend(['affected', 'one unaff pair', 'all unaff pairs'])\n",
    "plt.xlabel('quality')\n",
    "plt.title('disruptive de novo CNVs')"
   ]
  },
  {
   "cell_type": "markdown",
   "metadata": {},
   "source": [
    "Are they statistically significant?"
   ]
  },
  {
   "cell_type": "code",
   "execution_count": 26,
   "metadata": {},
   "outputs": [
    {
     "name": "stdout",
     "output_type": "stream",
     "text": [
      "Only one pair per family:\n",
      "Nonparametric: [0.070128236871877928, 0.083556366675359581, 0.11186004073658172, 0.16481498744990153, 0.064122415497433194, 0.17102205287629391, 0.62902344943296062, 0.861577160346924, 0.79287321599221217]\n",
      "T-test: [0.23764378375007739, 0.23547973161928734, 0.24191452323790191, 0.25661338025097347, 0.16167183236070187, 0.31105140149251315, 0.76514621594480459, 0.85380278060503512, 0.70663381773267164]\n",
      "All pairs:\n",
      "Non-parametric: [0.0068446795486283088, 0.010469899532885737, 0.017492164855610573, 0.018449901165532391, 0.0098440027359465582, 0.079811001869023568, 0.2696033600551242, 0.31922894453921491, 0.41363523064325219]\n",
      "T-test: [0.017168117501190676, 0.019194019275482085, 0.030507403107781782, 0.038820911107562361, 0.025465402458775346, 0.10161143463501088, 0.43708042225898402, 0.57980063039312357, 0.89683859834044533]\n"
     ]
    }
   ],
   "source": [
    "quality = np.arange(10, 100, 10)\n",
    "from scipy import stats\n",
    "rel_ps = []\n",
    "wilcoxon_ps = []\n",
    "for q, qual in enumerate(quality):\n",
    "    x, y = [], []\n",
    "    for fam in fams:\n",
    "        # this family only has an affected trio\n",
    "        if fam != '10042':\n",
    "            keys = [k for k in trios.iterkeys() if k.find(fam)==0]\n",
    "            keys.sort()\n",
    "            k = [k for k in range(len(trios.keys())) if trios.keys()[k] == keys[0]]\n",
    "            x.append(disruptive_dnm[k[0], q])\n",
    "            k = [k for k in range(len(trios.keys())) if trios.keys()[k] == keys[1]]\n",
    "            y.append(disruptive_dnm[k[0], q])\n",
    "    stat, pval = stats.wilcoxon(x, y)\n",
    "    wilcoxon_ps.append(pval)\n",
    "    stat, pval = stats.ttest_rel(x, y)\n",
    "    rel_ps.append(pval)\n",
    "print 'Only one pair per family:'\n",
    "print 'Nonparametric:', wilcoxon_ps\n",
    "print 'T-test:', rel_ps\n",
    "\n",
    "ttest_ps = []\n",
    "mann_ps = []\n",
    "for q, qual in enumerate(quality):\n",
    "    x, y = [], []\n",
    "    for fam in fams:\n",
    "        # this family only has an affected trio\n",
    "        if fam != '10042':\n",
    "            keys = [k for k in trios.iterkeys() if k.find(fam)==0]\n",
    "            keys.sort()\n",
    "            k = [k for k in range(len(trios.keys())) if trios.keys()[k] == keys[0]]\n",
    "            x.append(disruptive_dnm[k[0], q])\n",
    "            for mykey in keys[1:]:\n",
    "                k = [k for k in range(len(trios.keys())) if trios.keys()[k] == mykey]\n",
    "                y.append(disruptive_dnm[k[0], q])\n",
    "    stat, pval = stats.mannwhitneyu(x, y)\n",
    "    mann_ps.append(pval)\n",
    "    stat, pval = stats.ttest_ind(x, y)\n",
    "    ttest_ps.append(pval)\n",
    "print 'All pairs:'\n",
    "print 'Non-parametric:', mann_ps\n",
    "print 'T-test:', ttest_ps"
   ]
  },
  {
   "cell_type": "markdown",
   "metadata": {},
   "source": [
    "The higher quality we demand, the less significant it gets. Not good. Let's just make sure we're running this correctly. We pick a couple offsprings with denovo mutations and make sure all criteria are met:"
   ]
  },
  {
   "cell_type": "code",
   "execution_count": 35,
   "metadata": {},
   "outputs": [
    {
     "name": "stdout",
     "output_type": "stream",
     "text": [
      "2.0\n",
      "{'mother': 'CLIA_400147', 'father': 'CLIA_400150', 'child': 'CLIA_400148'}\n"
     ]
    }
   ],
   "source": [
    "t = 0\n",
    "print disruptive_dnm[t, 8]\n",
    "print trios[trios.keys()[t]]"
   ]
  },
  {
   "cell_type": "markdown",
   "metadata": {},
   "source": [
    "So, this kid has 2 CNVs matching the disruptive denovo criteria at Q >= 90. Is that true?"
   ]
  },
  {
   "cell_type": "code",
   "execution_count": 55,
   "metadata": {},
   "outputs": [
    {
     "name": "stdout",
     "output_type": "stream",
     "text": [
      "Some deletion: 824\n",
      "De novo: 348\n",
      "In gene: 7\n",
      "CNV denovo in gene: 2\n",
      "start: 49490484 end: 49490489\n",
      "start: 49490484 end: 49490489\n"
     ]
    }
   ],
   "source": [
    "qual = 90\n",
    "trio = trios.keys()[0]\n",
    "some_deletion = np.any(np.array(SQs[trios[trio]['child']]) >= qual,\n",
    "                       axis=1)\n",
    "print 'Some deletion:', np.sum(some_deletion)\n",
    "        \n",
    "mom_diploid = np.any(np.array(NQs[trios[trio]['mother']]) >= qual,\n",
    "                     axis=1)\n",
    "dad_diploid = np.any(np.array(NQs[trios[trio]['father']]) >= qual,\n",
    "                     axis=1)\n",
    "child_dnms = np.logical_and(some_deletion,\n",
    "                            np.logical_and(mom_diploid, dad_diploid))\n",
    "print 'De novo:', np.sum(child_dnms)\n",
    "        \n",
    "good_left = np.any(np.array(LQs[trios[trio]['child']]) >= qual_prime,\n",
    "                   axis=1)\n",
    "good_right = np.any(np.array(RQs[trios[trio]['child']]) >= qual_prime,\n",
    "                    axis=1)\n",
    "in_gene = np.logical_and(np.logical_or(good_left, good_right),\n",
    "                         np.logical_or(left_transcript, right_transcript))\n",
    "print 'In gene:', np.sum(in_gene)\n",
    "idx = np.logical_and(child_dnms, in_gene)\n",
    "print 'CNV denovo in gene:', np.sum(idx)\n",
    "for i in np.nonzero(idx)[0]:\n",
    "    print 'start:', cnv_start[i], 'end:', cnv_end[i]"
   ]
  },
  {
   "cell_type": "markdown",
   "metadata": {},
   "source": [
    "This is getting a bit cumbersome... their protocol paper suggests analysis with plink/seq, so let's try that instead in a different notebook."
   ]
  },
  {
   "cell_type": "markdown",
   "metadata": {},
   "source": [
    "# TODO:\n",
    "\n",
    "* make sure that the whole disruptive gene thingy is working properly (look at figures)\n",
    "* better to run PCA within groups? are controls biasing the results? check literature. might need ot run other tools instead\n",
    "* number of rare denovo CNVs present only in affected trio, and compare it to numbers only in unaffected trio!\n",
    "* check different parameters in HMM to end up with less CNVs\n",
    "* if we add the brain to this, instead of doing nv vs adhd contrast, could we do brain correlations?\n",
    "* incorporate multiplex samples in the analysis"
   ]
  }
 ],
 "metadata": {
  "kernelspec": {
   "display_name": "Python [default]",
   "language": "python",
   "name": "python2"
  },
  "language_info": {
   "codemirror_mode": {
    "name": "ipython",
    "version": 2
   },
   "file_extension": ".py",
   "mimetype": "text/x-python",
   "name": "python",
   "nbconvert_exporter": "python",
   "pygments_lexer": "ipython2",
   "version": "2.7.13"
  },
  "nav_menu": {},
  "toc": {
   "navigate_menu": true,
   "number_sections": true,
   "sideBar": true,
   "threshold": 6,
   "toc_cell": false,
   "toc_section_display": "block",
   "toc_window_display": false
  }
 },
 "nbformat": 4,
 "nbformat_minor": 2
}
