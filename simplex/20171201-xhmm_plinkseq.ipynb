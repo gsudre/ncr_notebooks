{
 "cells": [
  {
   "cell_type": "markdown",
   "metadata": {},
   "source": [
    "Let's continue the work form the day before, and dive a bit more into using plink/pseq combination on our data."
   ]
  },
  {
   "cell_type": "code",
   "execution_count": 1,
   "metadata": {},
   "outputs": [
    {
     "name": "stdout",
     "output_type": "stream",
     "text": [
      "[+] Loading GSL 2.2.1 ...\n",
      "[+] Loading Graphviz v2.38.0 ...\n",
      "[+] Loading gdal 2.0 ...\n",
      "[+] Loading proj 4.9.2 ...\n",
      "[+] Loading gcc 4.9.1 ...\n",
      "[+] Loading openmpi 1.10.0 for GCC 4.9.1\n",
      "[+] Loading tcl_tk 8.6.3\n",
      "[+] Loading Zlib 1.2.8 ...\n",
      "[+] Loading Bzip2 1.0.6 ...\n",
      "[+] Loading pcre 8.38 ...\n",
      "[+] Loading liblzma 5.2.2 ...\n",
      "[-] Unloading Zlib 1.2.8 ...\n",
      "[+] Loading Zlib 1.2.8 ...\n",
      "[-] Unloading liblzma 5.2.2 ...\n",
      "[+] Loading liblzma 5.2.2 ...\n",
      "[+] Loading libjpeg-turbo 1.5.1 ...\n",
      "[+] Loading tiff 4.0.7 ...\n",
      "[+] Loading curl 7.46.0 ...\n",
      "[+] Loading boost libraries v1.65 ...\n",
      "[+] Loading R 3.4.0 on cn3592\n"
     ]
    }
   ],
   "source": [
    "module load plinkseq\n",
    "module load plink/1.07\n",
    "\n",
    "cd /data/NCR_SBRB/simplex/xhmm"
   ]
  },
  {
   "cell_type": "code",
   "execution_count": 3,
   "metadata": {},
   "outputs": [
    {
     "name": "stdout",
     "output_type": "stream",
     "text": [
      "-rw-rw---- 1 sudregp NCR_SBRB  626 Nov 30 16:55 DATA_gene_disrupt.pseq\n",
      "-rw-rw---- 1 sudregp NCR_SBRB   98 Nov 30 16:56 DATA_gene_disrupt.denovo.cnv\n",
      "-rw-rw---- 1 sudregp NCR_SBRB  242 Nov 30 16:57 DATA_gene_disrupt.denovo.cnv.indiv\n",
      "-rw-rw---- 1 sudregp NCR_SBRB  964 Nov 30 16:57 DATA_gene_disrupt.log\n",
      "\n",
      "DATA_gene_disrupt_res:\n",
      "total 256\n",
      "-rw-r----- 1 sudregp NCR_SBRB 40960 Nov 30 16:55 locdb\n",
      "-rw-r----- 1 sudregp NCR_SBRB 10240 Nov 30 16:55 refdb\n",
      "\n",
      "DATA_gene_disrupt_out:\n",
      "total 14464\n",
      "-rw-r----- 1 sudregp NCR_SBRB     9216 Nov 30 16:55 inddb\n",
      "-rw-r----- 1 sudregp NCR_SBRB 14598144 Nov 30 16:55 vardb\n"
     ]
    }
   ],
   "source": [
    "ls -ltr DATA_gene_disrupt*"
   ]
  },
  {
   "cell_type": "code",
   "execution_count": 15,
   "metadata": {},
   "outputs": [
    {
     "name": "stdout",
     "output_type": "stream",
     "text": [
      "13773 DATA.cnv\n",
      "8344 DATA_gene_disrupt.cnv\n"
     ]
    }
   ],
   "source": [
    "cp DATA.gene_disrupt.cnv DATA_gene_disrupt.cnv\n",
    "echo `wc -l DATA.cnv`\n",
    "echo `wc -l DATA_gene_disrupt.cnv`"
   ]
  },
  {
   "cell_type": "markdown",
   "metadata": {},
   "source": [
    "So, removing CNVs that don't have either left or right positions crossing a gene removes about 5K CNVs."
   ]
  },
  {
   "cell_type": "code",
   "execution_count": 17,
   "metadata": {},
   "outputs": [
    {
     "name": "stdout",
     "output_type": "stream",
     "text": [
      "\n",
      "@----------------------------------------------------------@\n",
      "|        PLINK!       |     v1.07      |   10/Aug/2009     |\n",
      "|----------------------------------------------------------|\n",
      "|  (C) 2009 Shaun Purcell, GNU General Public License, v2  |\n",
      "|----------------------------------------------------------|\n",
      "|  For documentation, citation & bug-report instructions:  |\n",
      "|        http://pngu.mgh.harvard.edu/purcell/plink/        |\n",
      "@----------------------------------------------------------@\n",
      "\n",
      "Skipping web check... [ --noweb ] \n",
      "Writing this text to log file [ DATA_gene_disrupt.log ]\n",
      "Analysis started: Fri Dec  1 09:31:11 2017\n",
      "\n",
      "Options in effect:\n",
      "\t--cfile DATA_gene_disrupt\n",
      "\t--cnv-make-map\n",
      "\t--out DATA_gene_disrupt\n",
      "\t--noweb\n",
      "\n",
      "\n",
      "Reading segment list (CNVs) from [ DATA_gene_disrupt.cnv ]\n",
      "Writing new MAP file to [ DATA_gene_disrupt.cnv.map ]\n",
      "Wrote 9694 unique positions to file\n",
      "\n",
      "Analysis finished: Fri Dec  1 09:31:11 2017\n",
      "\n",
      "\n",
      "@----------------------------------------------------------@\n",
      "|        PLINK!       |     v1.07      |   10/Aug/2009     |\n",
      "|----------------------------------------------------------|\n",
      "|  (C) 2009 Shaun Purcell, GNU General Public License, v2  |\n",
      "|----------------------------------------------------------|\n",
      "|  For documentation, citation & bug-report instructions:  |\n",
      "|        http://pngu.mgh.harvard.edu/purcell/plink/        |\n",
      "@----------------------------------------------------------@\n",
      "\n",
      "Skipping web check... [ --noweb ] \n",
      "Writing this text to log file [ plink.log ]\n",
      "Analysis started: Fri Dec  1 09:31:11 2017\n",
      "\n",
      "Options in effect:\n",
      "\t--cfile DATA_gene_disrupt\n",
      "\t--noweb\n",
      "\t--cnv-check-no-overlap\n",
      "\n",
      "Reading marker information from [ DATA_gene_disrupt.cnv.map ]\n",
      "9694 (of 9694) markers to be included from [ DATA_gene_disrupt.cnv.map ]\n",
      "Reading individual information from [ DATA_gene_disrupt.fam ]\n",
      "Reading pedigree information from [ DATA_gene_disrupt.fam ] \n",
      "98 individuals read from [ DATA_gene_disrupt.fam ] \n",
      "98 individuals with nonmissing phenotypes\n",
      "Assuming a disease phenotype (1=unaff, 2=aff, 0=miss)\n",
      "Missing phenotype value is also -9\n",
      "0 cases, 98 controls and 0 missing\n",
      "98 males, 0 females, and 0 of unspecified sex\n",
      "\n",
      "Reading segment list (CNVs) from [ DATA_gene_disrupt.cnv ]\n",
      "No overlapping samples found\n",
      "8343 mapped to a person, of which 8343 passed filters\n",
      "8343 of 8343 mapped as valid segments\n",
      " CopyN Case/Control\n",
      "     1     0 / 3997\n",
      "     3     0 / 4346\n",
      "\n",
      "Writing per-individual summary to [ plink.cnv.indiv ]\n",
      "Writing positional summary to [ plink.cnv.summary ]\n",
      "\n",
      "Analysis finished: Fri Dec  1 09:31:11 2017\n",
      "\n"
     ]
    }
   ],
   "source": [
    "cp DATA.fam DATA_gene_disrupt.fam\n",
    "plink --cfile DATA_gene_disrupt --cnv-make-map --out DATA_gene_disrupt --noweb\n",
    "plink --cfile DATA_gene_disrupt --noweb --cnv-check-no-overlap"
   ]
  },
  {
   "cell_type": "code",
   "execution_count": 34,
   "metadata": {},
   "outputs": [
    {
     "name": "stdout",
     "output_type": "stream",
     "text": [
      "          FID  IID  PHE     NSEG       KB    KBAVG \n",
      "  CCGO_800977    1    1       73  2419.25  33.1404 \n",
      "  CCGO_800979    1    1       81   3014.8  37.2198 \n",
      "  CCGO_800980    1    1       76  1620.65  21.3243 \n",
      "  CLIA_400121    1    1       96  3880.75  40.4245 \n",
      "  CLIA_400122    1    1      113  3439.57  30.4387 \n",
      "  CLIA_400123    1    1       89  4009.39  45.0493 \n",
      "  CLIA_400125    1    1       80  2355.72  29.4465 \n",
      "  CLIA_400126    1    1      112  3237.89  28.9097 \n",
      "  CLIA_400127    1    1       96  3474.83  36.1961 \n"
     ]
    }
   ],
   "source": [
    "head plink.cnv.indiv"
   ]
  },
  {
   "cell_type": "markdown",
   "metadata": {},
   "source": [
    "OK, so this is nice. Now I have a CNV burden for each sample, which means how many CNVs each subject has. We can further separate them as deletions and duplications using the plink commands. We can also try to filter them by quality and by denovo/inherited. I can do that inpseq or plink. The SCORE filter in PLINK applies well here, as well as --cnv-del and --cnv-dup. IF we we want to be sticklers, we can also filter based on segment sites and size, but let's not go crazy for now. For example, to get only the scores with SQ > 60, we do:"
   ]
  },
  {
   "cell_type": "code",
   "execution_count": 31,
   "metadata": {},
   "outputs": [
    {
     "name": "stdout",
     "output_type": "stream",
     "text": [
      "\n",
      "@----------------------------------------------------------@\n",
      "|        PLINK!       |     v1.07      |   10/Aug/2009     |\n",
      "|----------------------------------------------------------|\n",
      "|  (C) 2009 Shaun Purcell, GNU General Public License, v2  |\n",
      "|----------------------------------------------------------|\n",
      "|  For documentation, citation & bug-report instructions:  |\n",
      "|        http://pngu.mgh.harvard.edu/purcell/plink/        |\n",
      "@----------------------------------------------------------@\n",
      "\n",
      "Skipping web check... [ --noweb ] \n",
      "Writing this text to log file [ DATA_gene_disrupt_bt60.log ]\n",
      "Analysis started: Fri Dec  1 09:47:10 2017\n",
      "\n",
      "Options in effect:\n",
      "\t--cfile DATA_gene_disrupt\n",
      "\t--noweb\n",
      "\t--cnv-check-no-overlap\n",
      "\t--cnv-score 60\n",
      "\t--out DATA_gene_disrupt_bt60\n",
      "\n",
      "Reading marker information from [ DATA_gene_disrupt.cnv.map ]\n",
      "9694 (of 9694) markers to be included from [ DATA_gene_disrupt.cnv.map ]\n",
      "Reading individual information from [ DATA_gene_disrupt.fam ]\n",
      "Reading pedigree information from [ DATA_gene_disrupt.fam ] \n",
      "98 individuals read from [ DATA_gene_disrupt.fam ] \n",
      "98 individuals with nonmissing phenotypes\n",
      "Assuming a disease phenotype (1=unaff, 2=aff, 0=miss)\n",
      "Missing phenotype value is also -9\n",
      "0 cases, 98 controls and 0 missing\n",
      "98 males, 0 females, and 0 of unspecified sex\n",
      "\n",
      "Reading segment list (CNVs) from [ DATA_gene_disrupt.cnv ]\n",
      "No overlapping samples found\n",
      "8343 mapped to a person, of which 5913 passed filters\n",
      "5913 of 8343 mapped as valid segments\n",
      " CopyN Case/Control\n",
      "     1     0 / 2847\n",
      "     3     0 / 3066\n",
      "\n",
      "Writing per-individual summary to [ DATA_gene_disrupt_bt60.cnv.indiv ]\n",
      "Writing positional summary to [ DATA_gene_disrupt_bt60.cnv.summary ]\n",
      "\n",
      "Analysis finished: Fri Dec  1 09:47:10 2017\n",
      "\n"
     ]
    }
   ],
   "source": [
    "plink --cfile DATA_gene_disrupt --noweb --cnv-check-no-overlap --cnv-score 60 --out DATA_gene_disrupt_bt60"
   ]
  },
  {
   "cell_type": "code",
   "execution_count": 33,
   "metadata": {},
   "outputs": [
    {
     "name": "stdout",
     "output_type": "stream",
     "text": [
      "          FID  IID  PHE     NSEG       KB    KBAVG \n",
      "  CCGO_800977    1    1       51  2045.74  40.1125 \n",
      "  CCGO_800979    1    1       54  2689.07  49.7976 \n",
      "  CCGO_800980    1    1       52  1059.76    20.38 \n",
      "  CLIA_400121    1    1       71  3556.22  50.0876 \n",
      "  CLIA_400122    1    1       79  2788.55   35.298 \n",
      "  CLIA_400123    1    1       55  3524.64  64.0844 \n",
      "  CLIA_400125    1    1       57  2045.42  35.8845 \n",
      "  CLIA_400126    1    1       80  2980.03  37.2504 \n",
      "  CLIA_400127    1    1       61  2937.06  48.1486 \n"
     ]
    }
   ],
   "source": [
    "head DATA_gene_disrupt_bt60.cnv.indiv"
   ]
  },
  {
   "cell_type": "markdown",
   "metadata": {},
   "source": [
    "For denovo filtering, we do:"
   ]
  },
  {
   "cell_type": "code",
   "execution_count": 69,
   "metadata": {},
   "outputs": [
    {
     "name": "stdout",
     "output_type": "stream",
     "text": [
      "Creating new project specification file [ DATA_gene_disrupt.pseq ]\n",
      "Inserted 99 new individuals, updated 0 existing individuals\n",
      "loading : /gpfs/gsfs8/users/NCR_SBRB/simplex/xhmm/DATA.gene_disrupt.vcf ( 98 individuals )\n",
      "parsed 5000 rows        \n",
      "/gpfs/gsfs8/users/NCR_SBRB/simplex/xhmm/DATA.gene_disrupt.vcf : inserted 5050 variants\n"
     ]
    }
   ],
   "source": [
    "rm -rf DATA_gene_disrupt.pseq DATA_gene_disrupt_out\n",
    "pseq DATA_gene_disrupt new-project\n",
    "# adding a first column with subject ID for PSEQ\n",
    "cut -f 2 /data/NCR_SBRB/simplex/simplex.ped > junk.txt\n",
    "paste junk.txt /data/NCR_SBRB/simplex/simplex.ped > simplex.ped.info\n",
    "pseq DATA_gene_disrupt load-pedigree --file simplex.ped.info\n",
    "pseq DATA_gene_disrupt load-vcf --vcf DATA.gene_disrupt.vcf"
   ]
  },
  {
   "cell_type": "code",
   "execution_count": 72,
   "metadata": {},
   "outputs": [
    {
     "name": "stdout",
     "output_type": "stream",
     "text": [
      "-------------------------------------------------------------------------------\n",
      "||||||||||||||||||||||||||| PSEQ (v0.10; 14-Jul-14) |||||||||||||||||||||||||||\n",
      "-------------------------------------------------------------------------------\n",
      "\n",
      "Copying this log to file [ DATA_gene_disrupt.log ]\n",
      "Analysis started Fri Dec  1 10:32:55 2017\n",
      "\n",
      "-------------------------------------------------------------------------------\n",
      "\n",
      "Project : DATA_gene_disrupt\n",
      "Command : cnv-denovo\n",
      "Options : --noweb\n",
      "          --minSQ 60\n",
      "          --minNQ 60\n",
      "          --out DATA_gene_disrupt\n",
      "\n",
      "-------------------------------------------------------------------------------\n",
      "\n",
      "Writing to file [ DATA_gene_disrupt.denovo.cnv ]  : per-site output from cnv-denovo\n",
      "Writing to file [ DATA_gene_disrupt.denovo.cnv.indiv ]  : per-trio output from cnv-denovo\n",
      "Starting CNV de novo scan...\n",
      "Included 5050 of 5050 variants considered\n",
      "\n",
      "Analysis finished Fri Dec  1 10:33:03 2017\n",
      ":::::::::::::::::::::::::::::::::::::::::::::::::::::::::::::::::::::::::::::::\n"
     ]
    }
   ],
   "source": [
    "pseq DATA_gene_disrupt cnv-denovo --noweb --minSQ 60 --minNQ 60 --out DATA_gene_disrupt"
   ]
  },
  {
   "cell_type": "code",
   "execution_count": 83,
   "metadata": {},
   "outputs": [
    {
     "name": "stdout",
     "output_type": "stream",
     "text": [
      "#SUMMARY  CHILD        CHILD_CNV  IN_PATERNAL  IN_MATERNAL  IN_PATERNAL_AND_MATERNAL  MISSING_PATERNAL  MISSING_MATERNAL  DE_NOVO  PATERNAL_TRANSMITTED  PATERNAL_NON_TRANSMITTED  PATERNAL_UNKNOWN  MATERNAL_TRANSMITTED  MATERNAL_NON_TRANSMITTED  MATERNAL_UNKNOWN\n",
      "SUMMARY   CLIA_400121  70         19           18           3                         27                26                8        8                     16                        10                7                     10                        6\n",
      "SUMMARY   CLIA_400122  75         25           33           14                        28                24                8        4                     7                         14                10                    18                        15\n",
      "SUMMARY   CLIA_400123  52         4            9            0                         20                19                13       0                     6                         6                 7                     30                        18\n",
      "SUMMARY   CLIA_400125  57         17           21           5                         18                15                5        8                     21                        14                10                    12                        6\n",
      "SUMMARY   CLIA_400126  78         20           21           5                         23                28                14       8                     22                        13                11                    11                        14\n",
      "SUMMARY   CLIA_400127  61         16           12           3                         18                26                9        7                     18                        12                5                     12                        11\n",
      "SUMMARY   CLIA_400128  75         29           17           4                         22                25                10       14                    15                        14                9                     11                        9\n",
      "SUMMARY   CLIA_400129  60         18           22           4                         24                21                4        10                    12                        16                10                    13                        15\n",
      "SUMMARY   CLIA_400130  66         19           19           4                         30                23                7        8                     3                         9                 4                     8                         11\n"
     ]
    }
   ],
   "source": [
    "column -t DATA_gene_disrupt.denovo.cnv.indiv | head"
   ]
  },
  {
   "cell_type": "code",
   "execution_count": 85,
   "metadata": {},
   "outputs": [
    {
     "name": "stdout",
     "output_type": "stream",
     "text": [
      "#CLASS                    CHILD        LOCUS                       CNV    NUM_TARG  PAR_WITH  PAR_WITHOUT  PAR_MISS  CHILD_WITH  CHILD_WITHOUT  CHILD_MISS\n",
      "MATERNAL_TRANSMITTED      CLIA_400152  chr1:19051..70018           <DEL>  7         3         17           22        3           30             15\n",
      "MATERNAL_NON_TRANSMITTED  CLIA_400153  chr1:19051..70018           <DEL>  7         3         17           22        4           29             15\n",
      "PATERNAL_NON_TRANSMITTED  CLIA_400162  chr1:69036..120881          <DUP>  6         4         30           8         4           34             10\n",
      "PATERNAL_UNKNOWN          CLIA_400163  chr1:69036..120881          <DUP>  6         4         30           8         4           35             9\n",
      "DENOVO                    CLIA_400134  chr1:69230..70018           <DUP>  4         5         30           7         3           36             9\n",
      "MATERNAL_NON_TRANSMITTED  CLIA_400148  chr1:69230..137721          <DUP>  9         4         30           8         4           33             11\n",
      "MATERNAL_NON_TRANSMITTED  CLIA_400149  chr1:69230..137721          <DUP>  9         4         30           8         4           33             11\n",
      "PATERNAL_UNKNOWN          CLIA_400152  chr1:1577145..1588876       <DEL>  13        2         26           14        2           35             11\n",
      "PATERNAL_TRANSMITTED      CLIA_400153  chr1:1577145..1588876       <DEL>  13        2         26           14        1           35             12\n"
     ]
    }
   ],
   "source": [
    "column -t DATA_gene_disrupt.denovo.cnv | head"
   ]
  },
  {
   "cell_type": "code",
   "execution_count": 87,
   "metadata": {},
   "outputs": [
    {
     "name": "stdout",
     "output_type": "stream",
     "text": [
      "DENOVO\tCLIA_400121\tchr1:16863172..16905947\t<DEL>\t12\t7\t13\t22\t2\t17\t29\n",
      "DENOVO\tCLIA_400121\tchr6:29910217..29910698\t<DUP>\t3\t4\t25\t13\t6\t28\t14\n",
      "DENOVO\tCLIA_400121\tchr7:142478763..142481340\t<DEL>\t3\t4\t31\t7\t5\t32\t11\n",
      "DENOVO\tCLIA_400121\tchr9:39078374..39088489\t<DUP>\t7\t0\t25\t17\t2\t24\t22\n",
      "DENOVO\tCLIA_400121\tchr9:67935775..67985931\t<DEL>\t18\t4\t22\t16\t5\t24\t19\n",
      "DENOVO\tCLIA_400121\tchr16:21742107..21771894\t<DEL>\t7\t1\t34\t7\t4\t40\t4\n",
      "DENOVO\tCLIA_400121\tchr17:20353187..20360009\t<DEL>\t8\t2\t31\t9\t3\t34\t11\n",
      "DENOVO\tCLIA_400121\tchr17:44408901..44410072\t<DUP>\t3\t1\t25\t16\t1\t30\t17\n"
     ]
    }
   ],
   "source": [
    "grep CLIA_400121 DATA_gene_disrupt.denovo.cnv | grep DENOVO"
   ]
  },
  {
   "cell_type": "markdown",
   "metadata": {},
   "source": [
    "Perfect! This is actually all we need. From here we can do all sorts of filtering. Let's do some filtering/plotting in a Python notebook. But before we do that, let's create the different quality thresholds:"
   ]
  },
  {
   "cell_type": "code",
   "execution_count": 94,
   "metadata": {},
   "outputs": [
    {
     "name": "stdout",
     "output_type": "stream",
     "text": [
      "-------------------------------------------------------------------------------\n",
      "||||||||||||||||||||||||||| PSEQ (v0.10; 14-Jul-14) |||||||||||||||||||||||||||\n",
      "-------------------------------------------------------------------------------\n",
      "\n",
      "Copying this log to file [ DATA_gene_disrupt_q10.log ]\n",
      "Analysis started Fri Dec  1 10:50:11 2017\n",
      "\n",
      "-------------------------------------------------------------------------------\n",
      "\n",
      "Project : DATA_gene_disrupt\n",
      "Command : cnv-denovo\n",
      "Options : --noweb\n",
      "          --minSQ 10\n",
      "          --minNQ 10\n",
      "          --out DATA_gene_disrupt_q10\n",
      "\n",
      "-------------------------------------------------------------------------------\n",
      "\n",
      "Writing to file [ DATA_gene_disrupt_q10.denovo.cnv ]  : per-site output from cnv-denovo\n",
      "Writing to file [ DATA_gene_disrupt_q10.denovo.cnv.indiv ]  : per-trio output from cnv-denovo\n",
      "Starting CNV de novo scan...\n",
      "Included 5050 of 5050 variants considered\n",
      "\n",
      "Analysis finished Fri Dec  1 10:50:18 2017\n",
      ":::::::::::::::::::::::::::::::::::::::::::::::::::::::::::::::::::::::::::::::\n",
      "-------------------------------------------------------------------------------\n",
      "||||||||||||||||||||||||||| PSEQ (v0.10; 14-Jul-14) |||||||||||||||||||||||||||\n",
      "-------------------------------------------------------------------------------\n",
      "\n",
      "Copying this log to file [ DATA_gene_disrupt_q20.log ]\n",
      "Analysis started Fri Dec  1 10:50:18 2017\n",
      "\n",
      "-------------------------------------------------------------------------------\n",
      "\n",
      "Project : DATA_gene_disrupt\n",
      "Command : cnv-denovo\n",
      "Options : --noweb\n",
      "          --minSQ 20\n",
      "          --minNQ 20\n",
      "          --out DATA_gene_disrupt_q20\n",
      "\n",
      "-------------------------------------------------------------------------------\n",
      "\n",
      "Writing to file [ DATA_gene_disrupt_q20.denovo.cnv ]  : per-site output from cnv-denovo\n",
      "Writing to file [ DATA_gene_disrupt_q20.denovo.cnv.indiv ]  : per-trio output from cnv-denovo\n",
      "Starting CNV de novo scan...\n",
      "Included 5050 of 5050 variants considered\n",
      "\n",
      "Analysis finished Fri Dec  1 10:50:24 2017\n",
      ":::::::::::::::::::::::::::::::::::::::::::::::::::::::::::::::::::::::::::::::\n",
      "-------------------------------------------------------------------------------\n",
      "||||||||||||||||||||||||||| PSEQ (v0.10; 14-Jul-14) |||||||||||||||||||||||||||\n",
      "-------------------------------------------------------------------------------\n",
      "\n",
      "Copying this log to file [ DATA_gene_disrupt_q30.log ]\n",
      "Analysis started Fri Dec  1 10:50:25 2017\n",
      "\n",
      "-------------------------------------------------------------------------------\n",
      "\n",
      "Project : DATA_gene_disrupt\n",
      "Command : cnv-denovo\n",
      "Options : --noweb\n",
      "          --minSQ 30\n",
      "          --minNQ 30\n",
      "          --out DATA_gene_disrupt_q30\n",
      "\n",
      "-------------------------------------------------------------------------------\n",
      "\n",
      "Writing to file [ DATA_gene_disrupt_q30.denovo.cnv ]  : per-site output from cnv-denovo\n",
      "Writing to file [ DATA_gene_disrupt_q30.denovo.cnv.indiv ]  : per-trio output from cnv-denovo\n",
      "Starting CNV de novo scan...\n",
      "Included 5050 of 5050 variants considered\n",
      "\n",
      "Analysis finished Fri Dec  1 10:50:31 2017\n",
      ":::::::::::::::::::::::::::::::::::::::::::::::::::::::::::::::::::::::::::::::\n",
      "-------------------------------------------------------------------------------\n",
      "||||||||||||||||||||||||||| PSEQ (v0.10; 14-Jul-14) |||||||||||||||||||||||||||\n",
      "-------------------------------------------------------------------------------\n",
      "\n",
      "Copying this log to file [ DATA_gene_disrupt_q40.log ]\n",
      "Analysis started Fri Dec  1 10:50:31 2017\n",
      "\n",
      "-------------------------------------------------------------------------------\n",
      "\n",
      "Project : DATA_gene_disrupt\n",
      "Command : cnv-denovo\n",
      "Options : --noweb\n",
      "          --minSQ 40\n",
      "          --minNQ 40\n",
      "          --out DATA_gene_disrupt_q40\n",
      "\n",
      "-------------------------------------------------------------------------------\n",
      "\n",
      "Writing to file [ DATA_gene_disrupt_q40.denovo.cnv ]  : per-site output from cnv-denovo\n",
      "Writing to file [ DATA_gene_disrupt_q40.denovo.cnv.indiv ]  : per-trio output from cnv-denovo\n",
      "Starting CNV de novo scan...\n",
      "Included 5050 of 5050 variants considered\n",
      "\n",
      "Analysis finished Fri Dec  1 10:50:38 2017\n",
      ":::::::::::::::::::::::::::::::::::::::::::::::::::::::::::::::::::::::::::::::\n",
      "-------------------------------------------------------------------------------\n",
      "||||||||||||||||||||||||||| PSEQ (v0.10; 14-Jul-14) |||||||||||||||||||||||||||\n",
      "-------------------------------------------------------------------------------\n",
      "\n",
      "Copying this log to file [ DATA_gene_disrupt_q50.log ]\n",
      "Analysis started Fri Dec  1 10:50:38 2017\n",
      "\n",
      "-------------------------------------------------------------------------------\n",
      "\n",
      "Project : DATA_gene_disrupt\n",
      "Command : cnv-denovo\n",
      "Options : --noweb\n",
      "          --minSQ 50\n",
      "          --minNQ 50\n",
      "          --out DATA_gene_disrupt_q50\n",
      "\n",
      "-------------------------------------------------------------------------------\n",
      "\n",
      "Writing to file [ DATA_gene_disrupt_q50.denovo.cnv ]  : per-site output from cnv-denovo\n",
      "Writing to file [ DATA_gene_disrupt_q50.denovo.cnv.indiv ]  : per-trio output from cnv-denovo\n",
      "Starting CNV de novo scan...\n",
      "Included 5050 of 5050 variants considered\n",
      "\n",
      "Analysis finished Fri Dec  1 10:50:44 2017\n",
      ":::::::::::::::::::::::::::::::::::::::::::::::::::::::::::::::::::::::::::::::\n",
      "-------------------------------------------------------------------------------\n",
      "||||||||||||||||||||||||||| PSEQ (v0.10; 14-Jul-14) |||||||||||||||||||||||||||\n",
      "-------------------------------------------------------------------------------\n",
      "\n",
      "Copying this log to file [ DATA_gene_disrupt_q60.log ]\n",
      "Analysis started Fri Dec  1 10:50:44 2017\n",
      "\n",
      "-------------------------------------------------------------------------------\n",
      "\n",
      "Project : DATA_gene_disrupt\n",
      "Command : cnv-denovo\n",
      "Options : --noweb\n",
      "          --minSQ 60\n",
      "          --minNQ 60\n",
      "          --out DATA_gene_disrupt_q60\n",
      "\n",
      "-------------------------------------------------------------------------------\n",
      "\n",
      "Writing to file [ DATA_gene_disrupt_q60.denovo.cnv ]  : per-site output from cnv-denovo\n",
      "Writing to file [ DATA_gene_disrupt_q60.denovo.cnv.indiv ]  : per-trio output from cnv-denovo\n",
      "Starting CNV de novo scan...\n",
      "Included 5050 of 5050 variants considered\n",
      "\n",
      "Analysis finished Fri Dec  1 10:50:51 2017\n",
      ":::::::::::::::::::::::::::::::::::::::::::::::::::::::::::::::::::::::::::::::\n",
      "-------------------------------------------------------------------------------\n",
      "||||||||||||||||||||||||||| PSEQ (v0.10; 14-Jul-14) |||||||||||||||||||||||||||\n",
      "-------------------------------------------------------------------------------\n",
      "\n",
      "Copying this log to file [ DATA_gene_disrupt_q70.log ]\n",
      "Analysis started Fri Dec  1 10:50:51 2017\n",
      "\n",
      "-------------------------------------------------------------------------------\n",
      "\n",
      "Project : DATA_gene_disrupt\n",
      "Command : cnv-denovo\n",
      "Options : --noweb\n",
      "          --minSQ 70\n",
      "          --minNQ 70\n",
      "          --out DATA_gene_disrupt_q70\n",
      "\n",
      "-------------------------------------------------------------------------------\n",
      "\n",
      "Writing to file [ DATA_gene_disrupt_q70.denovo.cnv ]  : per-site output from cnv-denovo\n",
      "Writing to file [ DATA_gene_disrupt_q70.denovo.cnv.indiv ]  : per-trio output from cnv-denovo\n",
      "Starting CNV de novo scan...\n",
      "Included 5050 of 5050 variants considered\n",
      "\n",
      "Analysis finished Fri Dec  1 10:50:57 2017\n",
      ":::::::::::::::::::::::::::::::::::::::::::::::::::::::::::::::::::::::::::::::\n",
      "-------------------------------------------------------------------------------\n",
      "||||||||||||||||||||||||||| PSEQ (v0.10; 14-Jul-14) |||||||||||||||||||||||||||\n",
      "-------------------------------------------------------------------------------\n",
      "\n",
      "Copying this log to file [ DATA_gene_disrupt_q80.log ]\n",
      "Analysis started Fri Dec  1 10:50:57 2017\n",
      "\n",
      "-------------------------------------------------------------------------------\n",
      "\n",
      "Project : DATA_gene_disrupt\n",
      "Command : cnv-denovo\n",
      "Options : --noweb\n",
      "          --minSQ 80\n",
      "          --minNQ 80\n",
      "          --out DATA_gene_disrupt_q80\n",
      "\n",
      "-------------------------------------------------------------------------------\n",
      "\n",
      "Writing to file [ DATA_gene_disrupt_q80.denovo.cnv ]  : per-site output from cnv-denovo\n",
      "Writing to file [ DATA_gene_disrupt_q80.denovo.cnv.indiv ]  : per-trio output from cnv-denovo\n",
      "Starting CNV de novo scan...\n",
      "Included 5050 of 5050 variants considered\n",
      "\n",
      "Analysis finished Fri Dec  1 10:51:04 2017\n",
      ":::::::::::::::::::::::::::::::::::::::::::::::::::::::::::::::::::::::::::::::\n"
     ]
    },
    {
     "name": "stdout",
     "output_type": "stream",
     "text": [
      "-------------------------------------------------------------------------------\n",
      "||||||||||||||||||||||||||| PSEQ (v0.10; 14-Jul-14) |||||||||||||||||||||||||||\n",
      "-------------------------------------------------------------------------------\n",
      "\n",
      "Copying this log to file [ DATA_gene_disrupt_q90.log ]\n",
      "Analysis started Fri Dec  1 10:51:04 2017\n",
      "\n",
      "-------------------------------------------------------------------------------\n",
      "\n",
      "Project : DATA_gene_disrupt\n",
      "Command : cnv-denovo\n",
      "Options : --noweb\n",
      "          --minSQ 90\n",
      "          --minNQ 90\n",
      "          --out DATA_gene_disrupt_q90\n",
      "\n",
      "-------------------------------------------------------------------------------\n",
      "\n",
      "Writing to file [ DATA_gene_disrupt_q90.denovo.cnv ]  : per-site output from cnv-denovo\n",
      "Writing to file [ DATA_gene_disrupt_q90.denovo.cnv.indiv ]  : per-trio output from cnv-denovo\n",
      "Starting CNV de novo scan...\n",
      "Included 5050 of 5050 variants considered\n",
      "\n",
      "Analysis finished Fri Dec  1 10:51:10 2017\n",
      ":::::::::::::::::::::::::::::::::::::::::::::::::::::::::::::::::::::::::::::::\n"
     ]
    }
   ],
   "source": [
    "for q in `seq 10 10 99`; do\n",
    "    pseq DATA_gene_disrupt cnv-denovo --noweb --minSQ $q --minNQ $q --out DATA_gene_disrupt_q$q;\n",
    "done"
   ]
  }
 ],
 "metadata": {
  "kernelspec": {
   "display_name": "Bash",
   "language": "bash",
   "name": "bash"
  },
  "language_info": {
   "codemirror_mode": "shell",
   "file_extension": ".sh",
   "mimetype": "text/x-sh",
   "name": "bash"
  },
  "nav_menu": {},
  "toc": {
   "navigate_menu": true,
   "number_sections": true,
   "sideBar": true,
   "threshold": 6,
   "toc_cell": false,
   "toc_section_display": "block",
   "toc_window_display": false
  }
 },
 "nbformat": 4,
 "nbformat_minor": 2
}
