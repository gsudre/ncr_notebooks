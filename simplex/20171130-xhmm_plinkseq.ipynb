{
 "cells": [
  {
   "cell_type": "markdown",
   "metadata": {},
   "source": [
    "Here we assume that the XHMM data has already been QCed (see note from same day in Python kernel), and let's use some PLINK/SEQ trickery to get the rest of the analysis working:"
   ]
  },
  {
   "cell_type": "code",
   "execution_count": 25,
   "metadata": {},
   "outputs": [
    {
     "name": "stdout",
     "output_type": "stream",
     "text": [
      "[-] Unloading GSL 2.2.1 ...\n",
      "[-] Unloading Graphviz v2.38.0 ...\n",
      "[-] Unloading gdal 2.0 ...\n",
      "[-] Unloading proj 4.9.2 ...\n",
      "[-] Unloading gcc 4.9.1 ...\n",
      "[-] Unloading openmpi 1.10.0 for GCC 4.9.1\n",
      "[-] Unloading tcl_tk 8.6.3\n",
      "[-] Unloading Zlib 1.2.8 ...\n",
      "[-] Unloading Bzip2 1.0.6 ...\n",
      "[-] Unloading pcre 8.38 ...\n",
      "[-] Unloading liblzma 5.2.2 ...\n",
      "[-] Unloading libjpeg-turbo 1.5.1 ...\n",
      "[-] Unloading tiff 4.0.7 ...\n",
      "[-] Unloading curl 7.46.0 ...\n",
      "[-] Unloading boost libraries v1.65 ...\n",
      "[-] Unloading R 3.4.0 on cn3682\n",
      "[+] Loading GSL 2.2.1 ...\n",
      "[+] Loading Graphviz v2.38.0 ...\n",
      "[+] Loading gdal 2.0 ...\n",
      "[+] Loading proj 4.9.2 ...\n",
      "[+] Loading gcc 4.9.1 ...\n",
      "[+] Loading openmpi 1.10.0 for GCC 4.9.1\n",
      "[+] Loading tcl_tk 8.6.3\n",
      "[+] Loading Zlib 1.2.8 ...\n",
      "[+] Loading Bzip2 1.0.6 ...\n",
      "[+] Loading pcre 8.38 ...\n",
      "[+] Loading liblzma 5.2.2 ...\n",
      "[-] Unloading Zlib 1.2.8 ...\n",
      "[+] Loading Zlib 1.2.8 ...\n",
      "[-] Unloading liblzma 5.2.2 ...\n",
      "[+] Loading liblzma 5.2.2 ...\n",
      "[+] Loading libjpeg-turbo 1.5.1 ...\n",
      "[+] Loading tiff 4.0.7 ...\n",
      "[+] Loading curl 7.46.0 ...\n",
      "[+] Loading boost libraries v1.65 ...\n",
      "[+] Loading R 3.4.0 on cn3682\n",
      "[-] Unloading XHMM 2016-01-04 ...\n",
      "[+] Loading XHMM 2016-01-04 ...\n",
      "[-] Unloading plink 1.9.0-beta4.4\n",
      "\n",
      "The following have been reloaded with a version change:\n",
      "  1) plink/1.9.0-beta4.4 => plink/1.07\n",
      "\n"
     ]
    }
   ],
   "source": [
    "module load plinkseq\n",
    "module load XHMM\n",
    "module load plink/1.07\n",
    "\n",
    "cd /data/NCR_SBRB/simplex/xhmm"
   ]
  },
  {
   "cell_type": "markdown",
   "metadata": {},
   "source": [
    "Again, following directions from their protocol paper to create PLINK friendly files:"
   ]
  },
  {
   "cell_type": "code",
   "execution_count": 27,
   "metadata": {},
   "outputs": [
    {
     "name": "stdout",
     "output_type": "stream",
     "text": [
      "\n",
      "@----------------------------------------------------------@\n",
      "|        PLINK!       |     v1.07      |   10/Aug/2009     |\n",
      "|----------------------------------------------------------|\n",
      "|  (C) 2009 Shaun Purcell, GNU General Public License, v2  |\n",
      "|----------------------------------------------------------|\n",
      "|  For documentation, citation & bug-report instructions:  |\n",
      "|        http://pngu.mgh.harvard.edu/purcell/plink/        |\n",
      "@----------------------------------------------------------@\n",
      "\n",
      "Skipping web check... [ --noweb ] \n",
      "Writing this text to log file [ DATA.log ]\n",
      "Analysis started: Thu Nov 30 15:03:23 2017\n",
      "\n",
      "Options in effect:\n",
      "\t--cfile DATA\n",
      "\t--cnv-make-map\n",
      "\t--out DATA\n",
      "\t--noweb\n",
      "\n",
      "\n",
      "Reading segment list (CNVs) from [ DATA.cnv ]\n",
      "Writing new MAP file to [ DATA.cnv.map ]\n",
      "Wrote 14564 unique positions to file\n",
      "\n",
      "Analysis finished: Thu Nov 30 15:03:24 2017\n",
      "\n"
     ]
    }
   ],
   "source": [
    "grep \"#CHROM\" DATA.vcf | awk '{for (i = 10; i <= NF; i++) print $i,1,0,0,1,1}' > DATA.fam;\n",
    "/usr/local/apps/XHMM/2016-01-04/sources/scripts/xcnv_to_cnv DATA.xcnv > DATA.cnv;\n",
    "plink --cfile DATA --cnv-make-map --out DATA --noweb"
   ]
  },
  {
   "cell_type": "code",
   "execution_count": 69,
   "metadata": {},
   "outputs": [
    {
     "name": "stdout",
     "output_type": "stream",
     "text": [
      "\n",
      "@----------------------------------------------------------@\n",
      "|        PLINK!       |     v1.07      |   10/Aug/2009     |\n",
      "|----------------------------------------------------------|\n",
      "|  (C) 2009 Shaun Purcell, GNU General Public License, v2  |\n",
      "|----------------------------------------------------------|\n",
      "|  For documentation, citation & bug-report instructions:  |\n",
      "|        http://pngu.mgh.harvard.edu/purcell/plink/        |\n",
      "@----------------------------------------------------------@\n",
      "\n",
      "Skipping web check... [ --noweb ] \n",
      "Writing this text to log file [ plink.log ]\n",
      "Analysis started: Thu Nov 30 16:02:59 2017\n",
      "\n",
      "Options in effect:\n",
      "\t--cfile DATA\n",
      "\t--noweb\n",
      "\t--cnv-check-no-overlap\n",
      "\n",
      "Reading marker information from [ DATA.cnv.map ]\n",
      "14564 (of 14564) markers to be included from [ DATA.cnv.map ]\n",
      "Reading individual information from [ DATA.fam ]\n",
      "Reading pedigree information from [ DATA.fam ] \n",
      "98 individuals read from [ DATA.fam ] \n",
      "98 individuals with nonmissing phenotypes\n",
      "Assuming a disease phenotype (1=unaff, 2=aff, 0=miss)\n",
      "Missing phenotype value is also -9\n",
      "0 cases, 98 controls and 0 missing\n",
      "98 males, 0 females, and 0 of unspecified sex\n",
      "\n",
      "Reading segment list (CNVs) from [ DATA.cnv ]\n",
      "No overlapping samples found\n",
      "13772 mapped to a person, of which 13772 passed filters\n",
      "13772 of 13772 mapped as valid segments\n",
      " CopyN Case/Control\n",
      "     1     0 / 6582\n",
      "     3     0 / 7190\n",
      "\n",
      "Writing per-individual summary to [ plink.cnv.indiv ]\n",
      "Writing positional summary to [ plink.cnv.summary ]\n",
      "\n",
      "Analysis finished: Thu Nov 30 16:03:00 2017\n",
      "\n"
     ]
    }
   ],
   "source": [
    "plink --cfile DATA --noweb --cnv-check-no-overlap"
   ]
  },
  {
   "cell_type": "markdown",
   "metadata": {},
   "source": [
    "Looks good. Let's now only keep the regions that intersect with transcript regions. First, some filtering is required:"
   ]
  },
  {
   "cell_type": "code",
   "execution_count": 84,
   "metadata": {},
   "outputs": [],
   "source": [
    "cat annotated_targets.refseq.loci | awk '{if ($2 > 0) {print $3}}' > tmp_misc.txt;\n",
    "cat annotated_targets.refseq.loci | awk '{if ($2 > 0) {print $1}}' > tmp_pos.txt;\n",
    "cut -d \".\" -f 3 tmp_pos.txt > tmp_bp2.txt;\n",
    "cut -d \":\" -f 1 tmp_pos.txt | cut -d \"r\" -f 2 > tmp_chr.txt;\n",
    "cut -d \":\" -f 2 tmp_pos.txt | cut -d \".\" -f 1 > tmp_bp1.txt;\n",
    "paste tmp_chr.txt tmp_bp1.txt tmp_bp2.txt tmp_misc.txt > gene_locations.txt;"
   ]
  },
  {
   "cell_type": "code",
   "execution_count": 88,
   "metadata": {},
   "outputs": [
    {
     "name": "stdout",
     "output_type": "stream",
     "text": [
      "\n",
      "@----------------------------------------------------------@\n",
      "|        PLINK!       |     v1.07      |   10/Aug/2009     |\n",
      "|----------------------------------------------------------|\n",
      "|  (C) 2009 Shaun Purcell, GNU General Public License, v2  |\n",
      "|----------------------------------------------------------|\n",
      "|  For documentation, citation & bug-report instructions:  |\n",
      "|        http://pngu.mgh.harvard.edu/purcell/plink/        |\n",
      "@----------------------------------------------------------@\n",
      "\n",
      "Skipping web check... [ --noweb ] \n",
      "Writing this text to log file [ DATA.gene_disrupt.log ]\n",
      "Analysis started: Thu Nov 30 16:31:51 2017\n",
      "\n",
      "Options in effect:\n",
      "\t--cfile DATA\n",
      "\t--noweb\n",
      "\t--cnv-disrupt\n",
      "\t--cnv-intersect gene_locations.txt\n",
      "\t--cnv-write\n",
      "\t--out DATA.gene_disrupt\n",
      "\n",
      "** For gPLINK compatibility, do not use '.' in --out **\n",
      "Reading marker information from [ DATA.cnv.map ]\n",
      "14564 (of 14564) markers to be included from [ DATA.cnv.map ]\n",
      "Reading individual information from [ DATA.fam ]\n",
      "Reading pedigree information from [ DATA.fam ] \n",
      "98 individuals read from [ DATA.fam ] \n",
      "98 individuals with nonmissing phenotypes\n",
      "Assuming a disease phenotype (1=unaff, 2=aff, 0=miss)\n",
      "Missing phenotype value is also -9\n",
      "0 cases, 98 controls and 0 missing\n",
      "98 males, 0 females, and 0 of unspecified sex\n",
      "Reading CNV intersection list from [ gene_locations.txt ]\n",
      "Read 304125 ranges to intersect with CNV list\n",
      "\n",
      "Reading segment list (CNVs) from [ DATA.cnv ]\n",
      "13772 mapped to a person, of which 13772 passed filters\n",
      "8343 intersected with one or more specified region\n",
      "8343 of 13772 mapped as valid segments\n",
      " CopyN Case/Control\n",
      "     1     0 / 3997\n",
      "     3     0 / 4346\n",
      "\n",
      "Writing new CNV list to [ DATA.gene_disrupt.cnv ]\n",
      "Writing new FAM file to [ DATA.gene_disrupt.fam ]\n",
      "\n",
      "Analysis finished: Thu Nov 30 16:34:36 2017\n",
      "\n"
     ]
    }
   ],
   "source": [
    "plink --cfile DATA --noweb --cnv-disrupt --cnv-intersect gene_locations.txt \\\n",
    "    --cnv-write --out DATA.gene_disrupt"
   ]
  },
  {
   "cell_type": "markdown",
   "metadata": {},
   "source": [
    "I don't want to filter based on frequency yet. So, let's just jump into the denovo filtering. But keep in mind that I might need to adjust the sex of the trios later! First, I need to create a VCF with the filtered CNVs from above:"
   ]
  },
  {
   "cell_type": "code",
   "execution_count": 103,
   "metadata": {
    "collapsed": true
   },
   "outputs": [],
   "source": [
    "cat DATA.gene_disrupt.cnv | awk '{if (NR>1) print $3\":\"$4\"-\"$5}' | sort | uniq > DATA.gene_disrupt.CNV_regions.txt"
   ]
  },
  {
   "cell_type": "code",
   "execution_count": 107,
   "metadata": {},
   "outputs": [],
   "source": [
    "grep \"^#\" DATA.vcf > DATA.gene_disrupt.vcf;\n",
    "grep -f DATA.gene_disrupt.CNV_regions.txt DATA.vcf | sort | uniq >> DATA.gene_disrupt.vcf"
   ]
  },
  {
   "cell_type": "code",
   "execution_count": 115,
   "metadata": {},
   "outputs": [
    {
     "name": "stdout",
     "output_type": "stream",
     "text": [
      "Creating new project specification file [ DATA_gene_disrupt.pseq ]\n"
     ]
    }
   ],
   "source": [
    "pseq DATA_gene_disrupt new-project"
   ]
  },
  {
   "cell_type": "code",
   "execution_count": 116,
   "metadata": {},
   "outputs": [
    {
     "name": "stdout",
     "output_type": "stream",
     "text": [
      "Inserted 24 new individuals, updated 75 existing individuals\n",
      "loading : /gpfs/gsfs8/users/NCR_SBRB/simplex/xhmm/DATA.gene_disrupt.vcf ( 98 individuals )\n",
      "parsed 5000 rows        \n",
      "/gpfs/gsfs8/users/NCR_SBRB/simplex/xhmm/DATA.gene_disrupt.vcf : inserted 5050 variants\n"
     ]
    }
   ],
   "source": [
    "pseq DATA_gene_disrupt load-pedigree --file /data/NCR_SBRB/simplex/simplex.ped\n",
    "pseq DATA_gene_disrupt load-vcf --vcf DATA.gene_disrupt.vcf"
   ]
  },
  {
   "cell_type": "code",
   "execution_count": 119,
   "metadata": {},
   "outputs": [
    {
     "name": "stdout",
     "output_type": "stream",
     "text": [
      "-------------------------------------------------------------------------------\n",
      "||||||||||||||||||||||||||| PSEQ (v0.10; 14-Jul-14) |||||||||||||||||||||||||||\n",
      "-------------------------------------------------------------------------------\n",
      "\n",
      "Copying this log to file [ DATA_gene_disrupt.log ]\n",
      "Analysis started Thu Nov 30 16:56:59 2017\n",
      "\n",
      "-------------------------------------------------------------------------------\n",
      "\n",
      "Project : DATA_gene_disrupt\n",
      "Command : cnv-denovo\n",
      "Options : --mask\n",
      "          --noweb reg.ex=chrX,chrY\n",
      "          --minSQ 60\n",
      "          --minNQ 60\n",
      "          --out DATA_gene_disrupt\n",
      "\n",
      "-------------------------------------------------------------------------------\n",
      "\n",
      "Writing to file [ DATA_gene_disrupt.denovo.cnv ]  : per-site output from cnv-denovo\n",
      "Writing to file [ DATA_gene_disrupt.denovo.cnv.indiv ]  : per-trio output from cnv-denovo\n",
      "Starting CNV de novo scan...\n",
      "Included 5050 of 5050 variants considered\n",
      "\n",
      "Analysis finished Thu Nov 30 16:57:03 2017\n",
      ":::::::::::::::::::::::::::::::::::::::::::::::::::::::::::::::::::::::::::::::\n"
     ]
    }
   ],
   "source": [
    "pseq DATA_gene_disrupt cnv-denovo --mask --noweb reg.ex=chrX,chrY --minSQ 60 --minNQ 60 --out DATA_gene_disrupt"
   ]
  },
  {
   "cell_type": "markdown",
   "metadata": {},
   "source": [
    "# TODO\n",
    "\n",
    "* analyze resulting files"
   ]
  }
 ],
 "metadata": {
  "kernelspec": {
   "display_name": "Bash",
   "language": "bash",
   "name": "bash"
  },
  "language_info": {
   "codemirror_mode": "shell",
   "file_extension": ".sh",
   "mimetype": "text/x-sh",
   "name": "bash"
  },
  "nav_menu": {},
  "toc": {
   "navigate_menu": true,
   "number_sections": true,
   "sideBar": true,
   "threshold": 6,
   "toc_cell": false,
   "toc_section_display": "block",
   "toc_window_display": false
  }
 },
 "nbformat": 4,
 "nbformat_minor": 2
}
