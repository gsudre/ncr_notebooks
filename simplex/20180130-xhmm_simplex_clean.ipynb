{
 "cells": [
  {
   "cell_type": "markdown",
   "metadata": {},
   "source": [
    "A couple more questions about the results from 01/26:\n",
    "\n",
    "* Do they persist in higher quality thresholds?\n",
    "* What's the deal with the bigger CNVs?\n",
    "* Can we have some sort of stats to assess the findings?"
   ]
  },
  {
   "cell_type": "markdown",
   "metadata": {},
   "source": [
    "# Varying Q"
   ]
  },
  {
   "cell_type": "code",
   "execution_count": 1,
   "metadata": {},
   "outputs": [
    {
     "data": {
      "text/html": [
       "<script>requirejs.config({paths: { 'plotly': ['https://cdn.plot.ly/plotly-latest.min']},});if(!window.Plotly) {{require(['plotly'],function(plotly) {window.Plotly=plotly;});}}</script>"
      ],
      "text/vnd.plotly.v1+html": [
       "<script>requirejs.config({paths: { 'plotly': ['https://cdn.plot.ly/plotly-latest.min']},});if(!window.Plotly) {{require(['plotly'],function(plotly) {window.Plotly=plotly;});}}</script>"
      ]
     },
     "metadata": {},
     "output_type": "display_data"
    }
   ],
   "source": [
    "import numpy as np\n",
    "import matplotlib.pyplot as plt\n",
    "import seaborn as sns\n",
    "import pandas as pd\n",
    "import glob\n",
    "from plotly.offline import download_plotlyjs, init_notebook_mode, plot, iplot\n",
    "\n",
    "init_notebook_mode(connected=True)\n",
    "%matplotlib inline"
   ]
  },
  {
   "cell_type": "code",
   "execution_count": 2,
   "metadata": {},
   "outputs": [
    {
     "name": "stdout",
     "output_type": "stream",
     "text": [
      "Working with 88 samples, in 20 families\n"
     ]
    }
   ],
   "source": [
    "import glob\n",
    "ped_file = '/data/sudregp/cnv/simplex.ped'\n",
    "wes_prefix = ['CLIA', 'CCGO', 'WPS']\n",
    "\n",
    "# cleaning up the data for this analysis\n",
    "fid = open('/home/sudregp/data/cnv/exclude.txt', 'r')\n",
    "exclude_list = [line.rstrip() for line in fid]\n",
    "fid.close()\n",
    "fid = open('/home/sudregp/data/cnv/exclude_multikids.txt', 'r')\n",
    "exclude_list += [line.rstrip() for line in fid]\n",
    "fid.close()\n",
    "\n",
    "trios = []\n",
    "affected = []\n",
    "controls = []\n",
    "samples = []\n",
    "famids = []\n",
    "fid = open(ped_file, 'r')\n",
    "for line in fid:\n",
    "    famid, sid, fa, mo, sex, aff = line.rstrip().split('\\t')\n",
    "    if (fa[:4] in wes_prefix and mo[:4] in wes_prefix and\n",
    "        sid[:4] in wes_prefix and sid not in exclude_list):\n",
    "        fam = {}\n",
    "        fam['child'] = sid\n",
    "        if aff == '1':\n",
    "            affected.append(sid)\n",
    "        else:\n",
    "            controls.append(sid)\n",
    "        fam['father'] = fa\n",
    "        fam['mother'] = mo\n",
    "        fam['famid'] = famid\n",
    "        trios.append(fam)\n",
    "        samples += [sid, fa, mo]\n",
    "        famids.append(famid)\n",
    "fid.close()\n",
    "samples = set(samples)\n",
    "famids = set(famids)\n",
    "good_kids = [t['child'] for t in trios]\n",
    "\n",
    "print 'Working with %d samples, in %d families' % (len(samples), len(famids))"
   ]
  },
  {
   "cell_type": "code",
   "execution_count": 13,
   "metadata": {},
   "outputs": [
    {
     "name": "stdout",
     "output_type": "stream",
     "text": [
      "\n",
      "=== Q 50 ===\n",
      "         count\n",
      "ABHD13       5\n",
      "LCORL        3\n",
      "SP3          3\n",
      "CHD9         2\n",
      "NCAPG        2\n",
      "DR1          2\n",
      "ETNK1        2\n",
      "MTFR2        2\n",
      "REV3L        2\n",
      "CCDC168      2\n",
      "\n",
      "\n",
      "RANGE (+/- 0kb )  [ 13 108870762 108886603 ABHD13 ]\n",
      " FID           IID      PHE  CHR          BP1          BP2   TYPE       KB     OLAP   OLAP_U   OLAP_R\n",
      "   1   CLIA_400122        2   13    108882417    108884732    DUP    2.315        1   0.1462   0.1462\n",
      "   1   CLIA_400158        1   13    108882417    108886344    DEL    3.927        1   0.2479   0.2479\n",
      "   1   CLIA_400123        2   13    108882665    108885500    DUP    2.835        1    0.179    0.179\n",
      "   1   CLIA_400178        2   13    108882844    108886540    DEL    3.696        1   0.2334   0.2334\n",
      "   1   CCGO_800979        1   13    108884227    108884732    DUP    0.505        1  0.03194  0.03194\n",
      "RANGE (+/- 0kb )  [ 4 17844838 18023483 LCORL ]\n",
      " FID           IID      PHE  CHR          BP1          BP2   TYPE       KB     OLAP   OLAP_U   OLAP_R\n",
      "   1   CLIA_400123        2    4     17845860     17879030    DUP    33.17        1   0.1857   0.1857\n",
      "   1   CLIA_400178        2    4     17845860     17879761    DEL     33.9        1   0.1898   0.1898\n",
      "   1   CLIA_400204        2    4     17878089     17878822    DEL    0.733        1 0.004109 0.004109\n",
      "RANGE (+/- 0kb )  [ 2 174771186 174830430 SP3 ]\n",
      " FID           IID      PHE  CHR          BP1          BP2   TYPE       KB     OLAP   OLAP_U   OLAP_R\n",
      "   1   CLIA_400122        2    2    174773152    174774713    DUP    1.561        1  0.02637  0.02637\n",
      "   1   CLIA_400178        2    2    174773152    174774713    DEL    1.561        1  0.02637  0.02637\n",
      "   1   CLIA_400127        2    2    174773152    174774713    DUP    1.561        1  0.02637  0.02637\n",
      "RANGE (+/- 0kb )  [ 16 53088944 53361414 CHD9 ]\n",
      " FID           IID      PHE  CHR          BP1          BP2   TYPE       KB     OLAP   OLAP_U   OLAP_R\n",
      "   1   CLIA_400178        2   16     53358611     53361477    DEL    2.866    0.978  0.01029  0.01029\n",
      "   1   CLIA_400203        1   16     53358753     53361477    DEL    2.724   0.9769 0.009768  0.00977\n",
      "RANGE (+/- 0kb )  [ 4 17812435 17846487 NCAPG ]\n",
      " FID           IID      PHE  CHR          BP1          BP2   TYPE       KB     OLAP   OLAP_U   OLAP_R\n",
      "   1   CLIA_400123        2    4     17845860     17879030    DUP    33.17  0.01893  0.00943  0.01844\n",
      "   1   CLIA_400178        2    4     17845860     17879761    DEL     33.9  0.01852 0.009328  0.01844\n",
      "RANGE (+/- 0kb )  [ 1 93811477 93828148 DR1 ]\n",
      " FID           IID      PHE  CHR          BP1          BP2   TYPE       KB     OLAP   OLAP_U   OLAP_R\n",
      "   1   CLIA_400178        2    1     93826021     93827995    DEL    1.974        1   0.1185   0.1185\n",
      "   1   CLIA_400123        2    1     93826021     93828152    DUP    2.131   0.9981   0.1276   0.1276\n",
      "RANGE (+/- 0kb )  [ X 139865424 139866723 CDR1 ]\n",
      " FID           IID      PHE  CHR          BP1          BP2   TYPE       KB     OLAP   OLAP_U   OLAP_R\n",
      "   1   CLIA_400216        2   23    139865699    139866921    DEL    1.222   0.8381   0.6842   0.7885\n",
      "\n",
      "RANGE (+/- 0kb )  [ 12 22778075 22843608 ETNK1 ]\n",
      " FID           IID      PHE  CHR          BP1          BP2   TYPE       KB     OLAP   OLAP_U   OLAP_R\n",
      "   1   CLIA_400123        2   12     22837754     22843415    DUP    5.661        1   0.0864   0.0864\n",
      "   1   CLIA_400178        2   12     22837754     22843608    DEL    5.854        1  0.08934  0.08934\n",
      "RANGE (+/- 0kb )  [ 6 136552167 136571449 MTFR2 ]\n",
      " FID           IID      PHE  CHR          BP1          BP2   TYPE       KB     OLAP   OLAP_U   OLAP_R\n",
      "   1   CLIA_400178        2    6    136565848    136588372    DEL    22.52   0.2487   0.1547   0.2905\n",
      "   1   CLIA_400139        1    6    136565848    136590791    DUP    24.94   0.2246    0.145   0.2905\n",
      "\n",
      "=== Q 60 ===\n",
      "        count\n",
      "ABHD13      5\n",
      "LCORL       3\n",
      "NCAPG       2\n",
      "CHD9        2\n",
      "REV3L       2\n",
      "ETNK1       2\n",
      "SP3         2\n",
      "CREBRF      2\n",
      "CCDC39      1\n",
      "STAP1       1\n",
      "\n",
      "\n",
      "RANGE (+/- 0kb )  [ 13 108870762 108886603 ABHD13 ]\n",
      " FID           IID      PHE  CHR          BP1          BP2   TYPE       KB     OLAP   OLAP_U   OLAP_R\n",
      "   1   CLIA_400122        2   13    108882417    108884732    DUP    2.315        1   0.1462   0.1462\n",
      "   1   CLIA_400158        1   13    108882417    108886344    DEL    3.927        1   0.2479   0.2479\n",
      "   1   CLIA_400123        2   13    108882665    108885500    DUP    2.835        1    0.179    0.179\n",
      "   1   CLIA_400178        2   13    108882844    108886540    DEL    3.696        1   0.2334   0.2334\n",
      "   1   CCGO_800979        1   13    108884227    108884732    DUP    0.505        1  0.03194  0.03194\n",
      "RANGE (+/- 0kb )  [ 4 17844838 18023483 LCORL ]\n",
      " FID           IID      PHE  CHR          BP1          BP2   TYPE       KB     OLAP   OLAP_U   OLAP_R\n",
      "   1   CLIA_400123        2    4     17845860     17879030    DUP    33.17        1   0.1857   0.1857\n",
      "   1   CLIA_400178        2    4     17845860     17879761    DEL     33.9        1   0.1898   0.1898\n",
      "   1   CLIA_400204        2    4     17878089     17878822    DEL    0.733        1 0.004109 0.004109\n",
      "RANGE (+/- 0kb )  [ 4 17812435 17846487 NCAPG ]\n",
      " FID           IID      PHE  CHR          BP1          BP2   TYPE       KB     OLAP   OLAP_U   OLAP_R\n",
      "   1   CLIA_400123        2    4     17845860     17879030    DUP    33.17  0.01893  0.00943  0.01844\n",
      "   1   CLIA_400178        2    4     17845860     17879761    DEL     33.9  0.01852 0.009328  0.01844\n",
      "RANGE (+/- 0kb )  [ 16 53088944 53361414 CHD9 ]\n",
      " FID           IID      PHE  CHR          BP1          BP2   TYPE       KB     OLAP   OLAP_U   OLAP_R\n",
      "   1   CLIA_400178        2   16     53358611     53361477    DEL    2.866    0.978  0.01029  0.01029\n",
      "   1   CLIA_400203        1   16     53358753     53361477    DEL    2.724   0.9769 0.009768  0.00977\n",
      "RANGE (+/- 0kb )  [ 6 111620233 111804918 REV3L ]\n",
      " FID           IID      PHE  CHR          BP1          BP2   TYPE       KB     OLAP   OLAP_U   OLAP_R\n",
      "   1   CLIA_400122        2    6    111695858    111697526    DUP    1.668        1 0.009037 0.009037\n",
      "   1   CLIA_400178        2    6    111696483    111698010    DEL    1.527        1 0.008274 0.008274\n",
      "RANGE (+/- 0kb )  [ 12 22778075 22843608 ETNK1 ]\n",
      " FID           IID      PHE  CHR          BP1          BP2   TYPE       KB     OLAP   OLAP_U   OLAP_R\n",
      "   1   CLIA_400123        2   12     22837754     22843415    DUP    5.661        1   0.0864   0.0864\n",
      "   1   CLIA_400178        2   12     22837754     22843608    DEL    5.854        1  0.08934  0.08934\n",
      "RANGE (+/- 0kb )  [ 2 174771186 174830430 SP3 ]\n",
      " FID           IID      PHE  CHR          BP1          BP2   TYPE       KB     OLAP   OLAP_U   OLAP_R\n",
      "   1   CLIA_400122        2    2    174773152    174774713    DUP    1.561        1  0.02637  0.02637\n",
      "   1   CLIA_400178        2    2    174773152    174774713    DEL    1.561        1  0.02637  0.02637\n",
      "RANGE (+/- 0kb )  [ 5 172483354 172566291 CREBRF ]\n",
      " FID           IID      PHE  CHR          BP1          BP2   TYPE       KB     OLAP   OLAP_U   OLAP_R\n",
      "   1   CLIA_400178        2    5    172561387    172563967    DEL     2.58        1  0.03112  0.03112\n",
      "   1   CLIA_400122        2    5    172561849    172563590    DUP    1.741        1    0.021    0.021\n",
      "\n",
      "=== Q 70 ===\n",
      "         count\n",
      "ABHD13       5\n",
      "CHD9         2\n",
      "SP3          2\n",
      "CCDC39       1\n",
      "BCLAF1       1\n",
      "MED13        1\n",
      "ETNK1        1\n",
      "DNAJB14      1\n",
      "CREBRF       1\n",
      "LYSMD3       1\n",
      "\n",
      "\n",
      "RANGE (+/- 0kb )  [ 13 108870762 108886603 ABHD13 ]\n",
      " FID           IID      PHE  CHR          BP1          BP2   TYPE       KB     OLAP   OLAP_U   OLAP_R\n",
      "   1   CLIA_400122        2   13    108882417    108884732    DUP    2.315        1   0.1462   0.1462\n",
      "   1   CLIA_400158        1   13    108882417    108886344    DEL    3.927        1   0.2479   0.2479\n",
      "   1   CLIA_400123        2   13    108882665    108885500    DUP    2.835        1    0.179    0.179\n",
      "   1   CLIA_400178        2   13    108882844    108886540    DEL    3.696        1   0.2334   0.2334\n",
      "   1   CCGO_800979        1   13    108884227    108884732    DUP    0.505        1  0.03194  0.03194\n",
      "RANGE (+/- 0kb )  [ 16 53088944 53361414 CHD9 ]\n",
      " FID           IID      PHE  CHR          BP1          BP2   TYPE       KB     OLAP   OLAP_U   OLAP_R\n",
      "   1   CLIA_400178        2   16     53358611     53361477    DEL    2.866    0.978  0.01029  0.01029\n",
      "   1   CLIA_400203        1   16     53358753     53361477    DEL    2.724   0.9769 0.009768  0.00977\n",
      "RANGE (+/- 0kb )  [ 2 174771186 174830430 SP3 ]\n",
      " FID           IID      PHE  CHR          BP1          BP2   TYPE       KB     OLAP   OLAP_U   OLAP_R\n",
      "   1   CLIA_400122        2    2    174773152    174774713    DUP    1.561        1  0.02637  0.02637\n",
      "   1   CLIA_400178        2    2    174773152    174774713    DEL    1.561        1  0.02637  0.02637\n",
      "RANGE (+/- 0kb )  [ 3 180331795 180397283 CCDC39 ]\n",
      " FID           IID      PHE  CHR          BP1          BP2   TYPE       KB     OLAP   OLAP_U   OLAP_R\n",
      "   1   CLIA_400178        2    3    180321797    180334721    DEL    12.92   0.2265  0.03877  0.04469\n",
      "RANGE (+/- 0kb )  [ 6 136578000 136610989 BCLAF1 ]\n",
      " FID           IID      PHE  CHR          BP1          BP2   TYPE       KB     OLAP   OLAP_U   OLAP_R\n",
      "   1   CLIA_400178        2    6    136565848    136588372    DEL    22.52   0.4605   0.2298   0.3144\n",
      "RANGE (+/- 0kb )  [ 17 60019965 60142643 MED13 ]\n",
      " FID           IID      PHE  CHR          BP1          BP2   TYPE       KB     OLAP   OLAP_U   OLAP_R\n",
      "   1   CLIA_400178        2   17     60019917     60023490    DEL    3.573   0.9866  0.02873  0.02874\n",
      "RANGE (+/- 0kb )  [ 12 22778075 22843608 ETNK1 ]\n",
      " FID           IID      PHE  CHR          BP1          BP2   TYPE       KB     OLAP   OLAP_U   OLAP_R\n",
      "   1   CLIA_400123        2   12     22837754     22843415    DUP    5.661        1   0.0864   0.0864\n",
      "RANGE (+/- 0kb )  [ 4 100817406 100867883 DNAJB14 ]\n",
      " FID           IID      PHE  CHR          BP1          BP2   TYPE       KB     OLAP   OLAP_U   OLAP_R\n",
      "   1   CLIA_400178        2    4    100820580    100830058    DEL    9.478        1   0.1878   0.1878\n",
      "\n",
      "=== Q 80 ===\n",
      "         count\n",
      "ABHD13       2\n",
      "ERBB2IP      1\n",
      "TEX15        1\n",
      "DR1          1\n",
      "REV3L        1\n",
      "SP3          1\n",
      "GLIPR1       1\n",
      "JRKL         1\n",
      "LYSMD3       1\n",
      "CREBRF       1\n",
      "\n",
      "\n",
      "RANGE (+/- 0kb )  [ 13 108870762 108886603 ABHD13 ]\n",
      " FID           IID      PHE  CHR          BP1          BP2   TYPE       KB     OLAP   OLAP_U   OLAP_R\n",
      "   1   CLIA_400158        1   13    108882417    108886344    DEL    3.927        1   0.2479   0.2479\n",
      "   1   CCGO_800979        1   13    108884227    108884732    DUP    0.505        1  0.03194  0.03194\n",
      "RANGE (+/- 0kb )  [ 5 65222381 65376851 ERBB2IP ]\n",
      " FID           IID      PHE  CHR          BP1          BP2   TYPE       KB     OLAP   OLAP_U   OLAP_R\n",
      "   1   CLIA_400178        2    5     65317020     65349964    DEL    32.94        1   0.2133   0.2133\n",
      "RANGE (+/- 0kb )  [ 8 30689059 30706533 TEX15 ]\n",
      " FID           IID      PHE  CHR          BP1          BP2   TYPE       KB     OLAP   OLAP_U   OLAP_R\n",
      "   1   CLIA_400205        2    8     30701835     30704812    DEL    2.977        1   0.1704   0.1704\n",
      "RANGE (+/- 0kb )  [ 1 93811477 93828148 DR1 ]\n",
      " FID           IID      PHE  CHR          BP1          BP2   TYPE       KB     OLAP   OLAP_U   OLAP_R\n",
      "   1   CLIA_400178        2    1     93826021     93827995    DEL    1.974        1   0.1185   0.1185\n",
      "RANGE (+/- 0kb )  [ 6 111620233 111804918 REV3L ]\n",
      " FID           IID      PHE  CHR          BP1          BP2   TYPE       KB     OLAP   OLAP_U   OLAP_R\n",
      "   1   CLIA_400178        2    6    111696483    111698010    DEL    1.527        1 0.008274 0.008274\n",
      "RANGE (+/- 0kb )  [ 2 174771186 174830430 SP3 ]\n",
      " FID           IID      PHE  CHR          BP1          BP2   TYPE       KB     OLAP   OLAP_U   OLAP_R\n",
      "   1   CLIA_400178        2    2    174773152    174774713    DEL    1.561        1  0.02637  0.02637\n",
      "RANGE (+/- 0kb )  [ 12 75874512 75895716 GLIPR1 ]\n",
      " FID           IID      PHE  CHR          BP1          BP2   TYPE       KB     OLAP   OLAP_U   OLAP_R\n",
      "   1   CLIA_400178        2   12     75892385     75900743    DEL    8.358   0.3986    0.127   0.1571\n",
      "RANGE (+/- 0kb )  [ 11 96123157 96126727 JRKL ]\n",
      " FID           IID      PHE  CHR          BP1          BP2   TYPE       KB     OLAP   OLAP_U   OLAP_R\n",
      "   1   CLIA_400178        2   11     96125655     96126697    DEL    1.042        1   0.2921   0.2921\n",
      "\n",
      "=== Q 90 ===\n",
      "           count\n",
      "CETN3          1\n",
      "MBLAC2         1\n",
      "JRKL           1\n",
      "LOC731157      1\n",
      "\n",
      "\n",
      "RANGE (+/- 0kb )  [ 5 89689528 89705603 CETN3 ]\n",
      " FID           IID      PHE  CHR          BP1          BP2   TYPE       KB     OLAP   OLAP_U   OLAP_R\n",
      "   1   CLIA_400178        2    5     89689567     89756134    DEL    66.57   0.2409   0.2408   0.9976\n",
      "RANGE (+/- 0kb )  [ 5 89754019 89770585 MBLAC2 ]\n",
      " FID           IID      PHE  CHR          BP1          BP2   TYPE       KB     OLAP   OLAP_U   OLAP_R\n",
      "   1   CLIA_400178        2    5     89689567     89756134    DEL    66.57  0.03179  0.02612   0.1277\n",
      "RANGE (+/- 0kb )  [ 11 96123157 96126727 JRKL ]\n",
      " FID           IID      PHE  CHR          BP1          BP2   TYPE       KB     OLAP   OLAP_U   OLAP_R\n",
      "   1   CLIA_400178        2   11     96125655     96126697    DEL    1.042        1   0.2921   0.2921\n",
      "RANGE (+/- 0kb )  [ 5 89705816 89706486 LOC731157 ]\n",
      " FID           IID      PHE  CHR          BP1          BP2   TYPE       KB     OLAP   OLAP_U   OLAP_R\n",
      "   1   CLIA_400178        2    5     89689567     89756134    DEL    66.57  0.01008  0.01008        1\n"
     ]
    }
   ],
   "source": [
    "for q in [50, 60, 70, 80, 90]:\n",
    "    print '\\n=== Q %d ===' % q\n",
    "    fname = '/home/sudregp/data/cnv/xhmm_clean/denovo_q%d_clean_lenLT250_genes.reg' % q\n",
    "    fid = open(fname)\n",
    "    genes = {}\n",
    "    for line in fid:\n",
    "        if line.find('RANGE') >= 0:\n",
    "            gene = line.split(' ')[-2]\n",
    "            genes[gene] = 0\n",
    "        elif line.find('DUP') > 0 or line.find('DEL') > 0:\n",
    "            genes[gene] += 1\n",
    "    fid.close()\n",
    "    df = pd.DataFrame.from_dict(genes, orient='index')\n",
    "    df.columns = ['count']\n",
    "    print df.sort_values(by='count', ascending=False).head(10)\n",
    "    print '\\n'\n",
    "    dfs = df.sort_values(by='count', ascending=False).head(8)\n",
    "    for index, count in dfs.iterrows():\n",
    "        nlines = count[0]\n",
    "        gene = index\n",
    "        fid = open(fname)\n",
    "        for line in fid:\n",
    "            if line.find(gene) >= 0:\n",
    "                print line.rstrip()\n",
    "                for i in range(nlines + 1):\n",
    "                    line = fid.next()\n",
    "                    print line.rstrip()\n",
    "        fid.close()"
   ]
  },
  {
   "cell_type": "markdown",
   "metadata": {},
   "source": [
    "OK, so going higher to 70 or lower to 50 we still have similar results. "
   ]
  },
  {
   "cell_type": "markdown",
   "metadata": {},
   "source": [
    "# Bigger CNVs\n",
    "\n",
    "Let's take a quick look at what's up with the bigger CNVs:"
   ]
  },
  {
   "cell_type": "code",
   "execution_count": 14,
   "metadata": {},
   "outputs": [
    {
     "data": {
      "image/png": "[encoded data removed]",
      "text/plain": [
       "<matplotlib.figure.Figure at 0x2aaaf9b26b50>"
      ]
     },
     "metadata": {},
     "output_type": "display_data"
    }
   ],
   "source": [
    "data_dir = '/home/sudregp/data/cnv/xhmm_clean/'\n",
    "files = glob.glob(data_dir + '/*_q60*.cnv')\n",
    "files.sort()\n",
    "plt.figure(figsize=(15,8))\n",
    "i = 1\n",
    "for fname in files:\n",
    "    if fname.find('DATA') < 0:\n",
    "        plt.subplot(3, 2, i)\n",
    "        # the clean files have a header\n",
    "        if fname.find('clean') >= 0:\n",
    "            df = pd.read_table(fname, header=None, skiprows=1, delimiter='\\s+')\n",
    "        else:\n",
    "            df = pd.read_table(fname, header=None)\n",
    "        sns.distplot((df[4]-df[3])/1000, kde=False, bins=50)\n",
    "        plt.xlabel('length (kb)')\n",
    "        plt.title(fname.split('/')[-1])\n",
    "        i += 1\n",
    "plt.tight_layout()"
   ]
  },
  {
   "cell_type": "code",
   "execution_count": 22,
   "metadata": {},
   "outputs": [
    {
     "name": "stdout",
     "output_type": "stream",
     "text": [
      "1\tCLIA_400178\t5\t86690076\t87492322\t1\t72\t19 802.246\n"
     ]
    }
   ],
   "source": [
    "%%bash\n",
    "cd ~/data/cnv/xhmm_clean\n",
    "cat denovo_q60.cnv | awk '{ if (($5-$4)/1000 > 500) { print $_, ($5-$4)/1000 } }'"
   ]
  },
  {
   "cell_type": "code",
   "execution_count": 21,
   "metadata": {},
   "outputs": [
    {
     "name": "stdout",
     "output_type": "stream",
     "text": [
      "1\tCLIA_400216\t16\t33326701\t33630152\t3\t93\t17 303.451\n",
      "1\tCLIA_400134\t16\t33326701\t33630152\t3\t93\t17 303.451\n",
      "1\tCLIA_400178\t1\t71529027\t71871700\t1\t98\t29 342.673\n",
      "1\tCLIA_400178\t5\t86690076\t87492322\t1\t72\t19 802.246\n"
     ]
    }
   ],
   "source": [
    "%%bash\n",
    "cd ~/data/cnv/xhmm_clean\n",
    "cat denovo_q60.cnv | awk '{ if (($5-$4)/1000 > 250) { print $_, ($5-$4)/1000 } }'"
   ]
  },
  {
   "cell_type": "code",
   "execution_count": 23,
   "metadata": {},
   "outputs": [
    {
     "name": "stdout",
     "output_type": "stream",
     "text": [
      "True\n",
      "True\n"
     ]
    }
   ],
   "source": [
    "print 'CLIA_400216' in affected\n",
    "print 'CLIA_400134' in affected"
   ]
  },
  {
   "cell_type": "markdown",
   "metadata": {},
   "source": [
    "If we just look at denovos, 400178 has the big 800Kb CNV, and also the second biggest with 342Kb. The other two kids with large denovo CNVs are also affected. Interesting...\n",
    "\n",
    "Let's see how far down we have to go to get the first control with denovo CNV:"
   ]
  },
  {
   "cell_type": "code",
   "execution_count": 24,
   "metadata": {},
   "outputs": [
    {
     "name": "stdout",
     "output_type": "stream",
     "text": [
      "1\tCLIA_400216\t16\t33326701\t33630152\t3\t93\t17 303.451\n",
      "1\tCLIA_400216\t17\t44379939\t44627953\t3\t95\t33 248.014\n",
      "1\tCLIA_400134\t16\t33326701\t33630152\t3\t93\t17 303.451\n",
      "1\tCLIA_400195\t17\t44430104\t44632532\t3\t94\t17 202.428\n",
      "1\tCLIA_400152\t17\t44414937\t44627953\t3\t95\t19 213.016\n",
      "1\tCLIA_400212\t16\t32268881\t32486853\t3\t89\t11 217.972\n",
      "1\tCLIA_400178\t1\t71529027\t71871700\t1\t98\t29 342.673\n",
      "1\tCLIA_400178\t4\t70811826\t71020253\t1\t92\t53 208.427\n",
      "1\tCLIA_400178\t5\t86690076\t87492322\t1\t72\t19 802.246\n",
      "1\tCLIA_400178\t5\t99921895\t100144777\t1\t91\t10 222.882\n"
     ]
    }
   ],
   "source": [
    "%%bash\n",
    "cd ~/data/cnv/xhmm_clean\n",
    "cat denovo_q60.cnv | awk '{ if (($5-$4)/1000 > 200) { print $_, ($5-$4)/1000 } }'"
   ]
  },
  {
   "cell_type": "code",
   "execution_count": 25,
   "metadata": {},
   "outputs": [
    {
     "name": "stdout",
     "output_type": "stream",
     "text": [
      "False\n",
      "False\n",
      "False\n"
     ]
    }
   ],
   "source": [
    "print 'CLIA_400195' in affected\n",
    "print 'CLIA_400152' in affected\n",
    "print 'CLIA_400212' in affected"
   ]
  },
  {
   "cell_type": "markdown",
   "metadata": {},
   "source": [
    "So, just to round it off, it looks like anything above 225 Kbs is ADHD. Also, other than the big one, they're all quite high quality:"
   ]
  },
  {
   "cell_type": "code",
   "execution_count": 26,
   "metadata": {},
   "outputs": [
    {
     "name": "stdout",
     "output_type": "stream",
     "text": [
      "1\tCLIA_400216\t16\t33326701\t33630152\t3\t93\t17 303.451\n",
      "1\tCLIA_400216\t17\t44379939\t44627953\t3\t95\t33 248.014\n",
      "1\tCLIA_400134\t16\t33326701\t33630152\t3\t93\t17 303.451\n",
      "1\tCLIA_400178\t1\t71529027\t71871700\t1\t98\t29 342.673\n",
      "1\tCLIA_400178\t5\t86690076\t87492322\t1\t72\t19 802.246\n"
     ]
    }
   ],
   "source": [
    "%%bash\n",
    "cd ~/data/cnv/xhmm_clean\n",
    "cat denovo_q60.cnv | awk '{ if (($5-$4)/1000 > 225) { print $_, ($5-$4)/1000 } }'"
   ]
  },
  {
   "cell_type": "markdown",
   "metadata": {},
   "source": [
    "A few more questions:\n",
    "\n",
    "* How does it look at Q50?\n",
    "* Do the other siblings have mutations around those regions? \n",
    "* Where do these mutation lie?\n",
    "* What about the inherited mutations?"
   ]
  },
  {
   "cell_type": "code",
   "execution_count": 27,
   "metadata": {},
   "outputs": [
    {
     "name": "stdout",
     "output_type": "stream",
     "text": [
      "   1   CLIA_400178    1     71529027     71871700      1           98       29  342.673\n",
      "   1   CLIA_400178    5     86690076     87492322      1           72       19  802.246\n"
     ]
    }
   ],
   "source": [
    "%%bash\n",
    "cd ~/data/cnv/xhmm_clean\n",
    "cat denovo_q60_clean.cnv | awk '{ if (($5-$4)/1000 > 225) { print $_, ($5-$4)/1000 } }'"
   ]
  },
  {
   "cell_type": "markdown",
   "metadata": {},
   "source": [
    "Hum, apparently those mutations for the other 2 kids are common in the population (i.e. not in the clean set)? Should check more on that. But if could also be that we can go even lower in the clean set to see when the first control shows up:"
   ]
  },
  {
   "cell_type": "code",
   "execution_count": 28,
   "metadata": {},
   "outputs": [
    {
     "name": "stdout",
     "output_type": "stream",
     "text": [
      "1\tCLIA_400216\t1\t143400814\t143664229\t3\t50\t8 263.415\n",
      "1\tCLIA_400216\t16\t33326701\t33630152\t3\t93\t17 303.451\n",
      "1\tCLIA_400216\t17\t44379939\t44627953\t3\t95\t33 248.014\n",
      "1\tCLIA_400134\t16\t33326701\t33630152\t3\t93\t17 303.451\n",
      "1\tCLIA_400203\t3\t86115732\t86990556\t1\t94\t17 874.824\n",
      "1\tCLIA_400201\t1\t17034432\t17264317\t1\t58\t27 229.885\n",
      "1\tCLIA_400201\t21\t9907082\t10215458\t1\t99\t8 308.376\n",
      "1\tCLIA_400123\t15\t20777564\t21140921\t1\t92\t22 363.357\n",
      "1\tCLIA_400144\t2\t88095135\t88327312\t3\t56\t11 232.177\n",
      "1\tCLIA_400153\t14\t22695008\t22925802\t3\t92\t31 230.794\n",
      "1\tCLIA_400138\t16\t32163406\t32447428\t3\t93\t34 284.022\n",
      "1\tCLIA_400178\t1\t71529027\t71871700\t1\t98\t29 342.673\n",
      "1\tCLIA_400178\t3\t86116004\t86990556\t1\t93\t15 874.552\n",
      "1\tCLIA_400178\t5\t86690076\t87492322\t1\t72\t19 802.246\n",
      "1\tCLIA_400205\t16\t33402023\t33630152\t1\t93\t13 228.129\n"
     ]
    }
   ],
   "source": [
    "%%bash\n",
    "cd ~/data/cnv/xhmm_clean\n",
    "cat denovo_q50.cnv | awk '{ if (($5-$4)/1000 > 225) { print $_, ($5-$4)/1000 } }'"
   ]
  },
  {
   "cell_type": "code",
   "execution_count": 29,
   "metadata": {},
   "outputs": [
    {
     "name": "stdout",
     "output_type": "stream",
     "text": [
      "False\n",
      "False\n",
      "True\n",
      "False\n",
      "True\n",
      "True\n"
     ]
    }
   ],
   "source": [
    "print 'CLIA_400203' in affected  # probably > Q50 in a parent\n",
    "print 'CLIA_400201' in affected\n",
    "print 'CLIA_400123' in affected\n",
    "print 'CLIA_400144' in affected\n",
    "print 'CLIA_400153' in affected\n",
    "print 'CLIA_400205' in affected"
   ]
  },
  {
   "cell_type": "markdown",
   "metadata": {},
   "source": [
    "If we take the quality down to 50, we add a few controls at that threshold as well. Let's stay at Q60 for now."
   ]
  },
  {
   "cell_type": "code",
   "execution_count": 33,
   "metadata": {},
   "outputs": [
    {
     "name": "stdout",
     "output_type": "stream",
     "text": [
      "   1   CLIA_400178    1     71529027     71871700      1           98       29  342.673\n",
      "   1   CLIA_400178    5     86690076     87492322      1           72       19  802.246\n"
     ]
    }
   ],
   "source": [
    "%%bash\n",
    "cd ~/data/cnv/xhmm_clean\n",
    "cat denovo_q60_clean.cnv | awk '{ if (($5-$4)/1000 > 100) { print $_, ($5-$4)/1000 } }'"
   ]
  },
  {
   "cell_type": "markdown",
   "metadata": {},
   "source": [
    "Well, this is interesting by itself. Assuming the results in 400178 are good, there's no rare denovo CNV > 100Kb other than those. "
   ]
  },
  {
   "cell_type": "code",
   "execution_count": 42,
   "metadata": {},
   "outputs": [
    {
     "name": "stdout",
     "output_type": "stream",
     "text": [
      "   1   CLIA_400123    4     17845860     17879030      3           83       31  33.17\n",
      "   1   CLIA_400123   12     22837754     22843415      3           85       13  5.661\n",
      "   1   CLIA_400178    1     62910396     62921225      1           98       18  10.829\n",
      "   1   CLIA_400178    1     71529027     71871700      1           98       29  342.673\n",
      "   1   CLIA_400178    3    180321797    180334721      1           93       24  12.924\n",
      "   1   CLIA_400178    4     17845860     17879761      1           92       34  33.901\n",
      "   1   CLIA_400178    4     68471897     68507036      1           62       22  35.139\n",
      "   1   CLIA_400178    4    100820580    100830058      1           70       12  9.478\n",
      "   1   CLIA_400178    4    113186077    113191253      1           92       10  5.176\n",
      "   1   CLIA_400178    5     65317020     65349964      1           88       24  32.944\n",
      "   1   CLIA_400178    5     86690076     87492322      1           72       19  802.246\n",
      "   1   CLIA_400178    5     89689567     89756134      1           91       13  66.567\n",
      "   1   CLIA_400178    5     89808056     89813870      1           91        9  5.814\n",
      "   1   CLIA_400178    6    136565848    136588372      1           92        9  22.524\n",
      "   1   CLIA_400178   11     32622146     32636497      1           91       16  14.351\n",
      "   1   CLIA_400178   12     22837754     22843608      1           91       14  5.854\n",
      "   1   CLIA_400178   12     75892385     75900743      1           91       12  8.358\n"
     ]
    }
   ],
   "source": [
    "%%bash\n",
    "cd ~/data/cnv/xhmm_clean\n",
    "cat denovo_q60_clean.cnv | awk '{ if (($5-$4)/1000 > 5) { print $_, ($5-$4)/1000 } }'"
   ]
  },
  {
   "cell_type": "markdown",
   "metadata": {},
   "source": [
    "Actually, even above 5Kb we only get 400178, and 400123, who is also affected. Same CNV in both too. Now, do the siblings have similar CNVs? And where do they fall?"
   ]
  },
  {
   "cell_type": "code",
   "execution_count": 45,
   "metadata": {},
   "outputs": [
    {
     "data": {
      "text/plain": [
       "['CLIA_400178', 'CLIA_400179', 'CLIA_400180']"
      ]
     },
     "execution_count": 45,
     "metadata": {},
     "output_type": "execute_result"
    }
   ],
   "source": [
    "f = [t['famid'] for t in trios if t['child'] == 'CLIA_400178'][0]\n",
    "[t['child'] for t in trios if t['famid'] == f]"
   ]
  },
  {
   "cell_type": "code",
   "execution_count": 48,
   "metadata": {
    "collapsed": true
   },
   "outputs": [],
   "source": [
    "%%bash\n",
    "cd ~/data/cnv/xhmm_clean\n",
    "grep CLIA_400179 denovo_q60_clean.cnv\n",
    "grep CLIA_400180 denovo_q60_clean.cnv"
   ]
  },
  {
   "cell_type": "code",
   "execution_count": 49,
   "metadata": {},
   "outputs": [
    {
     "data": {
      "text/plain": [
       "['CLIA_400123', 'CLIA_400195']"
      ]
     },
     "execution_count": 49,
     "metadata": {},
     "output_type": "execute_result"
    }
   ],
   "source": [
    "f = [t['famid'] for t in trios if t['child'] == 'CLIA_400123'][0]\n",
    "[t['child'] for t in trios if t['famid'] == f]"
   ]
  },
  {
   "cell_type": "code",
   "execution_count": 50,
   "metadata": {
    "collapsed": true
   },
   "outputs": [],
   "source": [
    "%%bash\n",
    "cd ~/data/cnv/xhmm_clean\n",
    "grep CLIA_400195 denovo_q60_clean.cnv"
   ]
  },
  {
   "cell_type": "markdown",
   "metadata": {},
   "source": [
    "Nope, siblings don't have them. What about the bigger set (unclean)?"
   ]
  },
  {
   "cell_type": "code",
   "execution_count": 51,
   "metadata": {},
   "outputs": [
    {
     "name": "stdout",
     "output_type": "stream",
     "text": [
      "1\tCLIA_400216\t16\t33326701\t33630152\t3\t93\t17 303.451\n",
      "1\tCLIA_400216\t17\t44379939\t44627953\t3\t95\t33 248.014\n",
      "1\tCLIA_400134\t16\t33326701\t33630152\t3\t93\t17 303.451\n",
      "1\tCLIA_400178\t1\t71529027\t71871700\t1\t98\t29 342.673\n",
      "1\tCLIA_400178\t5\t86690076\t87492322\t1\t72\t19 802.246\n"
     ]
    }
   ],
   "source": [
    "%%bash\n",
    "cd ~/data/cnv/xhmm_clean\n",
    "cat denovo_q60.cnv | awk '{ if (($5-$4)/1000 > 225) { print $_, ($5-$4)/1000 } }'"
   ]
  },
  {
   "cell_type": "code",
   "execution_count": 52,
   "metadata": {},
   "outputs": [
    {
     "name": "stdout",
     "output_type": "stream",
     "text": [
      "1\tCLIA_400179\t1\t25598972\t25634379\t3\t99\t9\n",
      "1\tCLIA_400179\t1\t144955188\t145075113\t3\t74\t10\n",
      "1\tCLIA_400179\t2\t96457903\t96459631\t3\t70\t3\n",
      "1\tCLIA_400179\t2\t96697772\t96698188\t1\t90\t3\n",
      "1\tCLIA_400179\t6\t26638915\t26746732\t1\t92\t5\n",
      "1\tCLIA_400179\t6\t90572398\t90573532\t1\t76\t10\n",
      "1\tCLIA_400179\t11\t134605131\t134605973\t3\t63\t5\n",
      "1\tCLIA_400179\t15\t84858533\t84869431\t3\t93\t8\n",
      "1\tCLIA_400179\tX\t154113278\t154116223\t3\t99\t5\n",
      "1\tCLIA_400180\t1\t25598972\t25667153\t1\t99\t10\n",
      "1\tCLIA_400180\t2\t96457903\t96464066\t3\t96\t6\n",
      "1\tCLIA_400180\t2\t96696099\t96698188\t1\t96\t5\n",
      "1\tCLIA_400180\t4\t119434648\t119465626\t1\t92\t15\n",
      "1\tCLIA_400180\t7\t142045310\t142045845\t1\t60\t3\n",
      "1\tCLIA_400180\t10\t47899916\t47949383\t1\t92\t22\n",
      "1\tCLIA_400180\t11\t134605131\t134605973\t1\t84\t5\n",
      "1\tCLIA_400180\t14\t107169999\t107183605\t3\t70\t8\n",
      "1\tCLIA_400180\t16\t16458597\t16463616\t1\t93\t18\n"
     ]
    }
   ],
   "source": [
    "%%bash\n",
    "cd ~/data/cnv/xhmm_clean\n",
    "grep CLIA_400179 denovo_q60.cnv\n",
    "grep CLIA_400180 denovo_q60.cnv"
   ]
  },
  {
   "cell_type": "markdown",
   "metadata": {},
   "source": [
    "400178 is clear."
   ]
  },
  {
   "cell_type": "code",
   "execution_count": 54,
   "metadata": {},
   "outputs": [
    {
     "data": {
      "text/plain": [
       "['CLIA_400216', 'CLIA_400133']"
      ]
     },
     "execution_count": 54,
     "metadata": {},
     "output_type": "execute_result"
    }
   ],
   "source": [
    "f = [t['famid'] for t in trios if t['child'] == 'CLIA_400216'][0]\n",
    "[t['child'] for t in trios if t['famid'] == f]"
   ]
  },
  {
   "cell_type": "code",
   "execution_count": 55,
   "metadata": {},
   "outputs": [
    {
     "name": "stdout",
     "output_type": "stream",
     "text": [
      "1\tCLIA_400133\t2\t98139688\t98162345\t3\t96\t9\n",
      "1\tCLIA_400133\t3\t195452831\t195475977\t3\t93\t11\n",
      "1\tCLIA_400133\t6\t29274718\t29324007\t1\t61\t10\n",
      "1\tCLIA_400133\t6\t29394894\t29524030\t1\t91\t29\n",
      "1\tCLIA_400133\t6\t30570410\t30572089\t1\t89\t11\n",
      "1\tCLIA_400133\t6\t32260905\t32261538\t1\t85\t4\n",
      "1\tCLIA_400133\t12\t9633064\t9728348\t3\t92\t40\n",
      "1\tCLIA_400133\t13\t25670625\t25671618\t1\t92\t5\n",
      "1\tCLIA_400133\t16\t28615545\t28621414\t3\t93\t7\n",
      "1\tCLIA_400133\t16\t33490834\t33630152\t3\t93\t12\n",
      "1\tCLIA_400133\t16\t33736438\t33752680\t3\t61\t7\n",
      "1\tCLIA_400133\t19\t55336421\t55351162\t3\t68\t12\n"
     ]
    }
   ],
   "source": [
    "%%bash\n",
    "cd ~/data/cnv/xhmm_clean\n",
    "grep CLIA_400133 denovo_q60.cnv"
   ]
  },
  {
   "cell_type": "markdown",
   "metadata": {},
   "source": [
    "The CNV in chromosome 16 do overlap with one in the control kid, but not the same CNV. The chr17 CNV is clear."
   ]
  },
  {
   "cell_type": "code",
   "execution_count": 56,
   "metadata": {},
   "outputs": [
    {
     "data": {
      "text/plain": [
       "['CLIA_400134', 'CLIA_400175']"
      ]
     },
     "execution_count": 56,
     "metadata": {},
     "output_type": "execute_result"
    }
   ],
   "source": [
    "f = [t['famid'] for t in trios if t['child'] == 'CLIA_400134'][0]\n",
    "[t['child'] for t in trios if t['famid'] == f]"
   ]
  },
  {
   "cell_type": "code",
   "execution_count": 57,
   "metadata": {},
   "outputs": [
    {
     "name": "stdout",
     "output_type": "stream",
     "text": [
      "1\tCLIA_400175\t1\t196743908\t196797425\t3\t99\t13\n",
      "1\tCLIA_400175\t1\t196881840\t196887591\t3\t83\t7\n",
      "1\tCLIA_400175\t6\t29274383\t29275503\t1\t91\t6\n",
      "1\tCLIA_400175\t12\t9590634\t9728348\t3\t92\t43\n",
      "1\tCLIA_400175\t14\t22749291\t22788898\t3\t65\t12\n",
      "1\tCLIA_400175\t14\t64938654\t64940506\t3\t65\t14\n",
      "1\tCLIA_400175\t22\t20385663\t20456795\t1\t98\t15\n"
     ]
    }
   ],
   "source": [
    "%%bash\n",
    "cd ~/data/cnv/xhmm_clean\n",
    "grep CLIA_400175 denovo_q60.cnv"
   ]
  },
  {
   "cell_type": "markdown",
   "metadata": {},
   "source": [
    "We're clear here as well."
   ]
  },
  {
   "cell_type": "markdown",
   "metadata": {},
   "source": [
    "Finally, let's look at the genes affected. Again, these are the 2 main results:"
   ]
  },
  {
   "cell_type": "code",
   "execution_count": 60,
   "metadata": {},
   "outputs": [
    {
     "name": "stdout",
     "output_type": "stream",
     "text": [
      "=== ALL > 225Kb ===\n",
      "1\tCLIA_400216\t16\t33326701\t33630152\t3\t93\t17 303.451\n",
      "1\tCLIA_400216\t17\t44379939\t44627953\t3\t95\t33 248.014\n",
      "1\tCLIA_400134\t16\t33326701\t33630152\t3\t93\t17 303.451\n",
      "1\tCLIA_400178\t1\t71529027\t71871700\t1\t98\t29 342.673\n",
      "1\tCLIA_400178\t5\t86690076\t87492322\t1\t72\t19 802.246\n",
      "=== CLEAN > 5Kb ===\n",
      "   1   CLIA_400123    4     17845860     17879030      3           83       31  33.17\n",
      "   1   CLIA_400123   12     22837754     22843415      3           85       13  5.661\n",
      "   1   CLIA_400178    1     62910396     62921225      1           98       18  10.829\n",
      "   1   CLIA_400178    1     71529027     71871700      1           98       29  342.673\n",
      "   1   CLIA_400178    3    180321797    180334721      1           93       24  12.924\n",
      "   1   CLIA_400178    4     17845860     17879761      1           92       34  33.901\n",
      "   1   CLIA_400178    4     68471897     68507036      1           62       22  35.139\n",
      "   1   CLIA_400178    4    100820580    100830058      1           70       12  9.478\n",
      "   1   CLIA_400178    4    113186077    113191253      1           92       10  5.176\n",
      "   1   CLIA_400178    5     65317020     65349964      1           88       24  32.944\n",
      "   1   CLIA_400178    5     86690076     87492322      1           72       19  802.246\n",
      "   1   CLIA_400178    5     89689567     89756134      1           91       13  66.567\n",
      "   1   CLIA_400178    5     89808056     89813870      1           91        9  5.814\n",
      "   1   CLIA_400178    6    136565848    136588372      1           92        9  22.524\n",
      "   1   CLIA_400178   11     32622146     32636497      1           91       16  14.351\n",
      "   1   CLIA_400178   12     22837754     22843608      1           91       14  5.854\n",
      "   1   CLIA_400178   12     75892385     75900743      1           91       12  8.358\n"
     ]
    }
   ],
   "source": [
    "%%bash\n",
    "cd ~/data/cnv/xhmm_clean\n",
    "echo \"=== ALL > 225Kb ===\"\n",
    "cat denovo_q60.cnv | awk '{ if (($5-$4)/1000 > 225) { print $_, ($5-$4)/1000 } }'\n",
    "echo \"=== CLEAN > 5Kb ===\"\n",
    "cat denovo_q60_clean.cnv | awk '{ if (($5-$4)/1000 > 5) { print $_, ($5-$4)/1000 } }'\n"
   ]
  },
  {
   "cell_type": "code",
   "execution_count": 64,
   "metadata": {},
   "outputs": [
    {
     "name": "stdout",
     "output_type": "stream",
     "text": [
      "RANGE (+/- 0kb )  [ 16 33463506 33563243 RNU6-76P ]\n",
      "RANGE (+/- 0kb )  [ 17 44372496 44415160 LRRC37A ]\n",
      "RANGE (+/- 0kb )  [ 17 44376499 44439163 ARL17A ]\n",
      "RANGE (+/- 0kb )  [ 17 44376912 44439134 ARL17B ]\n",
      "RANGE (+/- 0kb )  [ 17 44450178 44500463 NSFP1 ]\n",
      "RANGE (+/- 0kb )  [ 17 44586046 44657088 ARL17A ]\n",
      "RANGE (+/- 0kb )  [ 17 44590075 44633014 LRRC37A2 ]\n",
      "RANGE (+/- 0kb )  [ 1 71512188 71532865 ZRANB2-AS1 ]\n",
      "RANGE (+/- 0kb )  [ 1 71528973 71546972 ZRANB2 ]\n",
      "RANGE (+/- 0kb )  [ 1 71533313 71533399 MIR186 ]\n",
      "RANGE (+/- 0kb )  [ 1 71547006 71703406 ZRANB2-AS2 ]\n",
      "RANGE (+/- 0kb )  [ 1 71868624 72748277 NEGR1 ]\n",
      "RANGE (+/- 0kb )  [ 5 86690078 86708850 CCNH ]\n",
      "RANGE (+/- 0kb )  [ 5 87485449 87564696 TMEM161B ]\n"
     ]
    }
   ],
   "source": [
    "%%bash\n",
    "cd ~/data/cnv/xhmm_clean\n",
    "grep -B 2 33326701 denovo_q60_genes.reg | grep RANGE\n",
    "grep -B 2 44379939 denovo_q60_genes.reg | grep RANGE\n",
    "grep -B 2 71529027 denovo_q60_genes.reg | grep RANGE\n",
    "grep -B 2 86690076 denovo_q60_genes.reg | grep RANGE"
   ]
  },
  {
   "cell_type": "code",
   "execution_count": 65,
   "metadata": {},
   "outputs": [
    {
     "name": "stdout",
     "output_type": "stream",
     "text": [
      "RANGE (+/- 0kb )  [ 4 17812435 17846487 NCAPG ]\n",
      "RANGE (+/- 0kb )  [ 4 17844838 18023483 LCORL ]\n",
      "RANGE (+/- 0kb )  [ 12 22778075 22843608 ETNK1 ]\n",
      "RANGE (+/- 0kb )  [ 1 62901974 62917475 USP1 ]\n",
      "RANGE (+/- 0kb )  [ 1 62920396 63154039 DOCK7 ]\n",
      "RANGE (+/- 0kb )  [ 1 71512188 71532865 ZRANB2-AS1 ]\n",
      "RANGE (+/- 0kb )  [ 1 71528973 71546972 ZRANB2 ]\n",
      "RANGE (+/- 0kb )  [ 1 71533313 71533399 MIR186 ]\n",
      "RANGE (+/- 0kb )  [ 1 71547006 71703406 ZRANB2-AS2 ]\n",
      "RANGE (+/- 0kb )  [ 1 71868624 72748277 NEGR1 ]\n",
      "RANGE (+/- 0kb )  [ 3 180319917 180336135 TTC14 ]\n",
      "RANGE (+/- 0kb )  [ 3 180331795 180397283 CCDC39 ]\n",
      "RANGE (+/- 0kb )  [ 4 68424445 68472616 STAP1 ]\n",
      "RANGE (+/- 0kb )  [ 4 68481478 68566889 UBA6 ]\n",
      "RANGE (+/- 0kb )  [ 4 100817406 100867883 DNAJB14 ]\n",
      "RANGE (+/- 0kb )  [ 4 113152894 113191211 AP1AR ]\n",
      "RANGE (+/- 0kb )  [ 5 65222381 65376851 ERBB2IP ]\n",
      "RANGE (+/- 0kb )  [ 5 86690078 86708850 CCNH ]\n",
      "RANGE (+/- 0kb )  [ 5 87485449 87564696 TMEM161B ]\n",
      "RANGE (+/- 0kb )  [ 5 89689528 89705603 CETN3 ]\n",
      "RANGE (+/- 0kb )  [ 5 89705816 89706486 LOC731157 ]\n",
      "RANGE (+/- 0kb )  [ 5 89754019 89770585 MBLAC2 ]\n",
      "RANGE (+/- 0kb )  [ 5 89770680 89810369 POLR3G ]\n",
      "RANGE (+/- 0kb )  [ 5 89811444 89825401 LYSMD3 ]\n",
      "RANGE (+/- 0kb )  [ 6 136552167 136571449 MTFR2 ]\n",
      "RANGE (+/- 0kb )  [ 6 136578000 136610989 BCLAF1 ]\n",
      "RANGE (+/- 0kb )  [ 11 32605312 32624037 EIF3M ]\n",
      "RANGE (+/- 0kb )  [ 11 32623625 32816204 CCDC73 ]\n",
      "RANGE (+/- 0kb )  [ 12 22778075 22843608 ETNK1 ]\n",
      "RANGE (+/- 0kb )  [ 12 75874512 75895716 GLIPR1 ]\n",
      "RANGE (+/- 0kb )  [ 12 75891418 75905418 KRR1 ]\n"
     ]
    }
   ],
   "source": [
    "%%bash\n",
    "cd ~/data/cnv/xhmm_clean\n",
    "cat denovo_q60_clean.cnv | awk '{ if (($5-$4)/1000 > 5) { print $5 } }' > junk.txt\n",
    "while read bp; do\n",
    "    grep -B 2 $bp denovo_q60_clean_genes.reg | grep RANGE;\n",
    "done < junk.txt"
   ]
  },
  {
   "cell_type": "markdown",
   "metadata": {},
   "source": [
    "Just need to check if there's anything special about these genes... also, need to come up with some stats to quantify these findings."
   ]
  },
  {
   "cell_type": "markdown",
   "metadata": {},
   "source": [
    "# inherited CNVs\n",
    "\n",
    "Is there anything interesting in the big inherited CNVs?"
   ]
  },
  {
   "cell_type": "code",
   "execution_count": 70,
   "metadata": {},
   "outputs": [
    {
     "name": "stdout",
     "output_type": "stream",
     "text": [
      "1\tCLIA_400204\t16\t50248047\t50668187\t3\t93\t97 420.14\n",
      "1\tCLIA_400122\t15\t21136505\t22490083\t3\t92\t26 1353.58\n",
      "1\tCLIA_400122\t3\t75679821\t75986851\t1\t83\t15 307.03\n",
      "1\tCLIA_400129\t10\t46717044\t46918726\t1\t92\t10 201.682\n",
      "1\tCLIA_400125\t5\t69206134\t69730865\t3\t92\t18 524.731\n",
      "1\tCLIA_400180\tX\t6451641\t7894192\t1\t99\t35 1442.55\n"
     ]
    }
   ],
   "source": [
    "%%bash\n",
    "cd ~/data/cnv/xhmm_clean\n",
    "cat inherited_q60.cnv | awk '{ if (($5-$4)/1000 > 200) { print $_, ($5-$4)/1000 } }'"
   ]
  },
  {
   "cell_type": "code",
   "execution_count": 69,
   "metadata": {},
   "outputs": [
    {
     "name": "stdout",
     "output_type": "stream",
     "text": [
      "   1   CLIA_400204   16     50248047     50668187      3           93       97  420.14\n",
      "   1   CLIA_400180   23      6451641      7894192      1           99       35  1442.55\n"
     ]
    }
   ],
   "source": [
    "%%bash\n",
    "cd ~/data/cnv/xhmm_clean\n",
    "cat inherited_q60_clean.cnv | awk '{ if (($5-$4)/1000 > 200) { print $_, ($5-$4)/1000 } }'"
   ]
  },
  {
   "cell_type": "code",
   "execution_count": 71,
   "metadata": {},
   "outputs": [
    {
     "name": "stdout",
     "output_type": "stream",
     "text": [
      "True\n",
      "True\n",
      "True\n",
      "True\n",
      "False\n"
     ]
    }
   ],
   "source": [
    "print 'CLIA_400204' in affected\n",
    "print 'CLIA_400122' in affected\n",
    "print 'CLIA_400129' in affected\n",
    "print 'CLIA_400125' in affected\n",
    "print 'CLIA_400180' in affected"
   ]
  },
  {
   "cell_type": "markdown",
   "metadata": {},
   "source": [
    "So, all but the chrX CNV were inherited in the affected kid. Is it there for the controls too?"
   ]
  },
  {
   "cell_type": "code",
   "execution_count": 72,
   "metadata": {},
   "outputs": [
    {
     "data": {
      "text/plain": [
       "['CLIA_400203', 'CLIA_400204', 'CLIA_400201']"
      ]
     },
     "execution_count": 72,
     "metadata": {},
     "output_type": "execute_result"
    }
   ],
   "source": [
    "f = [t['famid'] for t in trios if t['child'] == 'CLIA_400204'][0]\n",
    "[t['child'] for t in trios if t['famid'] == f]"
   ]
  },
  {
   "cell_type": "code",
   "execution_count": 73,
   "metadata": {},
   "outputs": [
    {
     "name": "stdout",
     "output_type": "stream",
     "text": [
      "1\tCLIA_400203\t6\t26745874\t26746732\t1\t92\t4\n",
      "1\tCLIA_400203\t6\t170948706\t170949567\t1\t92\t4\n",
      "1\tCLIA_400203\t10\t81463327\t81472753\t3\t92\t16\n",
      "1\tCLIA_400203\t4\t144914060\t144940477\t1\t92\t9\n",
      "1\tCLIA_400203\t6\t35755557\t35765119\t3\t66\t5\n",
      "1\tCLIA_400203\t11\t117008906\t117009382\t1\t73\t4\n",
      "1\tCLIA_400203\t14\t106088190\t106092325\t3\t92\t5\n",
      "1\tCLIA_400203\t19\t40389632\t40399870\t1\t97\t15\n",
      "1\tCLIA_400201\t5\t175386907\t175388447\t3\t86\t5\n",
      "1\tCLIA_400201\t6\t26745874\t26746732\t1\t92\t4\n",
      "1\tCLIA_400201\t8\t57073660\t57092099\t3\t92\t23\n",
      "1\tCLIA_400201\t2\t96696099\t96698188\t3\t97\t5\n",
      "1\tCLIA_400201\t5\t34191199\t34218519\t1\t92\t6\n",
      "1\tCLIA_400201\t14\t106088190\t106092325\t3\t92\t5\n",
      "1\tCLIA_400201\t19\t40389632\t40399870\t1\t97\t15\n"
     ]
    }
   ],
   "source": [
    "%%bash\n",
    "cd ~/data/cnv/xhmm_clean\n",
    "grep CLIA_400203 inherited_q60.cnv\n",
    "grep CLIA_400201 inherited_q60.cnv"
   ]
  },
  {
   "cell_type": "markdown",
   "metadata": {},
   "source": [
    "All clear."
   ]
  },
  {
   "cell_type": "code",
   "execution_count": 74,
   "metadata": {},
   "outputs": [
    {
     "data": {
      "text/plain": [
       "['CLIA_400122', 'CLIA_400135']"
      ]
     },
     "execution_count": 74,
     "metadata": {},
     "output_type": "execute_result"
    }
   ],
   "source": [
    "f = [t['famid'] for t in trios if t['child'] == 'CLIA_400122'][0]\n",
    "[t['child'] for t in trios if t['famid'] == f]"
   ]
  },
  {
   "cell_type": "code",
   "execution_count": 75,
   "metadata": {},
   "outputs": [
    {
     "name": "stdout",
     "output_type": "stream",
     "text": [
      "1\tCLIA_400135\t4\t70146142\t70156559\t1\t92\t6\n",
      "1\tCLIA_400135\t12\t9633064\t9728348\t3\t92\t40\n",
      "1\tCLIA_400135\t15\t43873104\t43891182\t1\t92\t9\n",
      "1\tCLIA_400135\t17\t747654\t916474\t3\t94\t25\n",
      "1\tCLIA_400135\t22\t42522573\t42526856\t1\t99\t9\n",
      "1\tCLIA_400135\t19\t41349642\t41356338\t1\t98\t14\n",
      "1\tCLIA_400135\t22\t25696620\t25855514\t3\t99\t18\n",
      "1\tCLIA_400135\tY\t23655336\t23710253\t3\t99\t6\n"
     ]
    }
   ],
   "source": [
    "%%bash\n",
    "cd ~/data/cnv/xhmm_clean\n",
    "grep CLIA_400135 inherited_q60.cnv"
   ]
  },
  {
   "cell_type": "markdown",
   "metadata": {},
   "source": [
    "All clear."
   ]
  },
  {
   "cell_type": "code",
   "execution_count": 76,
   "metadata": {},
   "outputs": [
    {
     "data": {
      "text/plain": [
       "['CLIA_400129', 'CLIA_400181']"
      ]
     },
     "execution_count": 76,
     "metadata": {},
     "output_type": "execute_result"
    }
   ],
   "source": [
    "f = [t['famid'] for t in trios if t['child'] == 'CLIA_400129'][0]\n",
    "[t['child'] for t in trios if t['famid'] == f]"
   ]
  },
  {
   "cell_type": "code",
   "execution_count": 77,
   "metadata": {},
   "outputs": [
    {
     "name": "stdout",
     "output_type": "stream",
     "text": [
      "1\tCLIA_400181\t1\t16349053\t16360246\t3\t99\t21\n",
      "1\tCLIA_400181\t1\t207737129\t207741402\t1\t65\t3\n",
      "1\tCLIA_400181\t4\t49490485\t49505257\t3\t92\t7\n",
      "1\tCLIA_400181\t11\t5877922\t5878915\t1\t90\t5\n",
      "1\tCLIA_400181\t12\t31768589\t31769446\t1\t92\t5\n",
      "1\tCLIA_400181\t15\t22448336\t22490083\t1\t92\t6\n",
      "1\tCLIA_400181\t22\t24345590\t24396365\t1\t99\t16\n",
      "1\tCLIA_400181\tX\t114238541\t114391271\t3\t99\t35\n"
     ]
    }
   ],
   "source": [
    "%%bash\n",
    "cd ~/data/cnv/xhmm_clean\n",
    "grep CLIA_400181 inherited_q60.cnv"
   ]
  },
  {
   "cell_type": "markdown",
   "metadata": {},
   "source": [
    "All clear."
   ]
  },
  {
   "cell_type": "code",
   "execution_count": 78,
   "metadata": {},
   "outputs": [
    {
     "data": {
      "text/plain": [
       "['CLIA_400125', 'CLIA_400191', 'CLIA_400189', 'CLIA_400193']"
      ]
     },
     "execution_count": 78,
     "metadata": {},
     "output_type": "execute_result"
    }
   ],
   "source": [
    "f = [t['famid'] for t in trios if t['child'] == 'CLIA_400125'][0]\n",
    "[t['child'] for t in trios if t['famid'] == f]"
   ]
  },
  {
   "cell_type": "code",
   "execution_count": 79,
   "metadata": {},
   "outputs": [
    {
     "name": "stdout",
     "output_type": "stream",
     "text": [
      "1\tCLIA_400191\t17\t21438500\t21562363\t1\t94\t12\n",
      "1\tCLIA_400191\t17\t61994625\t61996182\t1\t95\t6\n",
      "1\tCLIA_400191\t15\t43972956\t43975666\t3\t69\t4\n",
      "1\tCLIA_400189\t1\t25598972\t25634379\t1\t99\t9\n",
      "1\tCLIA_400189\t1\t111929290\t111933873\t1\t99\t9\n",
      "1\tCLIA_400189\t5\t70307065\t70389064\t1\t71\t15\n",
      "1\tCLIA_400189\t16\t55844304\t55862882\t3\t93\t12\n",
      "1\tCLIA_400189\t22\t24345590\t24396365\t3\t99\t16\n",
      "1\tCLIA_400189\t8\t116028\t134103\t3\t90\t4\n",
      "1\tCLIA_400189\t10\t47919862\t47949383\t1\t83\t15\n",
      "1\tCLIA_400189\t11\t18954568\t18956030\t3\t92\t4\n",
      "1\tCLIA_400189\t13\t24895608\t24895868\t3\t87\t2\n",
      "1\tCLIA_400189\t16\t32858942\t32891480\t1\t85\t12\n",
      "1\tCLIA_400189\t16\t33490834\t33630152\t1\t93\t12\n",
      "1\tCLIA_400193\t1\t111929290\t111933873\t1\t99\t9\n",
      "1\tCLIA_400193\t12\t87145\t91145\t3\t92\t10\n",
      "1\tCLIA_400193\t17\t61994625\t61996182\t1\t95\t6\n",
      "1\tCLIA_400193\t21\t14469090\t14470355\t3\t99\t8\n",
      "1\tCLIA_400193\t22\t24345590\t24396365\t3\t99\t16\n",
      "1\tCLIA_400193\t10\t47919862\t47949383\t1\t82\t15\n",
      "1\tCLIA_400193\t10\t124359576\t124360037\t1\t84\t3\n",
      "1\tCLIA_400193\t11\t85342634\t85347324\t3\t92\t6\n",
      "1\tCLIA_400193\t15\t28835250\t28878926\t1\t92\t6\n",
      "1\tCLIA_400193\t16\t72107720\t72109159\t3\t94\t2\n",
      "1\tCLIA_400193\t21\t47981553\t48022404\t3\t99\t11\n"
     ]
    }
   ],
   "source": [
    "%%bash\n",
    "cd ~/data/cnv/xhmm_clean\n",
    "grep CLIA_400191 inherited_q60.cnv\n",
    "grep CLIA_400189 inherited_q60.cnv\n",
    "grep CLIA_400193 inherited_q60.cnv"
   ]
  },
  {
   "cell_type": "markdown",
   "metadata": {},
   "source": [
    "All clear here as well. I can look at the genes, but what does it mean? If they inherited these genes from the parents, do the parents also have some propensity to ADHD? Or maybe it's a combination of these genes and the denovos that do something? No, couldn't be the latter, as the subjects are not the same."
   ]
  },
  {
   "cell_type": "markdown",
   "metadata": {},
   "source": [
    "If we look only at the clean set, is there anything special about affected again? (discounting the chrX CNV)"
   ]
  },
  {
   "cell_type": "code",
   "execution_count": 85,
   "metadata": {},
   "outputs": [
    {
     "name": "stdout",
     "output_type": "stream",
     "text": [
      "   1   CLIA_400204   16     50248047     50668187      3           93       97  420.14\n",
      "   1   CLIA_400204    7    142045310    142104611      1           92        9  59.301\n",
      "   1   CLIA_400180   23      6451641      7894192      1           99       35  1442.55\n",
      "   1   CLIA_400205    2     37473119     37478675      1           97        7  5.556\n"
     ]
    }
   ],
   "source": [
    "%%bash\n",
    "cd ~/data/cnv/xhmm_clean\n",
    "cat inherited_q60_clean.cnv | awk '{ if (($5-$4)/1000 > 5) { print $_, ($5-$4)/1000 } }'"
   ]
  },
  {
   "cell_type": "code",
   "execution_count": 86,
   "metadata": {},
   "outputs": [
    {
     "name": "stdout",
     "output_type": "stream",
     "text": [
      "True\n",
      "True\n"
     ]
    }
   ],
   "source": [
    "print 'CLIA_400204' in affected\n",
    "print 'CLIA_400205' in affected"
   ]
  },
  {
   "cell_type": "markdown",
   "metadata": {},
   "source": [
    "Interesting... let me check 400205 siblings:"
   ]
  },
  {
   "cell_type": "code",
   "execution_count": 87,
   "metadata": {},
   "outputs": [
    {
     "data": {
      "text/plain": [
       "['CLIA_400205', 'CLIA_400200']"
      ]
     },
     "execution_count": 87,
     "metadata": {},
     "output_type": "execute_result"
    }
   ],
   "source": [
    "f = [t['famid'] for t in trios if t['child'] == 'CLIA_400205'][0]\n",
    "[t['child'] for t in trios if t['famid'] == f]"
   ]
  },
  {
   "cell_type": "code",
   "execution_count": 88,
   "metadata": {
    "collapsed": true
   },
   "outputs": [],
   "source": [
    "%%bash\n",
    "cd ~/data/cnv/xhmm_clean\n",
    "grep CLIA_400200 inherited_q60_clean.cnv"
   ]
  },
  {
   "cell_type": "markdown",
   "metadata": {},
   "source": [
    "So, in other words, if I don't check whether the CNV is inherited or denovo, in the clean set anything > 5K is affected? It might not be true, as the classification between inherited and denovo takes into consideration the quality in the parents as well. But worth checking:"
   ]
  },
  {
   "cell_type": "code",
   "execution_count": 89,
   "metadata": {},
   "outputs": [
    {
     "name": "stdout",
     "output_type": "stream",
     "text": [
      "   1   CLIA_400133   12        78813       149127      1           83       13  70.314\n",
      "   1   CLIA_400133   21     10215160     11098821      1           99       30  883.661\n",
      "   1   CLIA_400163    1     67452080     67470197      3           39        4  18.117\n",
      "   1   CLIA_400132   21     10215160     10942032      1           99       14  726.872\n",
      "   1   CLIA_400158   21     10215160     10942032      1           95       14  726.872\n",
      "   1   CLIA_400203    1     91380806     91404060      1           43       15  23.254\n",
      "   1   CLIA_400203    3     86115732     86990556      1           94       17  874.824\n",
      "   1   CLIA_400203    7    108155341    108205421      1           38        8  50.08\n",
      "   1   CLIA_400203   15     41859575     41870820      3           92       19  11.245\n",
      "   1   CLIA_400204    7    142045310    142104611      1           92        9  59.301\n",
      "   1   CLIA_400204   13    108881453    108886540      1           81       30  5.087\n",
      "   1   CLIA_400204   16     50248047     50668187      3           93       97  420.14\n",
      "   1   CLIA_400201   16     50248047     50269019      3           93       27  20.972\n",
      "   1   CLIA_400201   16     50339329     50668187      3           93       56  328.858\n",
      "   1   CLIA_400123    4     17845860     17879030      3           83       31  33.17\n",
      "   1   CLIA_400123    4     83838957     83848910      3           56       14  9.953\n",
      "   1   CLIA_400123   12     22837754     22843415      3           85       13  5.661\n",
      "   1   CLIA_400123   21     10215160     10942032      1           99       14  726.872\n",
      "   1   CLIA_400139    4     38775605     38828782      3           93       28  53.177\n",
      "   1   CLIA_400139    6    136565848    136590791      3           66       11  24.943\n",
      "   1   CLIA_400139    7    108154949    108205421      3           69       11  50.472\n",
      "   1   CLIA_400128   15     30844198     32404585      1           92      231  1560.39\n",
      "   1   CLIA_400210    7    108155147    108205289      3           56        8  50.142\n",
      "   1   CLIA_400210   15     30491412     31967062      1           92      251  1475.65\n",
      "   1   CLIA_400122    7    108154949    108205421      3           44       11  50.472\n",
      "   1   CLIA_400131   21     10215160     10952985      1           99       17  737.825\n",
      "   1   CLIA_400129   12        78813       149127      1           92       13  70.314\n",
      "   1   CCGO_800979    2    145027400    145146279      3           44        5  118.879\n",
      "   1   CCGO_800979   21     10215160     10942032      3           99       14  726.872\n",
      "   1   CLIA_400178    1     62910396     62921225      1           98       18  10.829\n",
      "   1   CLIA_400178    1     71529027     71871700      1           98       29  342.673\n",
      "   1   CLIA_400178    2    201822663    201844800      1           43        5  22.137\n",
      "   1   CLIA_400178    3     86116004     86990556      1           93       15  874.552\n",
      "   1   CLIA_400178    3     88041103     88188807      1           93       35  147.704\n",
      "   1   CLIA_400178    3    180321797    180334721      1           93       24  12.924\n",
      "   1   CLIA_400178    4     17845860     17879761      1           92       34  33.901\n",
      "   1   CLIA_400178    4     68471897     68507036      1           62       22  35.139\n",
      "   1   CLIA_400178    4     83839805     83849030      1           43       10  9.225\n",
      "   1   CLIA_400178    4    100820580    100830058      1           70       12  9.478\n",
      "   1   CLIA_400178    4    113186077    113191253      1           92       10  5.176\n",
      "   1   CLIA_400178    4    166243784    166263141      1           39       11  19.357\n",
      "   1   CLIA_400178    5     65317020     65349964      1           88       24  32.944\n",
      "   1   CLIA_400178    5     86690076     87492322      1           72       19  802.246\n",
      "   1   CLIA_400178    5     89689567     89756134      1           91       13  66.567\n",
      "   1   CLIA_400178    5     89808056     89813870      1           91        9  5.814\n",
      "   1   CLIA_400178    5    114949402    114956455      1           37        9  7.053\n",
      "   1   CLIA_400178    6     64290388     64395394      1           39       16  105.006\n",
      "   1   CLIA_400178    6    136565848    136588372      1           92        9  22.524\n",
      "   1   CLIA_400178    7    108155341    108214800      1           92       18  59.459\n",
      "   1   CLIA_400178    7    142045310    142099992      3           48        6  54.682\n",
      "   1   CLIA_400178   11     32622146     32636497      1           91       16  14.351\n",
      "   1   CLIA_400178   12     22837754     22843608      1           91       14  5.854\n",
      "   1   CLIA_400178   12     44180396     44191496      1           59       12  11.1\n",
      "   1   CLIA_400178   12     75892385     75900743      1           91       12  8.358\n",
      "   1   CLIA_400180   23      6451641      7894192      1           99       35  1442.55\n",
      "   1   CLIA_400205    2     37473119     37478675      1           97        7  5.556\n"
     ]
    }
   ],
   "source": [
    "%%bash\n",
    "cd ~/data/cnv/xhmm_clean\n",
    "cat all_q60_clean.cnv | awk '{ if (($5-$4)/1000 > 5) { print $_, ($5-$4)/1000 } }'"
   ]
  },
  {
   "cell_type": "code",
   "execution_count": 91,
   "metadata": {},
   "outputs": [],
   "source": [
    "%%bash\n",
    "cd ~/data/cnv/xhmm_clean\n",
    "cat all_q60_clean.cnv | awk '{ if (($5-$4)/1000 > 5) { print $2 } }' | uniq > junk.txt"
   ]
  },
  {
   "cell_type": "code",
   "execution_count": 94,
   "metadata": {},
   "outputs": [
    {
     "name": "stdout",
     "output_type": "stream",
     "text": [
      "False\n",
      "True\n",
      "True\n",
      "False\n",
      "False\n",
      "True\n",
      "False\n",
      "True\n",
      "False\n",
      "True\n",
      "False\n",
      "True\n",
      "True\n",
      "True\n",
      "False\n",
      "True\n",
      "False\n",
      "True\n"
     ]
    }
   ],
   "source": [
    "fid = open('/home/sudregp/data/cnv/xhmm_clean/junk.txt', 'r')\n",
    "for line in fid:\n",
    "    print line.rstrip() in affected\n",
    "fid.close()"
   ]
  },
  {
   "cell_type": "markdown",
   "metadata": {},
   "source": [
    "That's good to know... it's nice to trust the pseq inferences more so than the total, as we cannot really classify the unknown CNVs. "
   ]
  },
  {
   "cell_type": "markdown",
   "metadata": {},
   "source": [
    "# Are there brain genes?"
   ]
  },
  {
   "cell_type": "code",
   "execution_count": 95,
   "metadata": {},
   "outputs": [
    {
     "name": "stdout",
     "output_type": "stream",
     "text": [
      "=== ALL > 225Kb ===\n",
      "1\tCLIA_400216\t16\t33326701\t33630152\t3\t93\t17 303.451\n",
      "1\tCLIA_400216\t17\t44379939\t44627953\t3\t95\t33 248.014\n",
      "1\tCLIA_400134\t16\t33326701\t33630152\t3\t93\t17 303.451\n",
      "1\tCLIA_400178\t1\t71529027\t71871700\t1\t98\t29 342.673\n",
      "1\tCLIA_400178\t5\t86690076\t87492322\t1\t72\t19 802.246\n",
      "=== CLEAN > 5Kb ===\n",
      "   1   CLIA_400123    4     17845860     17879030      3           83       31  33.17\n",
      "   1   CLIA_400123   12     22837754     22843415      3           85       13  5.661\n",
      "   1   CLIA_400178    1     62910396     62921225      1           98       18  10.829\n",
      "   1   CLIA_400178    1     71529027     71871700      1           98       29  342.673\n",
      "   1   CLIA_400178    3    180321797    180334721      1           93       24  12.924\n",
      "   1   CLIA_400178    4     17845860     17879761      1           92       34  33.901\n",
      "   1   CLIA_400178    4     68471897     68507036      1           62       22  35.139\n",
      "   1   CLIA_400178    4    100820580    100830058      1           70       12  9.478\n",
      "   1   CLIA_400178    4    113186077    113191253      1           92       10  5.176\n",
      "   1   CLIA_400178    5     65317020     65349964      1           88       24  32.944\n",
      "   1   CLIA_400178    5     86690076     87492322      1           72       19  802.246\n",
      "   1   CLIA_400178    5     89689567     89756134      1           91       13  66.567\n",
      "   1   CLIA_400178    5     89808056     89813870      1           91        9  5.814\n",
      "   1   CLIA_400178    6    136565848    136588372      1           92        9  22.524\n",
      "   1   CLIA_400178   11     32622146     32636497      1           91       16  14.351\n",
      "   1   CLIA_400178   12     22837754     22843608      1           91       14  5.854\n",
      "   1   CLIA_400178   12     75892385     75900743      1           91       12  8.358\n"
     ]
    }
   ],
   "source": [
    "%%bash\n",
    "cd ~/data/cnv/xhmm_clean\n",
    "echo \"=== ALL > 225Kb ===\"\n",
    "cat denovo_q60.cnv | awk '{ if (($5-$4)/1000 > 225) { print $_, ($5-$4)/1000 } }'\n",
    "echo \"=== CLEAN > 5Kb ===\"\n",
    "cat denovo_q60_clean.cnv | awk '{ if (($5-$4)/1000 > 5) { print $_, ($5-$4)/1000 } }'\n"
   ]
  },
  {
   "cell_type": "code",
   "execution_count": 96,
   "metadata": {
    "collapsed": true
   },
   "outputs": [],
   "source": [
    "%%bash\n",
    "cd ~/data/cnv/xhmm_clean\n",
    "cat denovo_q60_clean.cnv | awk '{ if (($5-$4)/1000 > 5) { print $5 } }' > junk.txt\n",
    "while read bp; do\n",
    "    grep -B 2 $bp denovo_q60_clean_brainGenes.reg | grep RANGE;\n",
    "done < junk.txt"
   ]
  },
  {
   "cell_type": "code",
   "execution_count": 97,
   "metadata": {
    "collapsed": true
   },
   "outputs": [],
   "source": [
    "%%bash\n",
    "cd ~/data/cnv/xhmm_clean\n",
    "cat denovo_q60.cnv | awk '{ if (($5-$4)/1000 > 225) { print $5 } }' > junk.txt\n",
    "while read bp; do\n",
    "    grep -B 2 $bp denovo_q60_brainGenes.reg | grep RANGE;\n",
    "done < junk.txt"
   ]
  },
  {
   "cell_type": "markdown",
   "metadata": {},
   "source": [
    "Nope, none of the denovo ones. What about inherited?"
   ]
  },
  {
   "cell_type": "code",
   "execution_count": 98,
   "metadata": {
    "collapsed": true
   },
   "outputs": [],
   "source": [
    "%%bash\n",
    "cd ~/data/cnv/xhmm_clean\n",
    "cat inherited_q60_clean.cnv | awk '{ if (($5-$4)/1000 > 5) { print $5 } }' > junk.txt\n",
    "while read bp; do\n",
    "    grep -B 2 $bp inherited_q60_clean_brainGenes.reg | grep RANGE;\n",
    "done < junk.txt"
   ]
  },
  {
   "cell_type": "code",
   "execution_count": 99,
   "metadata": {
    "collapsed": true
   },
   "outputs": [],
   "source": [
    "%%bash\n",
    "cd ~/data/cnv/xhmm_clean\n",
    "cat inherited_q60.cnv | awk '{ if (($5-$4)/1000 > 200) { print $5 } }' > junk.txt\n",
    "while read bp; do\n",
    "    grep -B 2 $bp inherited_q60_brainGenes.reg | grep RANGE;\n",
    "done < junk.txt"
   ]
  },
  {
   "cell_type": "markdown",
   "metadata": {},
   "source": [
    "Nope, neither inherited. Oh well, no cool brain pics for this paper..."
   ]
  },
  {
   "cell_type": "markdown",
   "metadata": {},
   "source": [
    "# TODO\n",
    "\n",
    "* stats for these results\n",
    "* stats for gene-based (combination) results, from 01/26\n",
    "* should we take a more multivariate approach to this? CON: newish method, might scare readers. PRO: give something better than single CNV/gene solution to the problem. The main idea would be to look at the .map file in plink as sparse features, and then we could just apply some simple dimensionality reductions to see if the different samples fall into different groups or correlated spcaes with other phenotypes. We could potentially even try some ML with it, for bonus points. "
   ]
  }
 ],
 "metadata": {
  "kernelspec": {
   "display_name": "Python [default]",
   "language": "python",
   "name": "python2"
  },
  "language_info": {
   "codemirror_mode": {
    "name": "ipython",
    "version": 2
   },
   "file_extension": ".py",
   "mimetype": "text/x-python",
   "name": "python",
   "nbconvert_exporter": "python",
   "pygments_lexer": "ipython2",
   "version": "2.7.14"
  },
  "nav_menu": {},
  "toc": {
   "navigate_menu": true,
   "number_sections": true,
   "sideBar": true,
   "threshold": 6,
   "toc_cell": false,
   "toc_section_display": "block",
   "toc_window_display": false
  }
 },
 "nbformat": 4,
 "nbformat_minor": 2
}
