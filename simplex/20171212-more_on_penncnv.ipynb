{
 "cells": [
  {
   "cell_type": "markdown",
   "metadata": {},
   "source": [
    "I did some more investigation into ParseCNV, and it really seemed quite buggy and poorly documented. I wasn't able to run it in the cluster due to library incompatibilities, and even the example scripts wouldn't run in my laptop, due to a problem running R scripts. \n",
    "\n",
    "Plus, I've been doing some more investigation in PennCNV, and apparently we can do everything we need through it. So, let's explore it a bit further, in terms of annotating the calls and doing some more extra filtering. We'll pick up from the 12/08 analysis:"
   ]
  },
  {
   "cell_type": "code",
   "execution_count": 1,
   "metadata": {
    "collapsed": true
   },
   "outputs": [],
   "source": [
    "import numpy as np\n",
    "import matplotlib.pyplot as plt\n",
    "import seaborn as sns\n",
    "import pandas as pd\n",
    "\n",
    "%matplotlib inline"
   ]
  },
  {
   "cell_type": "code",
   "execution_count": 2,
   "metadata": {
    "collapsed": true
   },
   "outputs": [],
   "source": [
    "# figure out who is who in each trio\n",
    "import glob\n",
    "data_dir = '/data/sudregp/cnv/penncnv/'\n",
    "ped_file = '/data/sudregp/cnv/simplex.ped'\n",
    "wes_prefix = ['CLIA', 'CCGO', 'WPS']\n",
    "trios = []\n",
    "affected = []\n",
    "controls = []\n",
    "samples = []\n",
    "fid = open(ped_file, 'r')\n",
    "for line in fid:\n",
    "    famid, sid, fa, mo, sex, aff = line.rstrip().split('\\t')\n",
    "    if fa[:4] in wes_prefix and mo[:4] in wes_prefix and sid[:4] in wes_prefix:\n",
    "        fam = {}\n",
    "        fam['child'] = sid\n",
    "        if aff == '1':\n",
    "            affected.append(sid)\n",
    "        else:\n",
    "            controls.append(sid)\n",
    "        fam['father'] = fa\n",
    "        fam['mother'] = mo\n",
    "        fam['famid'] = famid\n",
    "        trios.append(fam)\n",
    "        samples += [sid, fa, mo]\n",
    "fid.close()\n",
    "samples = set(samples)"
   ]
  },
  {
   "cell_type": "code",
   "execution_count": 3,
   "metadata": {},
   "outputs": [],
   "source": [
    "df = pd.read_table('/data/sudregp/cnv/penncnv/results/all_simplex.qcsum')\n",
    "# we ran for all samples, but let's look at only stats for samples in our simplex study\n",
    "keep_me = [i for i in range(df.shape[0]) if df.File[i].split('/')[-1] in samples]\n",
    "df = df.iloc[keep_me]"
   ]
  },
  {
   "cell_type": "code",
   "execution_count": 4,
   "metadata": {
    "collapsed": true
   },
   "outputs": [],
   "source": [
    "df20 = df[df.NumCNV <= 20]\n",
    "df10 = df[df.NumCNV <= 10]"
   ]
  },
  {
   "cell_type": "code",
   "execution_count": 5,
   "metadata": {},
   "outputs": [
    {
     "name": "stdout",
     "output_type": "stream",
     "text": [
      "CLIA_400140.jointcnv: 2 denovo, 196 inherited\n",
      "CLIA_400138.jointcnv: 16 denovo, 120 inherited\n",
      "CLIA_400121.jointcnv: 0 denovo, 110 inherited\n",
      "CLIA_400191.jointcnv: 0 denovo, 160 inherited\n",
      "CLIA_400148.jointcnv: 5 denovo, 117 inherited\n",
      "CLIA_400153.jointcnv: 7 denovo, 89 inherited\n",
      "CLIA_400216.jointcnv: 6 denovo, 79 inherited\n",
      "CLIA_400189.jointcnv: 0 denovo, 155 inherited\n",
      "CLIA_400180.jointcnv: 0 denovo, 105 inherited\n",
      "CLIA_400166.jointcnv: 11 denovo, 193 inherited\n",
      "CLIA_400122.jointcnv: 3 denovo, 110 inherited\n",
      "CLIA_400204.jointcnv: 0 denovo, 190 inherited\n",
      "CCGO_800979.jointcnv: 1 denovo, 28 inherited\n",
      "CLIA_400162.jointcnv: 95 denovo, 226 inherited\n",
      "CLIA_400158.jointcnv: 45 denovo, 116 inherited\n",
      "CLIA_400170.jointcnv: 0 denovo, 172 inherited\n",
      "CLIA_400123.jointcnv: 3 denovo, 53 inherited\n",
      "CLIA_400209.jointcnv: 3 denovo, 280 inherited\n",
      "CLIA_400134.jointcnv: 3 denovo, 148 inherited\n",
      "CLIA_400131.jointcnv: 4 denovo, 161 inherited\n",
      "CLIA_400195.jointcnv: 4 denovo, 344 inherited\n",
      "CLIA_400135.jointcnv: 8 denovo, 325 inherited\n",
      "CLIA_400142.jointcnv: 29 denovo, 284 inherited\n",
      "CLIA_400155.jointcnv: 57 denovo, 282 inherited\n",
      "CLIA_400152.jointcnv: 0 denovo, 152 inherited\n",
      "CLIA_400178.jointcnv: 5 denovo, 56 inherited\n",
      "CLIA_400139.jointcnv: 49 denovo, 269 inherited\n",
      "CLIA_400128.jointcnv: 1 denovo, 84 inherited\n",
      "CCGO_800980.jointcnv: 3 denovo, 43 inherited\n",
      "CLIA_400159.jointcnv: 2 denovo, 177 inherited\n",
      "CLIA_400133.jointcnv: 1 denovo, 188 inherited\n",
      "CLIA_400132.jointcnv: 77 denovo, 263 inherited\n",
      "CLIA_400175.jointcnv: 50 denovo, 144 inherited\n",
      "CLIA_400129.jointcnv: 1 denovo, 94 inherited\n",
      "CLIA_400144.jointcnv: 0 denovo, 143 inherited\n",
      "CLIA_400201.jointcnv: 0 denovo, 169 inherited\n",
      "CLIA_400200.jointcnv: 9 denovo, 306 inherited\n",
      "CLIA_400179.jointcnv: 30 denovo, 50 inherited\n",
      "CLIA_400193.jointcnv: 0 denovo, 179 inherited\n",
      "CLIA_400212.jointcnv: 1 denovo, 168 inherited\n",
      "CLIA_400210.jointcnv: 0 denovo, 350 inherited\n",
      "CLIA_400205.jointcnv: 1 denovo, 222 inherited\n",
      "CLIA_400130.jointcnv: 0 denovo, 215 inherited\n",
      "CLIA_400127.jointcnv: 10 denovo, 71 inherited\n"
     ]
    }
   ],
   "source": [
    "%%bash\n",
    "cd /data/sudregp/cnv/penncnv/results\n",
    "\n",
    "while read sample; do\n",
    "    triocnv=${sample}'.jointcnv'\n",
    "    rm denovo.txt inherited.txt 2>/dev/null\n",
    "    grep mother ${triocnv} > mom_snps;\n",
    "    grep father ${triocnv} > dad_snps;\n",
    "    cat mom_snps dad_snps > parent_snps;\n",
    "    for snp in `grep offspring ${triocnv} | cut -d' ' -f 1`; do\n",
    "        if ! grep -q $snp parent_snps; then\n",
    "            echo \"$snp\" >> denovo.txt\n",
    "        else\n",
    "            echo \"$snp\" >> inherited.txt\n",
    "        fi;\n",
    "   done\n",
    "   echo ${triocnv}: `cat denovo.txt 2>/dev/null | wc -l` denovo, `cat inherited.txt 2>/dev/null | wc -l` inherited;\n",
    "   rm *_snps;\n",
    "done < ../good_kids_numCNVse20.txt"
   ]
  },
  {
   "cell_type": "code",
   "execution_count": 23,
   "metadata": {},
   "outputs": [],
   "source": [
    "%%bash\n",
    "\n",
    "module load penncnv\n",
    "cd /data/sudregp/cnv/penncnv/results\n",
    "\n",
    "while read sample; do\n",
    "    cnv=${sample}'.jointcnv'\n",
    "    gene=/fdb/annovar/current/hg19/hg19_refGene.txt\n",
    "    link=/fdb/annovar/current/hg19/hg19_refLink.txt\n",
    "\n",
    "    # there are some differences in the files...\n",
    "    scan_region.pl ${cnv} $gene -refexon -reflink $link > ${cnv}_refexon\n",
    "    scan_region.pl ${cnv} $gene -refgene -reflink $link > ${cnv}_refgene\n",
    "\n",
    "    gene=/fdb/annovar/current/hg19/hg19_knownGene.txt\n",
    "    link=/fdb/annovar/current/hg19/hg19_kgXref.txt\n",
    "    scan_region.pl ${cnv} $gene -knowngene -kgxref $link > ${cnv}_knowngene\n",
    "done < ../good_kids_numCNVse20.txt\n",
    "\n"
   ]
  },
  {
   "cell_type": "markdown",
   "metadata": {},
   "source": [
    "A quick note that I tried adapting other tracks from the UCSC browser to use as databases, but I'm having trouble doing it. Maybe invest a bit more time on it later, but the same result can be obtained by simply annotating the calls with the default files (either knownGene or refSeq), and then only using the annotations that intersect with the Allen Gene List (downloaded from the UCSC website). "
   ]
  },
  {
   "cell_type": "markdown",
   "metadata": {},
   "source": [
    "# TODO\n",
    "\n",
    "* recount only the intersecting CNVs\n",
    "* Filter based on neural vs nonneural CNVs (i.e. expressed in the brain)\n",
    "* Look at literature-only CNVs (J Chia and A Thapaer for CNVs in ADHD)\n",
    "* Understand what we're QCing on!\n",
    "* Try removing calls in immunoglobin, telomere and centromere regions (see PennCNV annotation page) \n",
    "* Worth calculating p-values? For that one trio it was always 0!\n",
    "* Try PennCNV steps with adjusted pipeline to see if we get anything different\n",
    "* Look into sex chromosomes? Something to the idea that adhd is more present in boys...\n",
    "* Play with the minimum size of the CNV\n",
    "* Play with the HMM parameters\n",
    "* Check (and plot) within family differences; the ones with big differences are interesting.\n",
    "* Include parent burden in the analysis\n",
    "* Match with file of ranked simplex by Wendy (maybe blindly)?\n",
    "* Do all of the above with XHMM and array data. Maybe start with array because it'll be simpler?"
   ]
  },
  {
   "cell_type": "markdown",
   "metadata": {},
   "source": [
    "# Useful links\n",
    "\n"
   ]
  }
 ],
 "metadata": {
  "kernelspec": {
   "display_name": "Python [default]",
   "language": "python",
   "name": "python2"
  },
  "language_info": {
   "codemirror_mode": {
    "name": "ipython",
    "version": 2
   },
   "file_extension": ".py",
   "mimetype": "text/x-python",
   "name": "python",
   "nbconvert_exporter": "python",
   "pygments_lexer": "ipython2",
   "version": "2.7.14"
  },
  "nav_menu": {},
  "toc": {
   "navigate_menu": true,
   "number_sections": true,
   "sideBar": true,
   "threshold": 6,
   "toc_cell": false,
   "toc_section_display": "block",
   "toc_window_display": false
  }
 },
 "nbformat": 4,
 "nbformat_minor": 2
}
