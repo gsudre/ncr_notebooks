{
 "cells": [
  {
   "cell_type": "markdown",
   "metadata": {},
   "source": [
    "Now I'm re-running XHMM to remove targets with high GC content and also low complexity. Like the previous analysis, I'll run only the simplex families with at least 2 kids in them, for the contrast between affected and unaffected. Also have to remember to remove the other 2 samples we always removed, and I'm also removing samples from the 9030 family."
   ]
  },
  {
   "cell_type": "code",
   "execution_count": 4,
   "metadata": {},
   "outputs": [
    {
     "data": {
      "text/html": [
       "<script>requirejs.config({paths: { 'plotly': ['https://cdn.plot.ly/plotly-latest.min']},});if(!window.Plotly) {{require(['plotly'],function(plotly) {window.Plotly=plotly;});}}</script>"
      ],
      "text/vnd.plotly.v1+html": [
       "<script>requirejs.config({paths: { 'plotly': ['https://cdn.plot.ly/plotly-latest.min']},});if(!window.Plotly) {{require(['plotly'],function(plotly) {window.Plotly=plotly;});}}</script>"
      ]
     },
     "metadata": {},
     "output_type": "display_data"
    }
   ],
   "source": [
    "import numpy as np\n",
    "import matplotlib.pyplot as plt\n",
    "import seaborn as sns\n",
    "import pandas as pd\n",
    "from plotly.offline import download_plotlyjs, init_notebook_mode, plot, iplot\n",
    "\n",
    "init_notebook_mode(connected=True)\n",
    "%matplotlib inline"
   ]
  },
  {
   "cell_type": "code",
   "execution_count": 5,
   "metadata": {},
   "outputs": [
    {
     "name": "stdout",
     "output_type": "stream",
     "text": [
      "Unique samples: 84\n",
      "Unique families: 19\n",
      "Unique children: 46\n"
     ]
    }
   ],
   "source": [
    "import glob\n",
    "ped_files = ['/data/sudregp/multiplex_simplex/simplex.ped']\n",
    "wes_prefix = ['CLIA', 'CCGO', 'WPS']\n",
    "# fid = open('/home/sudregp/data/multiplex_simplex/samples_simplex_all.txt', 'r')\n",
    "# exclude_list = [line.rstrip() for line in fid]\n",
    "# fid.close()\n",
    "\n",
    "# no controls/affected pair for comparison\n",
    "exclude_list = ['CLIA_400165', 'CLIA_400164', 'CLIA_400155', 'CLIA_400146',\n",
    "                'CLIA_400145', 'CLIA_400126', 'CLIA_400207', 'CLIA_400208',\n",
    "                'CLIA_400209']\n",
    "# missing one parent\n",
    "exclude_list += ['CLIA_400169', 'CLIA_400168']\n",
    "# family 9030\n",
    "exclude_list += ['CCGO_800978', 'CCGO_800977', 'CCGO_800976', 'CCGO_800979',\n",
    "                 'CCGO_800980', 'CLIA_400067']\n",
    "\n",
    "trios = []\n",
    "affected = []\n",
    "controls = []\n",
    "samples = []\n",
    "famids = []\n",
    "for ped_file in ped_files:\n",
    "    fid = open(ped_file, 'r')\n",
    "    for line in fid:\n",
    "        famid, sid, fa, mo, sex, aff = line.rstrip().split('\\t')\n",
    "        # if the current ID and its parents have WES data, and the sample is \n",
    "        # not in yet\n",
    "        if (fa.split('_')[0] in wes_prefix and\n",
    "            mo.split('_')[0] in wes_prefix and\n",
    "            sid.split('_')[0] in wes_prefix and\n",
    "            sid not in samples and\n",
    "            (sid not in exclude_list or fa not in exclude_list or mo not in exclude_list)):\n",
    "            fam = {}\n",
    "            fam['child'] = sid\n",
    "            if aff == '1':\n",
    "                affected.append(sid)\n",
    "            else:\n",
    "                controls.append(sid)\n",
    "            fam['father'] = fa\n",
    "            fam['mother'] = mo\n",
    "            fam['famid'] = famid\n",
    "            trios.append(fam)\n",
    "            samples += [sid, fa, mo]\n",
    "            famids.append(famid)\n",
    "    fid.close()\n",
    "samples = set(samples)\n",
    "famids = set(famids)\n",
    "kids = set(affected + controls)\n",
    "\n",
    "print 'Unique samples:', len(samples)\n",
    "print 'Unique families:', len(famids)\n",
    "print 'Unique children:', len(kids)"
   ]
  },
  {
   "cell_type": "code",
   "execution_count": 6,
   "metadata": {
    "collapsed": true
   },
   "outputs": [],
   "source": [
    "fid = open('/data/sudregp/cnv/xhmm_clean2/samples.txt', 'w')\n",
    "for s in samples:\n",
    "    fid.write(s + '\\n')\n",
    "fid.close()\n",
    "\n",
    "fid = open('/data/sudregp/cnv/xhmm_clean2/kid_samples.txt', 'w')\n",
    "for s in kids:\n",
    "    fid.write(s + '\\n')\n",
    "fid.close()"
   ]
  },
  {
   "cell_type": "code",
   "execution_count": null,
   "metadata": {
    "collapsed": true
   },
   "outputs": [],
   "source": [
    "# in terminal\n",
    "exome_targets='/data/NCR_SBRB/simplex/SeqCapEZ_Exome_v3.0_Design_Annotation_files/SeqCap_EZ_Exome_v3_hg19_capture_targets.bed'\n",
    "gatk_memory=\"50g\"\n",
    "ref_fa='/fdb/GATK_resource_bundle/hg19-2.8/ucsc.hg19.fasta'\n",
    "out_dir='/data/sudregp/cnv/xhmm_clean2'\n",
    "\n",
    "cd $out_dir\n",
    "module load GATK\n",
    "module load XHMM\n",
    "\n",
    "GATK -m ${gatk_memory} GCContentByInterval -L ${exome_targets} -R ${ref_fa} -o ./DATA.locus_GC.txt\n",
    "cat ./DATA.locus_GC.txt | awk '{if ($2 < 0.1 || $2 > 0.9) print $1}' > ./extreme_gc_targets.txt\n",
    "\n",
    "# merging all subjects in the directory\n",
    "while read s; do\n",
    "    cp ../xhmm_clean/${s}* .\n",
    "done < samples.txt\n",
    "ls -1 *.sample_interval_summary > depth_list.txt;\n",
    "cp ../xhmm_clean/params.txt .\n",
    "\n",
    "xhmm --mergeGATKdepths --GATKdepthsList=depth_list.txt -o ./DATA.RD.txt;\n",
    "\n",
    "# this does the same thing as the XHMM script, but it actually works in parsing \n",
    "# the base pair start and ends\n",
    "cat ${exome_targets} | awk 'BEGIN{OFS=\"\\t\"; print \"#CHR\\tBP1\\tBP2\\tID\"}{print $1, $2, $3, NR}' > ./EXOME.targets.reg\n",
    "\n",
    "module load plinkseq\n",
    "pseq . loc-load --locdb ./EXOME.targets.LOCDB --file ./EXOME.targets.reg --group targets \\\n",
    "    --out ./EXOME.targets.LOCDB.loc-load --noweb\n",
    "\n",
    "# this has the same effect as the suggested command, but it actually works\n",
    "pseq . loc-stats --locdb ./EXOME.targets.LOCDB --group targets --seqdb ./seqdb.hg19 --noweb | \\\n",
    "    awk '{if (NR > 1) { print  $4, $10 }}' | sed 's/\\.\\./-/' - > ./DATA.locus_complexity.txt\n",
    "\n",
    "cat ./DATA.locus_complexity.txt | awk '{if ($2 > 0.25) print $1}' > ./low_complexity_targets.txt\n",
    "\n",
    "xhmm --matrix -r ./DATA.RD.txt --centerData --centerType target \\\n",
    "-o ./DATA.filtered_centered.RD.txt \\\n",
    "--outputExcludedTargets ./DATA.filtered_centered.RD.txt.filtered_targets.txt \\\n",
    "--outputExcludedSamples ./DATA.filtered_centered.RD.txt.filtered_samples.txt \\\n",
    "--excludeTargets ./extreme_gc_targets.txt --excludeTargets ./low_complexity_targets.txt \\\n",
    "--minTargetSize 10 --maxTargetSize 10000 \\\n",
    "--minMeanTargetRD 10 --maxMeanTargetRD 500 \\\n",
    "--minMeanSampleRD 25 --maxMeanSampleRD 200 \\\n",
    "--maxSdSampleRD 150\n",
    "\n",
    "xhmm --PCA -r ./DATA.filtered_centered.RD.txt --PCAfiles ./DATA.RD_PCA\n",
    "\n",
    "xhmm --normalize -r ./DATA.filtered_centered.RD.txt --PCAfiles ./DATA.RD_PCA \\\n",
    "--normalizeOutput ./DATA.PCA_normalized.txt \\\n",
    "--PCnormalizeMethod PVE_mean --PVE_mean_factor 0.7\n",
    "\n",
    "xhmm --matrix -r ./DATA.PCA_normalized.txt --centerData --centerType sample --zScoreData \\\n",
    "-o ./DATA.PCA_normalized.filtered.sample_zscores.RD.txt \\\n",
    "--outputExcludedTargets ./DATA.PCA_normalized.filtered.sample_zscores.RD.txt.filtered_targets.txt \\\n",
    "--outputExcludedSamples ./DATA.PCA_normalized.filtered.sample_zscores.RD.txt.filtered_samples.txt \\\n",
    "--maxSdTargetRD 30\n",
    "\n",
    "xhmm --matrix -r ./DATA.RD.txt \\\n",
    "--excludeTargets ./DATA.filtered_centered.RD.txt.filtered_targets.txt \\\n",
    "--excludeTargets ./DATA.PCA_normalized.filtered.sample_zscores.RD.txt.filtered_targets.txt \\\n",
    "--excludeSamples ./DATA.filtered_centered.RD.txt.filtered_samples.txt \\\n",
    "--excludeSamples ./DATA.PCA_normalized.filtered.sample_zscores.RD.txt.filtered_samples.txt \\\n",
    "-o ./DATA.same_filtered.RD.txt\n",
    "\n",
    "xhmm --discover -p params.txt -r ./DATA.PCA_normalized.filtered.sample_zscores.RD.txt \\\n",
    "    -R ./DATA.same_filtered.RD.txt -c ./DATA.xcnv -a ./DATA.aux_xcnv -s ./DATA\n",
    "\n",
    "xhmm --genotype -p params.txt -r ./DATA.PCA_normalized.filtered.sample_zscores.RD.txt \\\n",
    "    -R ./DATA.same_filtered.RD.txt -g ./DATA.xcnv -F $ref_fa -v ./DATA.vcf\n",
    "\n"
   ]
  },
  {
   "cell_type": "markdown",
   "metadata": {},
   "source": [
    "Let's make sure no sample was removed by XHMM this time:"
   ]
  },
  {
   "cell_type": "code",
   "execution_count": 1,
   "metadata": {},
   "outputs": [
    {
     "name": "stdout",
     "output_type": "stream",
     "text": [
      "-rw-rw---- 1 sudregp sudregp 0 Feb  5 17:09 DATA.filtered_centered.RD.txt.filtered_samples.txt\n"
     ]
    }
   ],
   "source": [
    "%%bash\n",
    "cd ~/data/cnv/xhmm_clean2/\n",
    "ls -ltr DATA.filtered_centered.RD.txt.filtered_samples.txt"
   ]
  },
  {
   "cell_type": "markdown",
   "metadata": {},
   "source": [
    "Now we create PSEQ and PLINK files."
   ]
  },
  {
   "cell_type": "code",
   "execution_count": null,
   "metadata": {
    "collapsed": true
   },
   "outputs": [],
   "source": [
    "#in terminal\n",
    "module load plinkseq\n",
    "module load plink/1.07\n",
    "\n",
    "cd ~/data/cnv/xhmm_clean2\n",
    "\n",
    "pseq DATA new-project\n",
    "# adding a first column with subject ID for PSEQ\n",
    "cut -f 2 ../simplex.ped > junk.txt\n",
    "paste junk.txt ../simplex.ped > simplex.ped.info\n",
    "pseq DATA load-pedigree --file simplex.ped.info\n",
    "pseq DATA load-vcf --vcf DATA.vcf\n",
    "\n",
    "for q in 50 60 70 80 90; do\n",
    "    pseq DATA cnv-denovo --noweb --minSQ $q --minNQ $q --out DATA_q${q}\n",
    "    grep DENOVO DATA_q${q}.denovo.cnv > pseq_DENOVO.txt\n",
    "    # borrow the header row\n",
    "    head -1 DATA.xcnv > denovo.xcnv;\n",
    "\n",
    "    # filter out denovo CNVs\n",
    "    while read sample; do\n",
    "        grep $sample DATA.xcnv > sample.xcnv;\n",
    "        for cnv in `grep $sample pseq_DENOVO.txt | cut -f 3 -`; do\n",
    "            # replacing .. by -\n",
    "            cnv=`echo $cnv | sed -e 's/\\.\\./\\-/'`;\n",
    "            grep $cnv sample.xcnv >> denovo.xcnv; \n",
    "        done;\n",
    "    done < kid_samples.txt;\n",
    "    /usr/local/apps/XHMM/2016-01-04/sources/scripts/xcnv_to_cnv denovo.xcnv > tmp.cnv\n",
    "    # switch around FAMID and IID columns, and remove header\n",
    "    awk '{OFS=\"\\t\"; if ( $3 != \"CHR\" ) {print $2, $1, $3, $4, $5, $6, $7, $8 }}' tmp.cnv > denovo_q${q}.cnv\n",
    "    rm sample.xcnv pseq_DENOVO.txt tmp.cnv denovo.xcnv\n",
    "    \n",
    "    # filter out inherited cnvs\n",
    "    grep MATERNAL_TRANSMITTED DATA_q${q}.denovo.cnv > pseq_TRANSMITTED.txt\n",
    "    grep PATERNAL_TRANSMITTED DATA_q${q}.denovo.cnv >> pseq_TRANSMITTED.txt\n",
    "    # borrow the header row\n",
    "    head -1 DATA.xcnv > inherited.xcnv;\n",
    "\n",
    "    while read sample; do\n",
    "        grep $sample DATA.xcnv > sample.xcnv;\n",
    "        for cnv in `grep $sample pseq_TRANSMITTED.txt | cut -f 3 -`; do\n",
    "            # replacing .. by -\n",
    "            cnv=`echo $cnv | sed -e 's/\\.\\./\\-/'`;\n",
    "            grep $cnv sample.xcnv >> inherited.xcnv; \n",
    "        done;\n",
    "    done < kid_samples.txt;\n",
    "    /usr/local/apps/XHMM/2016-01-04/sources/scripts/xcnv_to_cnv inherited.xcnv > tmp.cnv\n",
    "    # switch around FAMID and IID columns, and remove header\n",
    "    awk '{OFS=\"\\t\"; if ( $3 != \"CHR\" ) {print $2, $1, $3, $4, $5, $6, $7, $8 }}' tmp.cnv > inherited_q${q}.cnv\n",
    "    rm sample.xcnv pseq_TRANSMITTED.txt tmp.cnv inherited.xcnv\n",
    "    \n",
    "    # compile all CNVs for kids\n",
    "    # borrow the header row\n",
    "    head -1 DATA.xcnv > all.xcnv;\n",
    "\n",
    "    # effectively just filtering DATA.xcnv to keep only kids\n",
    "    while read sample; do\n",
    "        grep $sample DATA.xcnv >> all.xcnv;\n",
    "    done < kid_samples.txt;\n",
    "    /usr/local/apps/XHMM/2016-01-04/sources/scripts/xcnv_to_cnv all.xcnv > tmp.cnv\n",
    "    # switch around FAMID and IID columns, and remove header\n",
    "    awk '{OFS=\"\\t\"; if ( $3 != \"CHR\" ) {print $2, $1, $3, $4, $5, $6, $7, $8 }}' tmp.cnv > all_q${q}.cnv\n",
    "    rm tmp.cnv all.xcnv\n",
    "done"
   ]
  },
  {
   "cell_type": "code",
   "execution_count": null,
   "metadata": {
    "collapsed": true
   },
   "outputs": [],
   "source": [
    "#terminal\n",
    "\n",
    "cp ~/data/cnv/penncnv/wellknown_region_hg19 bad_regions.list\n",
    "cp ~/data/cnv/penncnv/glist-hg19 .\n",
    "cp ~/data/cnv/penncnv/genes.txt .\n",
    "cp ~/data/cnv/penncnv/hg19_allenBrainGene_trimmed.txt .\n",
    "\n",
    "for q in 50 60 70 80 90; do\n",
    "    for cnvtype in all denovo inherited; do\n",
    "        cnvname=${cnvtype}_q${q}.cnv\n",
    "        plink --cnv-list $cnvname --cnv-make-map --noweb --out ${cnvtype}_q${q};\n",
    "        \n",
    "        # remove bad regions\n",
    "        plink --map ${cnvname}.map --fam ../simplex_nofamid.ped --cnv-list $cnvname \\\n",
    "            --noweb --1 --cnv-exclude bad_regions.list --cnv-overlap .5 \\\n",
    "            --cnv-write --out ${cnvtype}_q${q}_clean\n",
    "        plink --cnv-list ${cnvtype}_q${q}_clean.cnv --cnv-make-map --noweb --1 \\\n",
    "            --out ${cnvtype}_q${q}_clean\n",
    "        \n",
    "        for qc in '' '_clean'; do\n",
    "            cnvname=${cnvtype}_q${q}${qc}.cnv\n",
    "            # whole burden\n",
    "            plink --map ${cnvname}.map --fam ../simplex_nofamid.ped --cnv-list $cnvname \\\n",
    "                --noweb --1 --cnv-check-no-overlap --out ${cnvtype}_q${q}${qc}_burden;\n",
    "            # gene sets\n",
    "            plink --map ${cnvname}.map --fam ../simplex_nofamid.ped --cnv-list $cnvname \\\n",
    "                --noweb --1 --cnv-intersect glist-hg19 --cnv-verbose-report-regions \\\n",
    "                --cnv-subset genes.txt --out ${cnvtype}_q${q}${qc}_genes;\n",
    "            plink --map ${cnvname}.map --fam ../simplex_nofamid.ped --cnv-list $cnvname \\\n",
    "                --noweb --1 --cnv-intersect glist-hg19 --cnv-verbose-report-regions \\\n",
    "                --cnv-subset hg19_allenBrainGene_trimmed.txt \\\n",
    "                --out ${cnvtype}_q${q}${qc}_brainGenes;\n",
    "            # subtypes only\n",
    "            for sub in del dup; do\n",
    "                plink --map ${cnvname}.map --fam ../simplex_nofamid.ped --cnv-list $cnvname \\\n",
    "                --noweb --1 --cnv-${sub} --out ${cnvtype}_q${q}${qc}_${sub}Burden;\n",
    "                # gene sets\n",
    "                plink --map ${cnvname}.map --fam ../simplex_nofamid.ped --cnv-list $cnvname \\\n",
    "                    --noweb --1 --cnv-intersect glist-hg19 --cnv-verbose-report-regions \\\n",
    "                    --cnv-subset genes.txt --cnv-${sub} \\\n",
    "                    --out ${cnvtype}_q${q}${qc}_${sub}Genes;\n",
    "                plink --map ${cnvname}.map --fam ../simplex_nofamid.ped --cnv-list $cnvname \\\n",
    "                    --noweb --1 --cnv-intersect glist-hg19 --cnv-verbose-report-regions \\\n",
    "                    --cnv-subset hg19_allenBrainGene_trimmed.txt --cnv-${sub} \\\n",
    "                    --out ${cnvtype}_q${q}${qc}_${sub}BrainGenes;\n",
    "            done;\n",
    "        done;\n",
    "    done;\n",
    "done"
   ]
  },
  {
   "cell_type": "markdown",
   "metadata": {},
   "source": [
    "Let's check the distributions:"
   ]
  },
  {
   "cell_type": "code",
   "execution_count": 7,
   "metadata": {},
   "outputs": [
    {
     "data": {
      "image/png": "[encoded data removed]",
      "text/plain": [
       "<matplotlib.figure.Figure at 0x2aaad829b2d0>"
      ]
     },
     "metadata": {},
     "output_type": "display_data"
    }
   ],
   "source": [
    "data_dir = '/home/sudregp/data/cnv/xhmm_clean2/'\n",
    "files = glob.glob(data_dir + '/*_q60*.cnv')\n",
    "files.sort()\n",
    "plt.figure(figsize=(15,8))\n",
    "i = 1\n",
    "for fname in files:\n",
    "    if fname.find('DATA') < 0:\n",
    "        plt.subplot(3, 2, i)\n",
    "        # the clean files have a header\n",
    "        if fname.find('clean') >= 0:\n",
    "            df = pd.read_table(fname, header=None, skiprows=1, delimiter='\\s+')\n",
    "        else:\n",
    "            df = pd.read_table(fname, header=None)\n",
    "        sns.distplot((df[4]-df[3])/1000, kde=False, bins=50)\n",
    "        plt.xlabel('length (kb)')\n",
    "        plt.title(fname.split('/')[-1])\n",
    "        i += 1\n",
    "plt.tight_layout()"
   ]
  },
  {
   "cell_type": "markdown",
   "metadata": {},
   "source": [
    "Well, some quite big CNVs to be explored again... let's make the LT datasets:"
   ]
  },
  {
   "cell_type": "code",
   "execution_count": null,
   "metadata": {
    "collapsed": true
   },
   "outputs": [],
   "source": [
    "#terminal\n",
    "\n",
    "module load plink/1.07\n",
    "\n",
    "cd ~/data/cnv/xhmm_clean2\n",
    "for q in 50 60 70 80 90; do\n",
    "    for cnvtype in all denovo inherited; do\n",
    "        for qc in '' '_clean'; do\n",
    "            for kb in 250 500; do\n",
    "                cnvname=${cnvtype}_q${q}${qc}.cnv\n",
    "                # whole burden\n",
    "                plink --map ${cnvname}.map --fam ../simplex_nofamid.ped --cnv-list $cnvname \\\n",
    "                    --noweb --1 --cnv-check-no-overlap --cnv-max-kb $kb \\\n",
    "                    --out ${cnvtype}_q${q}${qc}_lenLT${kb}_burden;\n",
    "                # gene sets\n",
    "                plink --map ${cnvname}.map --fam ../simplex_nofamid.ped --cnv-list $cnvname \\\n",
    "                    --noweb --1 --cnv-intersect glist-hg19 --cnv-verbose-report-regions \\\n",
    "                    --cnv-subset genes.txt --cnv-max-kb $kb \\\n",
    "                    --out ${cnvtype}_q${q}${qc}_lenLT${kb}_genes;\n",
    "                plink --map ${cnvname}.map --fam ../simplex_nofamid.ped --cnv-list $cnvname \\\n",
    "                    --noweb --1 --cnv-intersect glist-hg19 --cnv-verbose-report-regions \\\n",
    "                    --cnv-subset hg19_allenBrainGene_trimmed.txt --cnv-max-kb $kb \\\n",
    "                    --out ${cnvtype}_q${q}${qc}_lenLT${kb}_brainGenes;\n",
    "                # subtypes only\n",
    "                for sub in del dup; do\n",
    "                    plink --map ${cnvname}.map --fam ../simplex_nofamid.ped --cnv-list $cnvname \\\n",
    "                    --noweb --1 --cnv-${sub} --cnv-max-kb $kb \\\n",
    "                    --out ${cnvtype}_q${q}${qc}_lenLT${kb}_${sub}Burden;\n",
    "                    # gene sets\n",
    "                    plink --map ${cnvname}.map --fam ../simplex_nofamid.ped --cnv-list $cnvname \\\n",
    "                        --noweb --1 --cnv-intersect glist-hg19 --cnv-verbose-report-regions \\\n",
    "                        --cnv-subset genes.txt --cnv-${sub} --cnv-max-kb $kb \\\n",
    "                        --out ${cnvtype}_q${q}${qc}_lenLT${kb}_${sub}Genes;\n",
    "                    plink --map ${cnvname}.map --fam ../simplex_nofamid.ped --cnv-list $cnvname \\\n",
    "                        --noweb --1 --cnv-intersect glist-hg19 --cnv-verbose-report-regions \\\n",
    "                        --cnv-subset hg19_allenBrainGene_trimmed.txt --cnv-${sub} \\\n",
    "                        --cnv-max-kb $kb \\\n",
    "                        --out ${cnvtype}_q${q}${qc}_lenLT${kb}_${sub}BrainGenes;\n",
    "                done;\n",
    "            done;\n",
    "        done;\n",
    "    done;\n",
    "done"
   ]
  },
  {
   "cell_type": "markdown",
   "metadata": {},
   "source": [
    "And let's see if the previous results hold:"
   ]
  },
  {
   "cell_type": "code",
   "execution_count": 1,
   "metadata": {},
   "outputs": [
    {
     "name": "stdout",
     "output_type": "stream",
     "text": [
      "=== ALL > 225Kb ===\n",
      "1\tCLIA_400205\t16\t33402023\t33630152\t1\t93\t12 228.129\n",
      "1\tCLIA_400133\t16\t33326701\t33630152\t3\t93\t16 303.451\n",
      "1\tCLIA_400210\t16\t32264765\t32889185\t3\t93\t25 624.42\n",
      "1\tCLIA_400216\t16\t33326701\t33630152\t3\t93\t16 303.451\n",
      "1\tCLIA_400216\t17\t44379939\t44627953\t3\t95\t32 248.014\n",
      "=== CLEAN > 5Kb ===\n"
     ]
    }
   ],
   "source": [
    "%%bash\n",
    "cd ~/data/cnv/xhmm_clean2\n",
    "echo \"=== ALL > 225Kb ===\"\n",
    "cat denovo_q60.cnv | awk '{ if (($5-$4)/1000 > 225) { print $_, ($5-$4)/1000 } }'\n",
    "echo \"=== CLEAN > 5Kb ===\"\n",
    "cat denovo_q60_clean.cnv | awk '{ if (($5-$4)/1000 > 5) { print $_, ($5-$4)/1000 } }'"
   ]
  },
  {
   "cell_type": "markdown",
   "metadata": {},
   "source": [
    "This is weird... 400178 is not even there anymore?"
   ]
  },
  {
   "cell_type": "code",
   "execution_count": 2,
   "metadata": {},
   "outputs": [
    {
     "name": "stdout",
     "output_type": "stream",
     "text": [
      "   1   CLIA_400200    6     27276759     27279927      3           90       19  3.168\n",
      "   1   CLIA_400170    1    153945103    153946111      3           65        6  1.008\n",
      "   1   CLIA_400178    2     21362374     21366206      1           65       22  3.832\n",
      "   1   CLIA_400178   14     55511801     55513280      1           77        8  1.479\n",
      "   1   CLIA_400178   18     19446875     19450166      1           96       11  3.291\n",
      "   1   CLIA_400139    1    110883168    110884147      3           61        7  0.979\n",
      "   1   CLIA_400139    4     38798624     38800077      3           93       11  1.453\n",
      "   1   CLIA_400149   23    101615646    101620272      3           72        4  4.626\n"
     ]
    }
   ],
   "source": [
    "%%bash\n",
    "cd ~/data/cnv/xhmm_clean2\n",
    "cat denovo_q60_clean.cnv | awk '{ if (($5-$4)/1000 > 0) { print $_, ($5-$4)/1000 } }'"
   ]
  },
  {
   "cell_type": "code",
   "execution_count": 8,
   "metadata": {},
   "outputs": [
    {
     "name": "stdout",
     "output_type": "stream",
     "text": [
      "False\n",
      "False\n"
     ]
    }
   ],
   "source": [
    "print 'CLIA_400200' in affected\n",
    "print 'CLIA_400170' in affected"
   ]
  },
  {
   "cell_type": "markdown",
   "metadata": {},
   "source": [
    "It's very weird that just by removing 4 samples from my previous cohort of 88 I get very different results!"
   ]
  },
  {
   "cell_type": "markdown",
   "metadata": {},
   "source": [
    "# Questions:\n",
    "\n",
    "* are these the only differences between the two samples?\n",
    "* can I re-run both samples and repeat the results?\n",
    "* maybe XHMM is not as stable as I'd like, and may need to use other tools"
   ]
  }
 ],
 "metadata": {
  "kernelspec": {
   "display_name": "Python [default]",
   "language": "python",
   "name": "python2"
  },
  "language_info": {
   "codemirror_mode": {
    "name": "ipython",
    "version": 2
   },
   "file_extension": ".py",
   "mimetype": "text/x-python",
   "name": "python",
   "nbconvert_exporter": "python",
   "pygments_lexer": "ipython2",
   "version": "2.7.14"
  },
  "nav_menu": {},
  "toc": {
   "navigate_menu": true,
   "number_sections": true,
   "sideBar": true,
   "threshold": 6,
   "toc_cell": false,
   "toc_section_display": "block",
   "toc_window_display": false
  }
 },
 "nbformat": 4,
 "nbformat_minor": 2
}
