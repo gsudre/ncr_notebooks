{
 "cells": [
  {
   "cell_type": "markdown",
   "metadata": {},
   "source": [
    "Let's try to re-run the PennCNV analysis but now only using clean samples."
   ]
  },
  {
   "cell_type": "code",
   "execution_count": 13,
   "metadata": {
    "collapsed": true
   },
   "outputs": [],
   "source": [
    "# figure out who is who in each trio\n",
    "\n",
    "import glob\n",
    "data_dir = '/data/NCR_SBRB/simplex/'\n",
    "trios = {}\n",
    "affected = []\n",
    "controls = []\n",
    "peds = glob.glob(data_dir + '*trio*ped')\n",
    "for ped in peds:\n",
    "    trio_name = ped.split('/')[-1].split('.')[0]\n",
    "    fid = open(ped, 'r')\n",
    "    fam = {}\n",
    "    for line in fid:\n",
    "        famid, sid, fa, mo, sex, aff = line.rstrip().split('\\t')\n",
    "        if fa != '0':\n",
    "            fam['child'] = sid\n",
    "            if aff == '1':\n",
    "                affected.append(trio_name)\n",
    "            else:\n",
    "                controls.append(trio_name)\n",
    "        elif sex == '1':\n",
    "            fam['father'] = sid\n",
    "        else:\n",
    "            fam['mother'] = sid\n",
    "    trios[trio_name] = fam\n",
    "    fid.close()\n",
    "    \n",
    "fid = open('/data/NCR_SBRB/simplex/famids.txt', 'r')\n",
    "fams = [t.rstrip() for t in fid]\n",
    "fid.close()"
   ]
  },
  {
   "cell_type": "code",
   "execution_count": 57,
   "metadata": {
    "collapsed": true
   },
   "outputs": [],
   "source": [
    "import pandas as pd\n",
    "\n",
    "df = pd.read_table('/data/NCR_SBRB/simplex/penncnv/results/all_simplex.qcsum')\n",
    "# we ran for all samples, but let's look at only stats for samples in our simplex study\n",
    "fid = open('/data/NCR_SBRB/simplex/sample_ids.txt', 'r')\n",
    "samples = [line.rstrip() for line in fid]\n",
    "fid.close()\n",
    "keep_me = [i for i in range(df.shape[0]) if df.File[i].split('/')[-1] in samples]\n",
    "df = df.iloc[keep_me]\n",
    "df = df[df.NumCNV <= 20]"
   ]
  },
  {
   "cell_type": "code",
   "execution_count": 58,
   "metadata": {},
   "outputs": [
    {
     "data": {
      "text/plain": [
       "['10033_trio1',\n",
       " '10033_trio2',\n",
       " '10090_trio1',\n",
       " '10090_trio2',\n",
       " '10094_trio1',\n",
       " '10094_trio2',\n",
       " '10128_trio1',\n",
       " '10128_trio2',\n",
       " '10164_trio1',\n",
       " '10164_trio2',\n",
       " '10173_trio2',\n",
       " '10178_trio1',\n",
       " '10178_trio2',\n",
       " '10182_trio1',\n",
       " '10182_trio2',\n",
       " '10197_trio1',\n",
       " '10215_trio2',\n",
       " '10215_trio3',\n",
       " '10215_trio4',\n",
       " '10369_trio1',\n",
       " '10369_trio2',\n",
       " '10406_trio1',\n",
       " '10406_trio2',\n",
       " '10406_trio3',\n",
       " '10448_trio1',\n",
       " '10448_trio2',\n",
       " '10459_trio2',\n",
       " '1892_trio1',\n",
       " '1892_trio2',\n",
       " '1893_trio2',\n",
       " '1895_trio1',\n",
       " '1895_trio2',\n",
       " '1976_trio1',\n",
       " '1976_trio3',\n",
       " '855_trio1',\n",
       " '855_trio2']"
      ]
     },
     "execution_count": 58,
     "metadata": {},
     "output_type": "execute_result"
    }
   ],
   "source": [
    "use_trio = []\n",
    "samples_left = [fn.split('/')[-1] for fn in df.File]\n",
    "for tn, trio in trios.iteritems():\n",
    "    if (trio['child'] in samples_left and\n",
    "        trio['mother'] in samples_left and\n",
    "        trio['father'] in samples_left):\n",
    "        use_trio.append(tn)\n",
    "use_trio.sort()\n",
    "use_trio"
   ]
  },
  {
   "cell_type": "markdown",
   "metadata": {},
   "source": [
    "First we need to refine the calls using the trio information. Note that we'll need to run 10369 separately because of a different array:"
   ]
  },
  {
   "cell_type": "code",
   "execution_count": 19,
   "metadata": {},
   "outputs": [
    {
     "name": "stdout",
     "output_type": "stream",
     "text": [
      "10033_trio1\n",
      "10033_trio2\n",
      "10090_trio1\n",
      "10090_trio2\n",
      "10094_trio1\n",
      "10094_trio2\n",
      "10128_trio1\n",
      "10128_trio2\n",
      "10164_trio1\n",
      "10164_trio2\n",
      "10173_trio2\n",
      "10178_trio1\n",
      "10178_trio2\n",
      "10182_trio1\n",
      "10182_trio2\n",
      "10197_trio1\n",
      "10215_trio2\n",
      "10215_trio3\n",
      "10215_trio4\n",
      "10369_trio1\n",
      "10369_trio2\n",
      "10406_trio1\n",
      "10406_trio2\n",
      "10406_trio3\n",
      "10448_trio1\n",
      "10448_trio2\n",
      "10459_trio2\n",
      "1892_trio1\n",
      "1892_trio2\n",
      "1893_trio2\n",
      "1895_trio1\n",
      "1895_trio2\n",
      "1976_trio1\n",
      "1976_trio3\n",
      "855_trio1\n",
      "855_trio2\n"
     ]
    }
   ],
   "source": [
    "import subprocess\n",
    "\n",
    "cmd_str = \"/usr/local/apps/penncnv/1.0.4/detect_cnv.pl -trio \" \\\n",
    "          \"-hmm ~/autodenovo/penncnv_example.hmm \" \\\n",
    "          \"-pfb InfiniumExome.pfb -cnv results/all_simplex.rawcnv \" \\\n",
    "          \"InfiniumExome/%s InfiniumExome/%s InfiniumExome/%s \" \\\n",
    "          \"-out results/cleanNCNVse20_%s.triocnv\"\n",
    "for trio in use_trio:\n",
    "    print trio\n",
    "    my_str = cmd_str % (trios[trio]['father'], trios[trio]['mother'],\n",
    "                        trios[trio]['child'], trio)\n",
    "    output = subprocess.check_output(my_str, shell=True,\n",
    "                                     cwd='/data/NCR_SBRB/simplex/penncnv')"
   ]
  },
  {
   "cell_type": "code",
   "execution_count": 59,
   "metadata": {},
   "outputs": [
    {
     "name": "stdout",
     "output_type": "stream",
     "text": [
      "10369_trio1\n",
      "10369_trio2\n"
     ]
    }
   ],
   "source": [
    "cmd_str = \"/usr/local/apps/penncnv/1.0.4/detect_cnv.pl -trio \" \\\n",
    "          \"-hmm ~/autodenovo/penncnv_example.hmm \" \\\n",
    "          \"-pfb HumanExome.pfb -cnv results/all_simplex.rawcnv \" \\\n",
    "          \"HumanExome/%s HumanExome/%s HumanExome/%s \" \\\n",
    "          \"-out results/cleanNCNVse20_%s.triocnv\"\n",
    "for trio in ['10369_trio1', '10369_trio2']:\n",
    "    print trio\n",
    "    my_str = cmd_str % (trios[trio]['father'], trios[trio]['mother'],\n",
    "                        trios[trio]['child'], trio)\n",
    "    output = subprocess.check_output(my_str, shell=True,\n",
    "                                     cwd='/data/NCR_SBRB/simplex/penncnv')"
   ]
  },
  {
   "cell_type": "markdown",
   "metadata": {},
   "source": [
    "Now we calculate how many de novo and inherited CNVs each offspring:"
   ]
  },
  {
   "cell_type": "code",
   "execution_count": 60,
   "metadata": {},
   "outputs": [
    {
     "name": "stdout",
     "output_type": "stream",
     "text": [
      "cleanNCNVse20_10033_trio1.triocnv: 0 denovo, 5 inherited\n",
      "cleanNCNVse20_10033_trio2.triocnv: 0 denovo, 8 inherited\n",
      "cleanNCNVse20_10090_trio1.triocnv: 0 denovo, 4 inherited\n",
      "cleanNCNVse20_10090_trio2.triocnv: 0 denovo, 10 inherited\n",
      "cleanNCNVse20_10094_trio1.triocnv: 0 denovo, 11 inherited\n",
      "cleanNCNVse20_10094_trio2.triocnv: 0 denovo, 6 inherited\n",
      "cleanNCNVse20_10128_trio1.triocnv: 0 denovo, 4 inherited\n",
      "cleanNCNVse20_10128_trio2.triocnv: 0 denovo, 6 inherited\n",
      "cleanNCNVse20_10164_trio1.triocnv: 1 denovo, 3 inherited\n",
      "cleanNCNVse20_10164_trio2.triocnv: 0 denovo, 4 inherited\n",
      "cleanNCNVse20_10173_trio2.triocnv: 0 denovo, 17 inherited\n",
      "cleanNCNVse20_10178_trio1.triocnv: 0 denovo, 10 inherited\n",
      "cleanNCNVse20_10178_trio2.triocnv: 0 denovo, 11 inherited\n",
      "cleanNCNVse20_10182_trio1.triocnv: 0 denovo, 3 inherited\n",
      "cleanNCNVse20_10182_trio2.triocnv: 0 denovo, 5 inherited\n",
      "cleanNCNVse20_10197_trio1.triocnv: 0 denovo, 7 inherited\n",
      "cleanNCNVse20_10215_trio2.triocnv: 0 denovo, 9 inherited\n",
      "cleanNCNVse20_10215_trio3.triocnv: 0 denovo, 7 inherited\n",
      "cleanNCNVse20_10215_trio4.triocnv: 0 denovo, 5 inherited\n",
      "cleanNCNVse20_10369_trio1.triocnv: 0 denovo, 6 inherited\n",
      "cleanNCNVse20_10369_trio2.triocnv: 0 denovo, 2 inherited\n",
      "cleanNCNVse20_10406_trio1.triocnv: 1 denovo, 3 inherited\n",
      "cleanNCNVse20_10406_trio2.triocnv: 1 denovo, 5 inherited\n",
      "cleanNCNVse20_10406_trio3.triocnv: 0 denovo, 6 inherited\n",
      "cleanNCNVse20_10448_trio1.triocnv: 0 denovo, 12 inherited\n",
      "cleanNCNVse20_10448_trio2.triocnv: 0 denovo, 18 inherited\n",
      "cleanNCNVse20_10459_trio2.triocnv: 0 denovo, 10 inherited\n",
      "cleanNCNVse20_1892_trio1.triocnv: 0 denovo, 10 inherited\n",
      "cleanNCNVse20_1892_trio2.triocnv: 1 denovo, 8 inherited\n",
      "cleanNCNVse20_1893_trio2.triocnv: 6 denovo, 16 inherited\n",
      "cleanNCNVse20_1895_trio1.triocnv: 3 denovo, 13 inherited\n",
      "cleanNCNVse20_1895_trio2.triocnv: 0 denovo, 17 inherited\n",
      "cleanNCNVse20_1976_trio1.triocnv: 0 denovo, 8 inherited\n",
      "cleanNCNVse20_1976_trio3.triocnv: 0 denovo, 7 inherited\n",
      "cleanNCNVse20_855_trio1.triocnv: 0 denovo, 6 inherited\n",
      "cleanNCNVse20_855_trio2.triocnv: 0 denovo, 7 inherited\n"
     ]
    }
   ],
   "source": [
    "%%bash\n",
    "cd /data/NCR_SBRB/simplex/penncnv/results\n",
    "\n",
    "for triocnv in `ls -1 cleanNCNVse20_*_trio?.triocnv`; do\n",
    "    rm denovo.txt inherited.txt 2>/dev/null;\n",
    "    grep mother ${triocnv} > mom_snps;\n",
    "    grep father ${triocnv} > dad_snps;\n",
    "    cat mom_snps dad_snps > parent_snps;\n",
    "    for snp in `grep offspring ${triocnv} | cut -d' ' -f 1`; do\n",
    "        if ! grep -q $snp parent_snps; then\n",
    "            echo \"$snp\" >> denovo.txt\n",
    "        else\n",
    "            echo \"$snp\" >> inherited.txt\n",
    "        fi;\n",
    "   done\n",
    "   echo ${triocnv}: `cat denovo.txt 2>/dev/null | wc -l` denovo, `cat inherited.txt 2>/dev/null | wc -l` inherited;\n",
    "   rm *_snps;\n",
    "done"
   ]
  },
  {
   "cell_type": "markdown",
   "metadata": {},
   "source": [
    "Not much there in terms of denovo mutations. I could try some sort of test using inherited ones as well, but just looking at the output above it doesn't look promising. "
   ]
  },
  {
   "cell_type": "markdown",
   "metadata": {},
   "source": [
    "# Adjusted CNVS\n",
    "\n",
    "Let's see if it makes any difference to run the adjusted code (ran in terminal):"
   ]
  },
  {
   "cell_type": "code",
   "execution_count": null,
   "metadata": {
    "collapsed": true
   },
   "outputs": [],
   "source": [
    "%%bash\n",
    "module load penncnv\n",
    "\n",
    "cd /data/NCR_SBRB/simplex/penncnv\n",
    "\n",
    "pfb_file=InfiniumExome.pfb\n",
    "gc_file=InfiniumExome.hg19.gcmodel\n",
    "detect_cnv.pl -test -hmm ~/autodenovo/penncnv_example.hmm -pfb $pfb_file \\\n",
    "    -log results/all_simplex_but1_adjusted.log InfiniumExome/* \\\n",
    "    -out results/all_simplex_but1_adjusted.rawcnv \\\n",
    "    -gcmodel $gc_file;\n",
    "\n",
    "pfb_file=HumanExome.pfb\n",
    "gc_file=HumanExome.hg19.gcmodel\n",
    "detect_cnv.pl -test -hmm ~/autodenovo/penncnv_example.hmm -pfb $pfb_file \\\n",
    "    -log results/fam_10369_adjusted.log HumanExome/* \\\n",
    "    -out results/fam_10369_adjusted.rawcnv \\\n",
    "    -gcmodel $gc_file;"
   ]
  },
  {
   "cell_type": "code",
   "execution_count": 24,
   "metadata": {},
   "outputs": [
    {
     "name": "stderr",
     "output_type": "stream",
     "text": [
      "NOTICE: the --qcbafdrift argument is set as 0.01 by default\n",
      "NOTICE: the --qcwf argument is set as 0.05 by default\n",
      "NOTICE: Writting 128 file names that pass QC to qcpass file all_simplex_adjusted.qcpass\n",
      "NOTICE: Writting 130 records of QC summary to qcsum file all_simplex_adjusted.qcsum\n"
     ]
    }
   ],
   "source": [
    "%%bash\n",
    "module load penncnv\n",
    "\n",
    "cd /data/NCR_SBRB/simplex/penncnv/results\n",
    "cat all_simplex_but1_adjusted.log fam_10369_adjusted.log > all_simplex_adjusted.log\n",
    "cat all_simplex_but1_adjusted.rawcnv fam_10369_adjusted.rawcnv > all_simplex_adjusted.rawcnv\n",
    "filter_cnv.pl all_simplex_adjusted.rawcnv -qclogfile all_simplex_adjusted.log \\\n",
    "    -qclrrsd 0.35 -qcpassout all_simplex_adjusted.qcpass \\\n",
    "    -qcsumout all_simplex_adjusted.qcsum -out all_simplex_adjusted"
   ]
  },
  {
   "cell_type": "markdown",
   "metadata": {},
   "source": [
    "Like before, let's visualize it to do some trimming:"
   ]
  },
  {
   "cell_type": "code",
   "execution_count": 72,
   "metadata": {},
   "outputs": [
    {
     "data": {
      "text/plain": [
       "<seaborn.axisgrid.JointGrid at 0x2aaaf55d0390>"
      ]
     },
     "execution_count": 72,
     "metadata": {},
     "output_type": "execute_result"
    },
    {
     "data": {
      "image/png": "[encoded data removed]",
      "text/plain": [
       "<matplotlib.figure.Figure at 0x2aaaf6b75a90>"
      ]
     },
     "metadata": {},
     "output_type": "display_data"
    }
   ],
   "source": [
    "import pandas as pd\n",
    "\n",
    "df = pd.read_table('/data/NCR_SBRB/simplex/penncnv/results/all_simplex_adjusted.qcsum')\n",
    "# we ran for all samples, but let's look at only stats for samples in our simplex study\n",
    "fid = open('/data/NCR_SBRB/simplex/sample_ids.txt', 'r')\n",
    "samples = [line.rstrip() for line in fid]\n",
    "fid.close()\n",
    "keep_me = [i for i in range(df.shape[0]) if df.File[i].split('/')[-1] in samples]\n",
    "df = df.iloc[keep_me]\n",
    "\n",
    "%matplotlib inline\n",
    "\n",
    "import seaborn as sns\n",
    "\n",
    "sns.jointplot(x='NumCNV', y='LRR_SD', data=df)"
   ]
  },
  {
   "cell_type": "code",
   "execution_count": 73,
   "metadata": {},
   "outputs": [
    {
     "data": {
      "text/plain": [
       "<seaborn.axisgrid.JointGrid at 0x2aaaf7055090>"
      ]
     },
     "execution_count": 73,
     "metadata": {},
     "output_type": "execute_result"
    },
    {
     "data": {
      "image/png": "[encoded data removed]",
      "text/plain": [
       "<matplotlib.figure.Figure at 0x2aaaf7055250>"
      ]
     },
     "metadata": {},
     "output_type": "display_data"
    }
   ],
   "source": [
    "import numpy as np\n",
    "\n",
    "sns.jointplot(x='NumCNV', y='LRR_SD', data=df[np.logical_and(df.NumCNV <= 20, df.LRR_SD<.2)])"
   ]
  },
  {
   "cell_type": "code",
   "execution_count": 74,
   "metadata": {},
   "outputs": [
    {
     "data": {
      "text/plain": [
       "['10033_trio1',\n",
       " '10033_trio2',\n",
       " '10090_trio1',\n",
       " '10090_trio2',\n",
       " '10094_trio1',\n",
       " '10094_trio2',\n",
       " '10128_trio1',\n",
       " '10128_trio2',\n",
       " '10131_trio1',\n",
       " '10131_trio2',\n",
       " '10131_trio3',\n",
       " '10131_trio4',\n",
       " '10153_trio1',\n",
       " '10153_trio2',\n",
       " '10153_trio3',\n",
       " '10164_trio1',\n",
       " '10164_trio2',\n",
       " '10173_trio2',\n",
       " '10178_trio1',\n",
       " '10178_trio2',\n",
       " '10182_trio1',\n",
       " '10182_trio2',\n",
       " '10197_trio1',\n",
       " '10215_trio1',\n",
       " '10215_trio2',\n",
       " '10215_trio3',\n",
       " '10215_trio4',\n",
       " '10369_trio1',\n",
       " '10369_trio2',\n",
       " '10406_trio1',\n",
       " '10406_trio2',\n",
       " '10406_trio3',\n",
       " '10448_trio1',\n",
       " '10448_trio2',\n",
       " '10459_trio2',\n",
       " '1892_trio1',\n",
       " '1892_trio2',\n",
       " '1893_trio2',\n",
       " '1895_trio1',\n",
       " '1895_trio2',\n",
       " '1976_trio1',\n",
       " '1976_trio3',\n",
       " '855_trio1',\n",
       " '855_trio2']"
      ]
     },
     "execution_count": 74,
     "metadata": {},
     "output_type": "execute_result"
    }
   ],
   "source": [
    "df = df[np.logical_and(df.NumCNV <= 20, df.LRR_SD<.2)]\n",
    "use_trio = []\n",
    "samples_left = [fn.split('/')[-1] for fn in df.File]\n",
    "for tn, trio in trios.iteritems():\n",
    "    if (trio['child'] in samples_left and\n",
    "        trio['mother'] in samples_left and\n",
    "        trio['father'] in samples_left):\n",
    "        use_trio.append(tn)\n",
    "use_trio.sort()\n",
    "use_trio"
   ]
  },
  {
   "cell_type": "code",
   "execution_count": 76,
   "metadata": {},
   "outputs": [
    {
     "name": "stdout",
     "output_type": "stream",
     "text": [
      "10033_trio1\n",
      "10033_trio2\n",
      "10090_trio1\n",
      "10090_trio2\n",
      "10094_trio1\n",
      "10094_trio2\n",
      "10128_trio1\n",
      "10128_trio2\n",
      "10131_trio1\n",
      "10131_trio2\n",
      "10131_trio3\n",
      "10131_trio4\n",
      "10153_trio1\n",
      "10153_trio2\n",
      "10153_trio3\n",
      "10164_trio1\n",
      "10164_trio2\n",
      "10173_trio2\n",
      "10178_trio1\n",
      "10178_trio2\n",
      "10182_trio1\n",
      "10182_trio2\n",
      "10197_trio1\n",
      "10215_trio1\n",
      "10215_trio2\n",
      "10215_trio3\n",
      "10215_trio4\n",
      "10369_trio1\n",
      "10369_trio2\n",
      "10406_trio1\n",
      "10406_trio2\n",
      "10406_trio3\n",
      "10448_trio1\n",
      "10448_trio2\n",
      "10459_trio2\n",
      "1892_trio1\n",
      "1892_trio2\n",
      "1893_trio2\n",
      "1895_trio1\n",
      "1895_trio2\n",
      "1976_trio1\n",
      "1976_trio3\n",
      "855_trio1\n",
      "855_trio2\n"
     ]
    }
   ],
   "source": [
    "import subprocess\n",
    "\n",
    "cmd_str = \"/usr/local/apps/penncnv/1.0.4/detect_cnv.pl -trio \" \\\n",
    "          \"-hmm ~/autodenovo/penncnv_example.hmm \" \\\n",
    "          \"-pfb InfiniumExome.pfb -cnv results/all_simplex_adjusted.rawcnv \" \\\n",
    "          \"InfiniumExome/%s InfiniumExome/%s InfiniumExome/%s \" \\\n",
    "          \"-out results/cleanNCNVse20LRRSDstp21_%s_adjusted.triocnv\"\n",
    "for trio in use_trio:\n",
    "    print trio\n",
    "    my_str = cmd_str % (trios[trio]['father'], trios[trio]['mother'],\n",
    "                        trios[trio]['child'], trio)\n",
    "    output = subprocess.check_output(my_str, shell=True,\n",
    "                                     cwd='/data/NCR_SBRB/simplex/penncnv')"
   ]
  },
  {
   "cell_type": "code",
   "execution_count": 77,
   "metadata": {},
   "outputs": [
    {
     "name": "stdout",
     "output_type": "stream",
     "text": [
      "10369_trio1\n",
      "10369_trio2\n"
     ]
    }
   ],
   "source": [
    "cmd_str = \"/usr/local/apps/penncnv/1.0.4/detect_cnv.pl -trio \" \\\n",
    "          \"-hmm ~/autodenovo/penncnv_example.hmm \" \\\n",
    "          \"-pfb HumanExome.pfb -cnv results/all_simplex_adjusted.rawcnv \" \\\n",
    "          \"HumanExome/%s HumanExome/%s HumanExome/%s \" \\\n",
    "          \"-out results/cleanNCNVse20LRRSDstp21_%s_adjusted.triocnv\"\n",
    "for trio in ['10369_trio1', '10369_trio2']:\n",
    "    print trio\n",
    "    my_str = cmd_str % (trios[trio]['father'], trios[trio]['mother'],\n",
    "                        trios[trio]['child'], trio)\n",
    "    output = subprocess.check_output(my_str, shell=True,\n",
    "                                     cwd='/data/NCR_SBRB/simplex/penncnv')"
   ]
  },
  {
   "cell_type": "code",
   "execution_count": 78,
   "metadata": {},
   "outputs": [
    {
     "name": "stdout",
     "output_type": "stream",
     "text": [
      "cleanNCNVse20LRRSDstp21_10033_trio1_adjusted.triocnv: 0 denovo, 6 inherited\n",
      "cleanNCNVse20LRRSDstp21_10033_trio2_adjusted.triocnv: 0 denovo, 5 inherited\n",
      "cleanNCNVse20LRRSDstp21_10090_trio1_adjusted.triocnv: 0 denovo, 3 inherited\n",
      "cleanNCNVse20LRRSDstp21_10090_trio2_adjusted.triocnv: 0 denovo, 10 inherited\n",
      "cleanNCNVse20LRRSDstp21_10094_trio1_adjusted.triocnv: 0 denovo, 11 inherited\n",
      "cleanNCNVse20LRRSDstp21_10094_trio2_adjusted.triocnv: 0 denovo, 7 inherited\n",
      "cleanNCNVse20LRRSDstp21_10128_trio1_adjusted.triocnv: 0 denovo, 4 inherited\n",
      "cleanNCNVse20LRRSDstp21_10128_trio2_adjusted.triocnv: 0 denovo, 6 inherited\n",
      "cleanNCNVse20LRRSDstp21_10131_trio1_adjusted.triocnv: 0 denovo, 12 inherited\n",
      "cleanNCNVse20LRRSDstp21_10131_trio2_adjusted.triocnv: 1 denovo, 8 inherited\n",
      "cleanNCNVse20LRRSDstp21_10131_trio3_adjusted.triocnv: 0 denovo, 16 inherited\n",
      "cleanNCNVse20LRRSDstp21_10131_trio4_adjusted.triocnv: 0 denovo, 21 inherited\n",
      "cleanNCNVse20LRRSDstp21_10153_trio1_adjusted.triocnv: 1 denovo, 5 inherited\n",
      "cleanNCNVse20LRRSDstp21_10153_trio2_adjusted.triocnv: 0 denovo, 14 inherited\n",
      "cleanNCNVse20LRRSDstp21_10153_trio3_adjusted.triocnv: 0 denovo, 7 inherited\n",
      "cleanNCNVse20LRRSDstp21_10164_trio1_adjusted.triocnv: 1 denovo, 3 inherited\n",
      "cleanNCNVse20LRRSDstp21_10164_trio2_adjusted.triocnv: 0 denovo, 4 inherited\n",
      "cleanNCNVse20LRRSDstp21_10173_trio2_adjusted.triocnv: 0 denovo, 9 inherited\n",
      "cleanNCNVse20LRRSDstp21_10178_trio1_adjusted.triocnv: 0 denovo, 10 inherited\n",
      "cleanNCNVse20LRRSDstp21_10178_trio2_adjusted.triocnv: 0 denovo, 11 inherited\n",
      "cleanNCNVse20LRRSDstp21_10182_trio1_adjusted.triocnv: 0 denovo, 3 inherited\n",
      "cleanNCNVse20LRRSDstp21_10182_trio2_adjusted.triocnv: 0 denovo, 5 inherited\n",
      "cleanNCNVse20LRRSDstp21_10197_trio1_adjusted.triocnv: 0 denovo, 7 inherited\n",
      "cleanNCNVse20LRRSDstp21_10215_trio1_adjusted.triocnv: 13 denovo, 7 inherited\n",
      "cleanNCNVse20LRRSDstp21_10215_trio2_adjusted.triocnv: 0 denovo, 10 inherited\n",
      "cleanNCNVse20LRRSDstp21_10215_trio3_adjusted.triocnv: 0 denovo, 7 inherited\n",
      "cleanNCNVse20LRRSDstp21_10215_trio4_adjusted.triocnv: 0 denovo, 7 inherited\n",
      "cleanNCNVse20LRRSDstp21_10369_trio1_adjusted.triocnv: 0 denovo, 7 inherited\n",
      "cleanNCNVse20LRRSDstp21_10369_trio2_adjusted.triocnv: 0 denovo, 1 inherited\n",
      "cleanNCNVse20LRRSDstp21_10406_trio1_adjusted.triocnv: 1 denovo, 3 inherited\n",
      "cleanNCNVse20LRRSDstp21_10406_trio2_adjusted.triocnv: 1 denovo, 5 inherited\n",
      "cleanNCNVse20LRRSDstp21_10406_trio3_adjusted.triocnv: 0 denovo, 6 inherited\n",
      "cleanNCNVse20LRRSDstp21_10448_trio1_adjusted.triocnv: 0 denovo, 10 inherited\n",
      "cleanNCNVse20LRRSDstp21_10448_trio2_adjusted.triocnv: 0 denovo, 15 inherited\n",
      "cleanNCNVse20LRRSDstp21_10459_trio2_adjusted.triocnv: 0 denovo, 9 inherited\n",
      "cleanNCNVse20LRRSDstp21_1892_trio1_adjusted.triocnv: 1 denovo, 9 inherited\n",
      "cleanNCNVse20LRRSDstp21_1892_trio2_adjusted.triocnv: 2 denovo, 9 inherited\n",
      "cleanNCNVse20LRRSDstp21_1893_trio2_adjusted.triocnv: 3 denovo, 12 inherited\n",
      "cleanNCNVse20LRRSDstp21_1895_trio1_adjusted.triocnv: 3 denovo, 11 inherited\n",
      "cleanNCNVse20LRRSDstp21_1895_trio2_adjusted.triocnv: 1 denovo, 9 inherited\n",
      "cleanNCNVse20LRRSDstp21_1976_trio1_adjusted.triocnv: 0 denovo, 9 inherited\n",
      "cleanNCNVse20LRRSDstp21_1976_trio3_adjusted.triocnv: 0 denovo, 6 inherited\n",
      "cleanNCNVse20LRRSDstp21_855_trio1_adjusted.triocnv: 0 denovo, 6 inherited\n",
      "cleanNCNVse20LRRSDstp21_855_trio2_adjusted.triocnv: 0 denovo, 7 inherited\n"
     ]
    }
   ],
   "source": [
    "%%bash\n",
    "cd /data/NCR_SBRB/simplex/penncnv/results\n",
    "\n",
    "for triocnv in `ls -1 cleanNCNVse20LRRSDstp21_*_adjusted.triocnv`; do\n",
    "    rm denovo.txt inherited.txt 2>/dev/null\n",
    "    grep mother ${triocnv} > mom_snps;\n",
    "    grep father ${triocnv} > dad_snps;\n",
    "    cat mom_snps dad_snps > parent_snps;\n",
    "    for snp in `grep offspring ${triocnv} | cut -d' ' -f 1`; do\n",
    "        if ! grep -q $snp parent_snps; then\n",
    "            echo \"$snp\" >> denovo.txt\n",
    "        else\n",
    "            echo \"$snp\" >> inherited.txt\n",
    "        fi;\n",
    "   done\n",
    "   echo ${triocnv}: `cat denovo.txt 2>/dev/null | wc -l` denovo, `cat inherited.txt 2>/dev/null | wc -l` inherited;\n",
    "   rm *_snps;\n",
    "done"
   ]
  },
  {
   "cell_type": "markdown",
   "metadata": {},
   "source": [
    "The numbers change, but still not much difference between the groups."
   ]
  },
  {
   "cell_type": "markdown",
   "metadata": {},
   "source": [
    "# Non-autossomal CNVs\n",
    "\n",
    "Maybe there is something in the non-autossomal chromossomes (ran outside)?"
   ]
  },
  {
   "cell_type": "code",
   "execution_count": null,
   "metadata": {
    "collapsed": true
   },
   "outputs": [],
   "source": [
    "%%bash\n",
    "module load penncnv\n",
    "\n",
    "cd /data/NCR_SBRB/simplex/penncnv\n",
    "\n",
    "pfb_file=InfiniumExome.pfb\n",
    "detect_cnv.pl --chrx -test -hmm ~/autodenovo/penncnv_example.hmm \\\n",
    "    -pfb $pfb_file -log results/Xall_simplex_but1.log InfiniumExome/* \\\n",
    "    -out results/Xall_simplex_but1.rawcnv;\n",
    "\n",
    "pfb_file=HumanExome.pfb\n",
    "detect_cnv.pl --chrx -test -hmm ~/autodenovo/penncnv_example.hmm \\\n",
    "    -pfb $pfb_file -log results/Xfam_10369.log HumanExome/* \\\n",
    "    -out results/Xfam_10369.rawcnv;"
   ]
  },
  {
   "cell_type": "code",
   "execution_count": 38,
   "metadata": {},
   "outputs": [
    {
     "name": "stderr",
     "output_type": "stream",
     "text": [
      "NOTICE: the --qclrrsd argument is set as 0.3 by default\n",
      "NOTICE: the --qcbafdrift argument is set as 0.01 by default\n",
      "NOTICE: the --qcwf argument is set as 0.05 by default\n",
      "NOTICE: Writting 127 file names that pass QC to qcpass file Xall_simplex.qcpass\n",
      "NOTICE: Writting 130 records of QC summary to qcsum file Xall_simplex.qcsum\n"
     ]
    }
   ],
   "source": [
    "%%bash\n",
    "module load penncnv\n",
    "\n",
    "cd /data/NCR_SBRB/simplex/penncnv/results\n",
    "cat Xall_simplex_but1.log Xfam_10369.log > Xall_simplex.log\n",
    "cat Xall_simplex_but1.rawcnv Xfam_10369.rawcnv > Xall_simplex.rawcnv\n",
    "filter_cnv.pl Xall_simplex.rawcnv -qclogfile Xall_simplex.log \\\n",
    "    -qcpassout Xall_simplex.qcpass --chrx \\\n",
    "    -qcsumout Xall_simplex.qcsum -out Xall_simplex"
   ]
  },
  {
   "cell_type": "code",
   "execution_count": 79,
   "metadata": {},
   "outputs": [
    {
     "data": {
      "text/plain": [
       "<seaborn.axisgrid.JointGrid at 0x2aaaf751cb50>"
      ]
     },
     "execution_count": 79,
     "metadata": {},
     "output_type": "execute_result"
    },
    {
     "data": {
      "image/png": "[encoded data removed]",
      "text/plain": [
       "<matplotlib.figure.Figure at 0x2aaaf751ca10>"
      ]
     },
     "metadata": {},
     "output_type": "display_data"
    }
   ],
   "source": [
    "import pandas as pd\n",
    "\n",
    "df = pd.read_table('/data/NCR_SBRB/simplex/penncnv/results/Xall_simplex.qcsum')\n",
    "# we ran for all samples, but let's look at only stats for samples in our simplex study\n",
    "fid = open('/data/NCR_SBRB/simplex/sample_ids.txt', 'r')\n",
    "samples = [line.rstrip() for line in fid]\n",
    "fid.close()\n",
    "keep_me = [i for i in range(df.shape[0]) if df.File[i].split('/')[-1] in samples]\n",
    "df = df.iloc[keep_me]\n",
    "\n",
    "%matplotlib inline\n",
    "\n",
    "import seaborn as sns\n",
    "\n",
    "sns.jointplot(x='NumCNV', y='LRR_XSD', data=df)"
   ]
  },
  {
   "cell_type": "code",
   "execution_count": 80,
   "metadata": {},
   "outputs": [
    {
     "data": {
      "text/plain": [
       "<seaborn.axisgrid.JointGrid at 0x2aaaf5902d10>"
      ]
     },
     "execution_count": 80,
     "metadata": {},
     "output_type": "execute_result"
    },
    {
     "data": {
      "image/png": "[encoded data removed]",
      "text/plain": [
       "<matplotlib.figure.Figure at 0x2aaaf5d8b1d0>"
      ]
     },
     "metadata": {},
     "output_type": "display_data"
    }
   ],
   "source": [
    "sns.jointplot(x='NumCNV', y='LRR_XSD', data=df[df.LRR_XSD<.21])"
   ]
  },
  {
   "cell_type": "code",
   "execution_count": 81,
   "metadata": {},
   "outputs": [
    {
     "data": {
      "text/plain": [
       "['10033_trio1',\n",
       " '10033_trio2',\n",
       " '10090_trio1',\n",
       " '10090_trio2',\n",
       " '10094_trio1',\n",
       " '10094_trio2',\n",
       " '10128_trio1',\n",
       " '10128_trio2',\n",
       " '10131_trio1',\n",
       " '10131_trio2',\n",
       " '10131_trio3',\n",
       " '10131_trio4',\n",
       " '10153_trio1',\n",
       " '10153_trio2',\n",
       " '10153_trio3',\n",
       " '10164_trio1',\n",
       " '10164_trio2',\n",
       " '10173_trio2',\n",
       " '10178_trio1',\n",
       " '10178_trio2',\n",
       " '10182_trio1',\n",
       " '10182_trio2',\n",
       " '10182_trio3',\n",
       " '10197_trio1',\n",
       " '10197_trio2',\n",
       " '10215_trio2',\n",
       " '10215_trio3',\n",
       " '10215_trio4',\n",
       " '10369_trio1',\n",
       " '10369_trio2',\n",
       " '10406_trio1',\n",
       " '10406_trio2',\n",
       " '10406_trio3',\n",
       " '10448_trio1',\n",
       " '10448_trio2',\n",
       " '10459_trio2',\n",
       " '1892_trio1',\n",
       " '1892_trio2',\n",
       " '1895_trio2',\n",
       " '1976_trio1',\n",
       " '1976_trio3',\n",
       " '855_trio1',\n",
       " '855_trio2']"
      ]
     },
     "execution_count": 81,
     "metadata": {},
     "output_type": "execute_result"
    }
   ],
   "source": [
    "df = df[df.LRR_XSD<.21]\n",
    "use_trio = []\n",
    "samples_left = [fn.split('/')[-1] for fn in df.File]\n",
    "for tn, trio in trios.iteritems():\n",
    "    if (trio['child'] in samples_left and\n",
    "        trio['mother'] in samples_left and\n",
    "        trio['father'] in samples_left):\n",
    "        use_trio.append(tn)\n",
    "use_trio.sort()\n",
    "use_trio"
   ]
  },
  {
   "cell_type": "code",
   "execution_count": 82,
   "metadata": {},
   "outputs": [
    {
     "name": "stdout",
     "output_type": "stream",
     "text": [
      "10033_trio1\n",
      "10033_trio2\n",
      "10090_trio1\n",
      "10090_trio2\n",
      "10094_trio1\n",
      "10094_trio2\n",
      "10128_trio1\n",
      "10128_trio2\n",
      "10131_trio1\n",
      "10131_trio2\n",
      "10131_trio3\n",
      "10131_trio4\n",
      "10153_trio1\n",
      "10153_trio2\n",
      "10153_trio3\n",
      "10164_trio1\n",
      "10164_trio2\n",
      "10173_trio2\n",
      "10178_trio1\n",
      "10178_trio2\n",
      "10182_trio1\n",
      "10182_trio2\n",
      "10182_trio3\n",
      "10197_trio1\n",
      "10197_trio2\n",
      "10215_trio2\n",
      "10215_trio3\n",
      "10215_trio4\n",
      "10369_trio1\n",
      "10369_trio2\n",
      "10406_trio1\n",
      "10406_trio2\n",
      "10406_trio3\n",
      "10448_trio1\n",
      "10448_trio2\n",
      "10459_trio2\n",
      "1892_trio1\n",
      "1892_trio2\n",
      "1895_trio2\n",
      "1976_trio1\n",
      "1976_trio3\n",
      "855_trio1\n",
      "855_trio2\n",
      "10369_trio1\n",
      "10369_trio2\n"
     ]
    }
   ],
   "source": [
    "import subprocess\n",
    "\n",
    "cmd_str = \"/usr/local/apps/penncnv/1.0.4/detect_cnv.pl -trio --chrx \" \\\n",
    "          \"-hmm ~/autodenovo/penncnv_example.hmm \" \\\n",
    "          \"-pfb InfiniumExome.pfb -cnv results/Xall_simplex.rawcnv \" \\\n",
    "          \"InfiniumExome/%s InfiniumExome/%s InfiniumExome/%s \" \\\n",
    "          \"-out results/cleanLRRXSDstp21_%s_chrX.triocnv\"\n",
    "for trio in use_trio:\n",
    "    print trio\n",
    "    my_str = cmd_str % (trios[trio]['father'], trios[trio]['mother'],\n",
    "                        trios[trio]['child'], trio)\n",
    "    output = subprocess.check_output(my_str, shell=True,\n",
    "                                     cwd='/data/NCR_SBRB/simplex/penncnv')\n",
    "\n",
    "cmd_str = \"/usr/local/apps/penncnv/1.0.4/detect_cnv.pl -trio --chrx \" \\\n",
    "          \"-hmm ~/autodenovo/penncnv_example.hmm \" \\\n",
    "          \"-pfb HumanExome.pfb -cnv results/all_simplex_adjusted.rawcnv \" \\\n",
    "          \"HumanExome/%s HumanExome/%s HumanExome/%s \" \\\n",
    "          \"-out results/cleanLRRXSDstp21_%s_chrX.triocnv\"\n",
    "for trio in ['10369_trio1', '10369_trio2']:\n",
    "    print trio\n",
    "    my_str = cmd_str % (trios[trio]['father'], trios[trio]['mother'],\n",
    "                        trios[trio]['child'], trio)\n",
    "    output = subprocess.check_output(my_str, shell=True,\n",
    "                                     cwd='/data/NCR_SBRB/simplex/penncnv')"
   ]
  },
  {
   "cell_type": "code",
   "execution_count": 83,
   "metadata": {},
   "outputs": [
    {
     "name": "stdout",
     "output_type": "stream",
     "text": [
      "cleanLRRXSDstp21_10033_trio1_chrX.triocnv: 1 denovo, 2 inherited\n",
      "cleanLRRXSDstp21_10033_trio2_chrX.triocnv: 0 denovo, 0 inherited\n",
      "cleanLRRXSDstp21_10090_trio1_chrX.triocnv: 0 denovo, 0 inherited\n",
      "cleanLRRXSDstp21_10090_trio2_chrX.triocnv: 0 denovo, 0 inherited\n",
      "cleanLRRXSDstp21_10094_trio1_chrX.triocnv: 0 denovo, 0 inherited\n",
      "cleanLRRXSDstp21_10094_trio2_chrX.triocnv: 0 denovo, 0 inherited\n",
      "cleanLRRXSDstp21_10128_trio1_chrX.triocnv: 0 denovo, 0 inherited\n",
      "cleanLRRXSDstp21_10128_trio2_chrX.triocnv: 0 denovo, 0 inherited\n",
      "cleanLRRXSDstp21_10131_trio1_chrX.triocnv: 0 denovo, 0 inherited\n",
      "cleanLRRXSDstp21_10131_trio2_chrX.triocnv: 3 denovo, 0 inherited\n",
      "cleanLRRXSDstp21_10131_trio3_chrX.triocnv: 1 denovo, 1 inherited\n",
      "cleanLRRXSDstp21_10131_trio4_chrX.triocnv: 0 denovo, 1 inherited\n",
      "cleanLRRXSDstp21_10153_trio1_chrX.triocnv: 0 denovo, 2 inherited\n",
      "cleanLRRXSDstp21_10153_trio2_chrX.triocnv: 0 denovo, 0 inherited\n",
      "cleanLRRXSDstp21_10153_trio3_chrX.triocnv: 0 denovo, 2 inherited\n",
      "cleanLRRXSDstp21_10164_trio1_chrX.triocnv: 0 denovo, 0 inherited\n",
      "cleanLRRXSDstp21_10164_trio2_chrX.triocnv: 0 denovo, 0 inherited\n",
      "cleanLRRXSDstp21_10173_trio2_chrX.triocnv: 0 denovo, 0 inherited\n",
      "cleanLRRXSDstp21_10178_trio1_chrX.triocnv: 0 denovo, 0 inherited\n",
      "cleanLRRXSDstp21_10178_trio2_chrX.triocnv: 0 denovo, 0 inherited\n",
      "cleanLRRXSDstp21_10182_trio1_chrX.triocnv: 0 denovo, 0 inherited\n",
      "cleanLRRXSDstp21_10182_trio2_chrX.triocnv: 1 denovo, 1 inherited\n",
      "cleanLRRXSDstp21_10182_trio3_chrX.triocnv: 0 denovo, 0 inherited\n",
      "cleanLRRXSDstp21_10197_trio1_chrX.triocnv: 2 denovo, 2 inherited\n",
      "cleanLRRXSDstp21_10197_trio2_chrX.triocnv: 4 denovo, 0 inherited\n",
      "cleanLRRXSDstp21_10215_trio2_chrX.triocnv: 0 denovo, 0 inherited\n",
      "cleanLRRXSDstp21_10215_trio3_chrX.triocnv: 7 denovo, 0 inherited\n",
      "cleanLRRXSDstp21_10215_trio4_chrX.triocnv: 4 denovo, 0 inherited\n",
      "cleanLRRXSDstp21_10369_trio1_chrX.triocnv: 0 denovo, 0 inherited\n",
      "cleanLRRXSDstp21_10369_trio2_chrX.triocnv: 0 denovo, 0 inherited\n",
      "cleanLRRXSDstp21_10406_trio1_chrX.triocnv: 0 denovo, 0 inherited\n",
      "cleanLRRXSDstp21_10406_trio2_chrX.triocnv: 1 denovo, 1 inherited\n",
      "cleanLRRXSDstp21_10406_trio3_chrX.triocnv: 1 denovo, 0 inherited\n",
      "cleanLRRXSDstp21_10448_trio1_chrX.triocnv: 0 denovo, 0 inherited\n",
      "cleanLRRXSDstp21_10448_trio2_chrX.triocnv: 0 denovo, 0 inherited\n",
      "cleanLRRXSDstp21_10459_trio2_chrX.triocnv: 0 denovo, 0 inherited\n",
      "cleanLRRXSDstp21_1892_trio1_chrX.triocnv: 0 denovo, 0 inherited\n",
      "cleanLRRXSDstp21_1892_trio2_chrX.triocnv: 1 denovo, 2 inherited\n",
      "cleanLRRXSDstp21_1895_trio2_chrX.triocnv: 0 denovo, 0 inherited\n",
      "cleanLRRXSDstp21_1976_trio1_chrX.triocnv: 0 denovo, 0 inherited\n",
      "cleanLRRXSDstp21_1976_trio3_chrX.triocnv: 3 denovo, 1 inherited\n",
      "cleanLRRXSDstp21_855_trio1_chrX.triocnv: 2 denovo, 1 inherited\n",
      "cleanLRRXSDstp21_855_trio2_chrX.triocnv: 0 denovo, 0 inherited\n"
     ]
    }
   ],
   "source": [
    "%%bash\n",
    "cd /data/NCR_SBRB/simplex/penncnv/results\n",
    "\n",
    "for triocnv in `ls -1 cleanLRRXSDstp21_*_chrX.triocnv`; do\n",
    "    rm denovo.txt inherited.txt 2>/dev/null\n",
    "    grep mother ${triocnv} > mom_snps;\n",
    "    grep father ${triocnv} > dad_snps;\n",
    "    cat mom_snps dad_snps > parent_snps;\n",
    "    for snp in `grep offspring ${triocnv} | cut -d' ' -f 1`; do\n",
    "        if ! grep -q $snp parent_snps; then\n",
    "            echo \"$snp\" >> denovo.txt\n",
    "        else\n",
    "            echo \"$snp\" >> inherited.txt\n",
    "        fi;\n",
    "   done\n",
    "   echo ${triocnv}: `cat denovo.txt 2>/dev/null | wc -l` denovo, `cat inherited.txt 2>/dev/null | wc -l` inherited;\n",
    "   rm *_snps;\n",
    "done"
   ]
  },
  {
   "cell_type": "markdown",
   "metadata": {},
   "source": [
    "Same story... no specific pattern I can eyeball."
   ]
  },
  {
   "cell_type": "markdown",
   "metadata": {},
   "source": [
    "# TODO\n",
    "\n",
    "* play with HMM parameters\n",
    "* compare to multiplex families? (only using trios with NV parents? use only affected kids from both cohorts? need to use WPS samples too!)"
   ]
  }
 ],
 "metadata": {
  "kernelspec": {
   "display_name": "Python [default]",
   "language": "python",
   "name": "python2"
  },
  "language_info": {
   "codemirror_mode": {
    "name": "ipython",
    "version": 2
   },
   "file_extension": ".py",
   "mimetype": "text/x-python",
   "name": "python",
   "nbconvert_exporter": "python",
   "pygments_lexer": "ipython2",
   "version": "2.7.14"
  },
  "nav_menu": {},
  "toc": {
   "navigate_menu": true,
   "number_sections": true,
   "sideBar": true,
   "threshold": 6,
   "toc_cell": false,
   "toc_section_display": "block",
   "toc_window_display": false
  }
 },
 "nbformat": 4,
 "nbformat_minor": 2
}
