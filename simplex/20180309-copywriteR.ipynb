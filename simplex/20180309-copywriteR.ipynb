{
 "cells": [
  {
   "cell_type": "markdown",
   "metadata": {},
   "source": [
    "Just detailed my experiences with CopywriteR, which seems to take a simialr approach to cnvkit by analyzing off-target regions, but it's implemented in R. Here we follow this document http://bioconductor.org/packages/release/bioc/vignettes/CopywriteR/inst/doc/CopywriteR.pdf, but I'll do it in a terminal window because it's easier to get the error output that way.\n",
    "\n",
    "Also, we're finally using the trimmed version of the 84 samples. So:"
   ]
  },
  {
   "cell_type": "code",
   "execution_count": null,
   "metadata": {
    "collapsed": true
   },
   "outputs": [],
   "source": [
    "%%R\n",
    "\n",
    "library(CopywriteR)\n",
    "data.folder <- tools::file_path_as_absolute(file.path('~/data/cnv/trimmed/copywriter/'))\n",
    "preCopywriteR(output.folder = file.path(data.folder), bin.size = 20000,\n",
    "              ref.genome='hg19', prefix='chr')\n",
    "bp.param <- SnowParam(workers = 8, type = \"SOCK\")  # using 30 was crapping out\n",
    "path = '~/data/cnv/trimmed/BAM/'\n",
    "samples <- list.files(path = path, pattern = \".bam$\", full.names = TRUE)\n",
    "controls <- samples\n",
    "sample.control <- data.frame(samples, controls)\n",
    "CopywriteR(sample.control = sample.control,\n",
    "           destination.folder = file.path(data.folder),\n",
    "           reference.folder = file.path(data.folder, \"hg19_20kb_chr\"),\n",
    "           bp.param = bp.param,\n",
    "           capture.regions.file='/data/NCR_SBRB/simplex/SeqCapEZ_Exome_v3.0_Design_Annotation_files/SeqCap_EZ_Exome_v3_hg19_capture_targets.bed')\n"
   ]
  }
 ],
 "metadata": {
  "kernelspec": {
   "display_name": "Python [default]",
   "language": "python",
   "name": "python2"
  },
  "language_info": {
   "codemirror_mode": {
    "name": "ipython",
    "version": 2
   },
   "file_extension": ".py",
   "mimetype": "text/x-python",
   "name": "python",
   "nbconvert_exporter": "python",
   "pygments_lexer": "ipython2",
   "version": "2.7.14"
  },
  "nav_menu": {},
  "toc": {
   "navigate_menu": true,
   "number_sections": true,
   "sideBar": true,
   "threshold": 6,
   "toc_cell": false,
   "toc_section_display": "block",
   "toc_window_display": false
  }
 },
 "nbformat": 4,
 "nbformat_minor": 2
}
