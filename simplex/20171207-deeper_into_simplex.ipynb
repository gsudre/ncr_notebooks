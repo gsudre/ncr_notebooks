{
 "cells": [
  {
   "cell_type": "markdown",
   "metadata": {},
   "source": [
    "Even though there was not much difference between ADHD and NV in CNV burden, maybe there is some correlation with symptom counts? Or maybe even some brain metric? It would also be cool to come up with some sort of network metric. So, let's dig deeper into CNVs and simplex cases. After a quick chat with Philip, here are a few things to prioritize:\n",
    "\n",
    "* Play with the minimum size of the CNV\n",
    "* Play with the HMM parameters\n",
    "* Check (and plot) within family differences; the ones with big differences are interesting.\n",
    "* Include parent burden in the analysis\n",
    "* Filter based on neural vs nonneural CNVs (i.e. expressed in the brain\n",
    "* Look at literature-only CNVs (J Chia and A Thapaer for CNVs in ADHD\n",
    "* Match with file of ranked simplex by Wendy (maybe blindly)?\n",
    "* Do all of the above with XHMM and array data. Maybe start with array because it'll be simpler?\n",
    "\n",
    "So, let's get on cracking.\n",
    "\n",
    "# PennCNV\n",
    "\n",
    "Going through their documentation, apparently the joint calling algorithm is better than the trio/quartet algorithm (http://penncnv.openbioinformatics.org/en/latest/user-guide/joint/). It's slower, but we don't care about that (to a certain point...). So, let's try to re-run it using the joint calling algorithm (terminal):"
   ]
  },
  {
   "cell_type": "code",
   "execution_count": null,
   "metadata": {
    "collapsed": true
   },
   "outputs": [],
   "source": [
    "%%bash\n",
    "cd /data/NCR_SBRB/simplex/penncnv/\n",
    "cp -r HumanExome HumanExome.pfb HumanExome.hg19.gcmodel InfiniumExome InfiniumExome.hg19.gcmodel InfiniumExome.pfb ~/data/cnv/penncnv/\n",
    "cd ..\n",
    "cp simplex.ped ~/data/cnv/\n",
    "cp ~/autodenovo/penncnv_example.hmm ~/data/cnv/penncnv/\n",
    "cp ~/autodenovo/penncnv_example.hmm ~/data/cnv/penncnv/"
   ]
  },
  {
   "cell_type": "markdown",
   "metadata": {},
   "source": [
    "So, it does take a while, so let's just swarm it. But, to do that we need to figure out who is who in our pedigree. Note that I'm going to drop the convention I had before that the first trio in a family is the affected one, because we'll eventually play with extended families, and that convention will break down."
   ]
  },
  {
   "cell_type": "code",
   "execution_count": 1,
   "metadata": {
    "collapsed": true
   },
   "outputs": [],
   "source": [
    "import numpy as np\n",
    "import matplotlib.pyplot as plt\n",
    "import seaborn as sns\n",
    "import pandas as pd\n",
    "\n",
    "%matplotlib inline"
   ]
  },
  {
   "cell_type": "code",
   "execution_count": 8,
   "metadata": {},
   "outputs": [],
   "source": [
    "# figure out who is who in each trio\n",
    "import glob\n",
    "data_dir = '/data/sudregp/cnv/penncnv/'\n",
    "ped_file = '/data/sudregp/cnv/simplex.ped'\n",
    "wes_prefix = ['CLIA', 'CCGO', 'WPS']\n",
    "trios = []\n",
    "affected = []\n",
    "controls = []\n",
    "fid = open(ped_file, 'r')\n",
    "for line in fid:\n",
    "    famid, sid, fa, mo, sex, aff = line.rstrip().split('\\t')\n",
    "    if fa[:4] in wes_prefix and mo[:4] in wes_prefix and sid[:4] in wes_prefix:\n",
    "        fam = {}\n",
    "        fam['child'] = sid\n",
    "        if aff == '1':\n",
    "            affected.append(sid)\n",
    "        else:\n",
    "            controls.append(sid)\n",
    "        fam['father'] = fa\n",
    "        fam['mother'] = mo\n",
    "        fam['famid'] = famid\n",
    "        trios.append(fam)\n",
    "fid.close()"
   ]
  },
  {
   "cell_type": "code",
   "execution_count": 18,
   "metadata": {
    "collapsed": true
   },
   "outputs": [],
   "source": [
    "fid = open('/data/sudregp/cnv/penncnv/swarm.joint_call', 'w')\n",
    "str1 = 'cd /data/sudregp/cnv/penncnv/; '\n",
    "str2 = 'detect_cnv.pl -joint -hmm penncnv_example.hmm -pfb %s.pfb %s/%s %s/%s %s/%s -out results/%s.jointcnv --log results/%s.log'\n",
    "\n",
    "box = 'InfiniumExome'\n",
    "for trio in trios:\n",
    "    fid.write(str1)\n",
    "    fid.write(str2 % (box, box, trio['father'], box, trio['mother'], box,\n",
    "                      trio['child'], trio['child'], trio['child']) + '\\n')\n",
    "fid.close()"
   ]
  },
  {
   "cell_type": "code",
   "execution_count": 20,
   "metadata": {},
   "outputs": [
    {
     "name": "stdout",
     "output_type": "stream",
     "text": [
      "55729461\n"
     ]
    }
   ],
   "source": [
    "%%bash\n",
    "cd /data/sudregp/cnv/penncnv/\n",
    "swarm -g 4 --job-name penn_joint --time 2:00:00 -f swarm.joint_call \\\n",
    "    --module penncnv --partition quick --logdir trash"
   ]
  },
  {
   "cell_type": "markdown",
   "metadata": {},
   "source": [
    "And I'll run the trio that's in a different box by itself:"
   ]
  },
  {
   "cell_type": "code",
   "execution_count": 19,
   "metadata": {},
   "outputs": [
    {
     "name": "stdout",
     "output_type": "stream",
     "text": [
      "cd /data/sudregp/cnv/penncnv/; detect_cnv.pl -joint -hmm penncnv_example.hmm -pfb HumanExome.pfb HumanExome/CCGO_800976 HumanExome/CCGO_800977 HumanExome/CCGO_800980 -out results/CCGO_800980.jointcnv --log results/CCGO_800980.log\n",
      "cd /data/sudregp/cnv/penncnv/; detect_cnv.pl -joint -hmm penncnv_example.hmm -pfb HumanExome.pfb HumanExome/CCGO_800976 HumanExome/CCGO_800977 HumanExome/CCGO_800979 -out results/CCGO_800979.jointcnv --log results/CCGO_800979.log\n"
     ]
    }
   ],
   "source": [
    "diff_box = [fam for fam in trios if fam['famid']=='10369']\n",
    "box = 'HumanExome'\n",
    "for trio in diff_box:\n",
    "    print str1 + str2 % (box, box, trio['father'], box, trio['mother'], box,\n",
    "                         trio['child'], trio['child'], trio['child'])"
   ]
  },
  {
   "cell_type": "markdown",
   "metadata": {},
   "source": [
    "# TODO\n",
    "\n",
    "* Check list in top of document\n",
    "* Try PennCNV steps with adjusted pipeline to see if we get anything different\n",
    "* Look into sex chromosomes? Something to the idea that adhd is more present in boys..."
   ]
  }
 ],
 "metadata": {
  "kernelspec": {
   "display_name": "Python [default]",
   "language": "python",
   "name": "python2"
  },
  "language_info": {
   "codemirror_mode": {
    "name": "ipython",
    "version": 2
   },
   "file_extension": ".py",
   "mimetype": "text/x-python",
   "name": "python",
   "nbconvert_exporter": "python",
   "pygments_lexer": "ipython2",
   "version": "2.7.14"
  },
  "nav_menu": {},
  "toc": {
   "navigate_menu": true,
   "number_sections": true,
   "sideBar": true,
   "threshold": 6,
   "toc_cell": false,
   "toc_section_display": "block",
   "toc_window_display": false
  }
 },
 "nbformat": 4,
 "nbformat_minor": 2
}
