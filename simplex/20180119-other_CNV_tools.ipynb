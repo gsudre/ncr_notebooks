{
 "cells": [
  {
   "cell_type": "markdown",
   "metadata": {},
   "source": [
    "Had to re-run the simplex sample to include only families with two or more kids. Similar to the xhmm_again note from today."
   ]
  },
  {
   "cell_type": "markdown",
   "metadata": {},
   "source": [
    "# Python inits"
   ]
  },
  {
   "cell_type": "code",
   "execution_count": 2,
   "metadata": {},
   "outputs": [
    {
     "data": {
      "text/html": [
       "<script>requirejs.config({paths: { 'plotly': ['https://cdn.plot.ly/plotly-latest.min']},});if(!window.Plotly) {{require(['plotly'],function(plotly) {window.Plotly=plotly;});}}</script>"
      ],
      "text/vnd.plotly.v1+html": [
       "<script>requirejs.config({paths: { 'plotly': ['https://cdn.plot.ly/plotly-latest.min']},});if(!window.Plotly) {{require(['plotly'],function(plotly) {window.Plotly=plotly;});}}</script>"
      ]
     },
     "metadata": {},
     "output_type": "display_data"
    }
   ],
   "source": [
    "import numpy as np\n",
    "import matplotlib.pyplot as plt\n",
    "import seaborn as sns\n",
    "import pandas as pd\n",
    "from plotly.offline import download_plotlyjs, init_notebook_mode, plot, iplot\n",
    "\n",
    "init_notebook_mode(connected=True)\n",
    "%matplotlib inline"
   ]
  },
  {
   "cell_type": "code",
   "execution_count": 3,
   "metadata": {
    "collapsed": true
   },
   "outputs": [],
   "source": [
    "def classify_cnvs(cnvs, trios):\n",
    "    inherited = {}\n",
    "    denovo = {}\n",
    "    for trio in trios:\n",
    "        inherited[trio['child']] = []\n",
    "        denovo[trio['child']] = []\n",
    "\n",
    "    # need to filter in chr and type first because ranges repeat for every chr,\n",
    "    # and inheritance is only true for the same type of CNV\n",
    "    for chr in ['chr%d' % d for d in range(1, 23)]:\n",
    "        for cnvtype in ['dup', 'del']:\n",
    "            for trio in trios:\n",
    "                kid = [cnv for cnv in cnvs[trio['child']] if (cnv[0] == chr and\n",
    "                                                              cnv[3] == cnvtype)]\n",
    "                dad = [cnv for cnv in cnvs[trio['father']] if (cnv[0] == chr and\n",
    "                                                              cnv[3] == cnvtype)]\n",
    "                mom = [cnv for cnv in cnvs[trio['mother']] if (cnv[0] == chr and\n",
    "                                                              cnv[3] == cnvtype)]\n",
    "                for cnv in kid:\n",
    "                    is_inherited = False\n",
    "                    # if CNV start is not within any parents boundary AND\n",
    "                    #         CNV end is not within any parents boundary\n",
    "                    # it's denovo\n",
    "                    for pcnv in dad + mom:\n",
    "                        if ((cnv[1] >= pcnv[1] or cnv[1] <= pcnv[2]) or\n",
    "                            (cnv[2] >= pcnv[1] or cnv[2] <= pcnv[2])):\n",
    "                            is_inherited = True\n",
    "                    if is_inherited:\n",
    "                        inherited[trio['child']].append(cnv)\n",
    "                    else:\n",
    "                        denovo[trio['child']].append(cnv)\n",
    "    return denovo, inherited\n",
    "\n",
    "\n",
    "def write2plink(data, fname, trios):\n",
    "    fid = open(fname, 'w')\n",
    "    fid.write('FID\\tIID\\tCHR\\tBP1\\tBP2\\tTYPE\\tSCORE\\tSITE\\n')\n",
    "    for sample, cnvs in data.iteritems():\n",
    "        famid = [trio['famid'] for trio in trios if trio['child'] == sample][0]\n",
    "        for cnv in cnvs:\n",
    "            ch = cnv[0].replace('chr', '')\n",
    "            if cnv[3] == 'del':\n",
    "                cnvt = '1'\n",
    "            else:\n",
    "                cnvt = '3'\n",
    "            if len(cnv) > 4:\n",
    "                score = cnv[5]\n",
    "                site = cnv[4]\n",
    "            else:\n",
    "                score, site = ['0', '0']\n",
    "            fid.write('\\t'.join([famid, sample, ch, cnv[1], cnv[2], cnvt,\n",
    "                                 score, site]) + '\\n')\n",
    "    fid.close()"
   ]
  },
  {
   "cell_type": "code",
   "execution_count": 4,
   "metadata": {},
   "outputs": [
    {
     "name": "stdout",
     "output_type": "stream",
     "text": [
      "Working with 88 samples, in 20 families\n"
     ]
    }
   ],
   "source": [
    "import glob\n",
    "ped_file = '/data/sudregp/cnv/simplex.ped'\n",
    "wes_prefix = ['CLIA', 'CCGO', 'WPS']\n",
    "\n",
    "# cleaning up the data for this analysis\n",
    "fid = open('/home/sudregp/data/cnv/exclude.txt', 'r')\n",
    "exclude_list = [line.rstrip() for line in fid]\n",
    "fid.close()\n",
    "fid = open('/home/sudregp/data/cnv/exclude_multikids.txt', 'r')\n",
    "exclude_list += [line.rstrip() for line in fid]\n",
    "fid.close()\n",
    "\n",
    "trios = []\n",
    "affected = []\n",
    "controls = []\n",
    "samples = []\n",
    "famids = []\n",
    "fid = open(ped_file, 'r')\n",
    "for line in fid:\n",
    "    famid, sid, fa, mo, sex, aff = line.rstrip().split('\\t')\n",
    "    if (fa[:4] in wes_prefix and mo[:4] in wes_prefix and\n",
    "        sid[:4] in wes_prefix and sid not in exclude_list):\n",
    "        fam = {}\n",
    "        fam['child'] = sid\n",
    "        if aff == '1':\n",
    "            affected.append(sid)\n",
    "        else:\n",
    "            controls.append(sid)\n",
    "        fam['father'] = fa\n",
    "        fam['mother'] = mo\n",
    "        fam['famid'] = famid\n",
    "        trios.append(fam)\n",
    "        samples += [sid, fa, mo]\n",
    "        famids.append(famid)\n",
    "fid.close()\n",
    "samples = set(samples)\n",
    "famids = set(famids)\n",
    "\n",
    "# fid = open('/data/sudregp/cnv/kid_samples.txt', 'r')\n",
    "# good_kids = [line.rstrip() for line in fid]\n",
    "# fid.close()\n",
    "\n",
    "print 'Working with %d samples, in %d families' % (len(samples), len(famids))"
   ]
  },
  {
   "cell_type": "markdown",
   "metadata": {},
   "source": [
    "# ExomeCopy"
   ]
  },
  {
   "cell_type": "code",
   "execution_count": null,
   "metadata": {
    "collapsed": true
   },
   "outputs": [],
   "source": [
    "%%R\n",
    "\n",
    "library(exomeCopy)\n",
    "target.file <- \"/data/NCR_SBRB/simplex/SeqCapEZ_Exome_v3.0_Design_Annotation_files/SeqCap_EZ_Exome_v3_hg19_capture_targets.bed\"\n",
    "setwd('~/data/cnv/BAM')\n",
    "bam.files <- list.files(pattern=\".bam$\")\n",
    "keep_me = (bam.files != 'CLIA_400165.bam' & bam.files != 'CLIA_400164.bam' & \n",
    "           bam.files != 'CLIA_400155.bam' & bam.files != 'CLIA_400146.bam' &\n",
    "           bam.files != 'CLIA_400145.bam' & bam.files != 'CLIA_400126.bam' &\n",
    "           bam.files != 'CLIA_400207.bam' & bam.files != 'CLIA_400208.bam' &\n",
    "           bam.files != 'CLIA_400168.bam' & bam.files != 'CLIA_400169.bam' &\n",
    "           bam.files != 'CLIA_400209.bam')\n",
    "bam.files = bam.files[keep_me]\n",
    "print(sprintf('Processing %d samples.', length(bam.files)))\n",
    "sample.names = bam.files\n",
    "reference.file <- \"/fdb/igenomes/Homo_sapiens/UCSC/hg19/Sequence/BWAIndex/genome.fa\"\n",
    "target.df <- read.delim(target.file, header = FALSE)\n",
    "target <- GRanges(seqname = target.df[, 1], IRanges(start = target.df[, 2] + 1, end = target.df[, 3]))\n",
    "counts <- target\n",
    "for (i in 1:length(bam.files)) {\n",
    "    print(i)\n",
    "    mcols(counts)[[sample.names[i]]] <- countBamInGRanges(bam.files[i], target)\n",
    "}\n",
    "counts$GC <- getGCcontent(target, reference.file)\n",
    "counts$GC.sq <- counts$GC^2\n",
    "counts$bg <- generateBackground(sample.names, counts, median)\n",
    "counts$log.bg <- log(counts$bg + 0.1)\n",
    "counts$width <- width(counts)\n",
    "seqnames = sapply(1:22, function(d) sprintf('chr%d', d))\n",
    "\n",
    "for (seqname in seqnames) {\n",
    "    df = as.data.frame(counts[seqnames(counts) == seqname])\n",
    "    for (sample in sample.names) {\n",
    "        nzeros = sum(df[sample] == 0)\n",
    "        pct0 = nzeros/nrow(df)\n",
    "        if (pct0 > .9) {\n",
    "            print(sprintf('%s in %s looks bad', sample, seqname))\n",
    "        }\n",
    "    }\n",
    "}\n",
    "    \n",
    "runExomeCopy <- function(sample.name, seqs, counts) {\n",
    "    library(exomeCopy) # each cpu needs to load ExomeCopy and have a copy of counts\n",
    "    lapply(seqs, function(seq.name) exomeCopy(counts[seqnames(counts) == seq.name], sample.name,\n",
    "                                              X.names = c(\"log.bg\",\"GC\", \"GC.sq\", \"width\"),\n",
    "                                              S = 0:4, d = 2))\n",
    "}\n",
    "           \n",
    "ncpus=10\n",
    "library(parallel)\n",
    "cl <- makeCluster(ncpus)\n",
    "fit.list = parLapply(cl, sample.names, runExomeCopy, seqnames, counts)\n",
    "stopCluster(cl)\n",
    "res = compileCopyCountSegments(fit.list)\n",
    "a = as.data.frame(res)\n",
    "a = a[a$copy.count!=2,]\n",
    "write.csv(a, file='~/data/cnv/exomeCopy_multikids/calls.txt', row.names=F)\n"
   ]
  },
  {
   "cell_type": "code",
   "execution_count": 17,
   "metadata": {},
   "outputs": [],
   "source": [
    "tool = 'exomeCopy'\n",
    "\n",
    "fid = open('/data/sudregp/cnv/%s_multikids/calls.txt' % tool, 'r')\n",
    "cnvs = {}\n",
    "for sample in samples:\n",
    "    cnvs[sample] = []\n",
    "for line in fid:\n",
    "    if line.find('seqnames') < 0:\n",
    "        clean_line = line.replace('\"', '').rstrip()\n",
    "        chr, start, end, site, t1, cnvtype, score, t2, t3, sample = clean_line.split(',')\n",
    "        if int(cnvtype) > 2:\n",
    "            cnvtype = 'dup'\n",
    "        else:\n",
    "            cnvtype = 'del'\n",
    "        cnvs[sample.replace('.bam', '')].append([chr, start, end, cnvtype, score, site])\n",
    "fid.close()\n",
    "\n",
    "dn, inh = classify_cnvs(cnvs, trios)\n",
    "# exomeCopy generated too many inherited CNVs. Let's play only with denovos for now.\n",
    "write2plink(dn, '/data/sudregp/cnv/%s_multikids/denovo.cnv' % tool, trios)\n",
    "write2plink(inh, '/data/sudregp/cnv/%s_multikids/inherited.cnv' % tool, trios)\n",
    "tmp_cnv = {}\n",
    "for sample in cnvs.iterkeys():\n",
    "    if sample in affected + controls:\n",
    "        tmp_cnv[sample] = cnvs[sample]\n",
    "write2plink(tmp_cnv, '/data/sudregp/cnv/%s_multikids/all.cnv' % tool, trios)"
   ]
  },
  {
   "cell_type": "markdown",
   "metadata": {},
   "source": [
    "# cn.mops"
   ]
  },
  {
   "cell_type": "code",
   "execution_count": null,
   "metadata": {
    "collapsed": true
   },
   "outputs": [],
   "source": [
    "%%R\n",
    "\n",
    "library(cn.mops)\n",
    "setwd('~/data/cnv/BAM')\n",
    "bam.files <- list.files(pattern=\".bam$\")\n",
    "keep_me = (bam.files != 'CLIA_400165.bam' & bam.files != 'CLIA_400164.bam' & \n",
    "           bam.files != 'CLIA_400155.bam' & bam.files != 'CLIA_400146.bam' &\n",
    "           bam.files != 'CLIA_400145.bam' & bam.files != 'CLIA_400126.bam' &\n",
    "           bam.files != 'CLIA_400207.bam' & bam.files != 'CLIA_400208.bam' &\n",
    "           bam.files != 'CLIA_400168.bam' & bam.files != 'CLIA_400169.bam' &\n",
    "           bam.files != 'CLIA_400209.bam')\n",
    "bam.files = bam.files[keep_me]\n",
    "print(sprintf('Processing %d samples.', length(bam.files)))\n",
    "BAMFiles = bam.files\n",
    "segments <- read.table(\"/data/NCR_SBRB/simplex/SeqCapEZ_Exome_v3.0_Design_Annotation_files/SeqCap_EZ_Exome_v3_hg19_capture_targets.bed\",sep=\"\\t\",as.is=TRUE)\n",
    "gr <- GRanges(segments[,1],IRanges(segments[,2],segments[,3]))\n",
    "X <- getSegmentReadCountsFromBAM(BAMFiles,GR=gr)\n",
    "resCNMOPS <- exomecn.mops(X)\n",
    "resCNMOPS <- calcIntegerCopyNumbers(resCNMOPS)\n",
    "segm <- as.data.frame(segmentation(resCNMOPS))\n",
    "CNVs <- as.data.frame(cnvs(resCNMOPS))\n",
    "CNVRegions <- as.data.frame(cnvr(resCNMOPS))\n",
    "write.csv(segm,file=\"/home/sudregp/data/cnv/cn.mops_multikids/segmentation.csv\", row.names=F)\n",
    "write.csv(CNVs,file=\"/home/sudregp/data/cnv/cn.mops_multikids/cnvs.csv\", row.names=F)\n",
    "write.csv(CNVRegions,file=\"/home/sudregp/data/cnv/cn.mops_multikids/cnvr.csv\", row.names=F)\n"
   ]
  },
  {
   "cell_type": "code",
   "execution_count": 6,
   "metadata": {},
   "outputs": [],
   "source": [
    "tool = 'cn.mops'\n",
    "\n",
    "fid = open('/data/sudregp/cnv/%s_multikids/cnvs.csv' % tool, 'r')\n",
    "cnvs = {}\n",
    "for sample in samples:\n",
    "    cnvs[sample] = []\n",
    "for line in fid:\n",
    "    if line.find('seqnames') < 0:\n",
    "        clean_line = line.replace('\"', '').rstrip()\n",
    "        chr, start, end, site, t1, sample, t2, t3, cnvtype = clean_line.split(',')\n",
    "        if cnvtype.find('0') or cnvtype.find('1'):\n",
    "            cnvtype = 'dup'\n",
    "        else:\n",
    "            cnvtype = 'del'\n",
    "        cnvs[sample.split('.')[0]].append([chr, start, end, cnvtype, '0', site])\n",
    "fid.close()\n",
    "\n",
    "dn, inh = classify_cnvs(cnvs, trios)\n",
    "write2plink(dn, '/data/sudregp/cnv/%s_multikids/denovo.cnv' % tool, trios)\n",
    "write2plink(inh, '/data/sudregp/cnv/%s_multikids/inherited.cnv' % tool, trios)\n",
    "tmp_cnv = {}\n",
    "for sample in cnvs.iterkeys():\n",
    "    if sample in affected + controls:\n",
    "        tmp_cnv[sample] = cnvs[sample]\n",
    "write2plink(tmp_cnv, '/data/sudregp/cnv/%s_multikids/all.cnv' % tool, trios)"
   ]
  },
  {
   "cell_type": "markdown",
   "metadata": {},
   "source": [
    "# Conifer"
   ]
  },
  {
   "cell_type": "code",
   "execution_count": null,
   "metadata": {
    "collapsed": true
   },
   "outputs": [],
   "source": [
    "%%bash\n",
    "\n",
    "cd ~/data/cnv/conifer_multikids\n",
    "cp -r ../conifer/RPKM .\n",
    "\n",
    "module load python\n",
    "source activate my_py2.7\n",
    "while read s; do\n",
    "    rm RPKM/${s}.bam*;\n",
    "done < ../exclude_multikids.txt  # already removed the other 2 samples\n",
    "ls -1 RPKM | wc -l\n",
    "\n",
    "python /data/NCR_SBRB/software/conifer_v0.2.2/conifer.py analyze \\\n",
    "    --probes /data/NCR_SBRB/simplex/SeqCapEZ_Exome_v3.0_Design_Annotation_files/SeqCap_EZ_Exome_v3_hg19_capture_targets.bed \\\n",
    "    --rpkm_dir ./RPKM/ --output analysis.hdf5 --svd 6 \\\n",
    "    --write_svals singular_values.txt --plot_scree screeplot.png \\\n",
    "    --write_sd sd_values.txt\n",
    "python /data/NCR_SBRB/software/conifer_v0.2.2/conifer.py call \\\n",
    "    --input analysis.hdf5 --output calls.txt\n"
   ]
  },
  {
   "cell_type": "code",
   "execution_count": 6,
   "metadata": {
    "collapsed": true
   },
   "outputs": [],
   "source": [
    "data_dir = '/data/sudregp/cnv/'\n",
    "fid = open(data_dir + '/conifer_multikids/calls.txt', 'r')\n",
    "cnvs = {}\n",
    "for sample in samples:\n",
    "    cnvs[sample] = []\n",
    "for line in fid:\n",
    "    if line.find('sampleID') < 0:\n",
    "        sample, chr, start, end, cnvtype = line.rstrip().split('\\t')\n",
    "        cnvs[sample.split('.')[0]].append([chr, start, end, cnvtype])\n",
    "fid.close()\n",
    "\n",
    "dn, inh = classify_cnvs(cnvs, trios)\n",
    "write2plink(dn, data_dir + '/conifer_multikids/denovo.cnv', trios)\n",
    "write2plink(inh, data_dir + '/conifer_multikids/inherited.cnv', trios)\n",
    "tmp_cnv = {}\n",
    "for sample in cnvs.iterkeys():\n",
    "    if sample in affected + controls:\n",
    "        tmp_cnv[sample] = cnvs[sample]\n",
    "write2plink(tmp_cnv, data_dir + '/conifer_multikids/all.cnv', trios)"
   ]
  },
  {
   "cell_type": "markdown",
   "metadata": {},
   "source": [
    "# PLINK\n",
    "\n",
    "Now it's just a matter of running PLINK on all files. Just cange the variable below and not worry about the output of the cell."
   ]
  },
  {
   "cell_type": "code",
   "execution_count": 18,
   "metadata": {},
   "outputs": [
    {
     "name": "stdout",
     "output_type": "stream",
     "text": [
      "Process is interrupted.\n"
     ]
    }
   ],
   "source": [
    "%%bash\n",
    "\n",
    "module load plink/1.07\n",
    "tool=exomeCopy\n",
    "cd /data/sudregp/cnv/${tool}_multikids/\n",
    "cat ../penncnv/wellknown_region_hg19 > bad_regions.list\n",
    "cp ../penncnv/genes.txt ../penncnv/hg19_allenBrainGene_trimmed.txt ../penncnv/glist-hg19 .\n",
    "\n",
    "# exomeCopy generated too many inherited CNVs. Let's play only with denovos for now.\n",
    "for cnvtype in denovo inherited all; do\n",
    "    cnvname=${cnvtype}.cnv\n",
    "    plink --cnv-list $cnvname --cnv-make-map --noweb --out ${cnvtype};\n",
    "    \n",
    "    # remove bad regions\n",
    "    plink --map ${cnvname}.map --fam ../simplex.ped --cnv-list $cnvname \\\n",
    "        --noweb --1 --cnv-exclude bad_regions.list --cnv-overlap .5 \\\n",
    "        --cnv-write --out ${cnvtype}_clean\n",
    "    plink --cnv-list ${cnvtype}_clean.cnv --cnv-make-map --noweb --1 \\\n",
    "        --out ${cnvtype}_clean\n",
    "    \n",
    "    for qc in '' '_clean'; do\n",
    "        cnvname=${cnvtype}${qc}.cnv\n",
    "        # whole burden\n",
    "        plink --map ${cnvname}.map --fam ../simplex.ped --cnv-list $cnvname \\\n",
    "            --noweb --1 --cnv-check-no-overlap --out ${cnvtype}${qc}_burden;\n",
    "        # gene sets\n",
    "        plink --map ${cnvname}.map --fam ../simplex.ped --cnv-list $cnvname \\\n",
    "            --noweb --1 --cnv-intersect glist-hg19 --cnv-verbose-report-regions \\\n",
    "            --cnv-subset genes.txt --out ${cnvtype}${qc}_genes;\n",
    "        plink --map ${cnvname}.map --fam ../simplex.ped --cnv-list $cnvname \\\n",
    "            --noweb --1 --cnv-intersect glist-hg19 --cnv-verbose-report-regions \\\n",
    "            --cnv-subset hg19_allenBrainGene_trimmed.txt \\\n",
    "            --out ${cnvtype}${qc}_brainGenes;\n",
    "        # subtypes only\n",
    "        for sub in del dup; do\n",
    "            plink --map ${cnvname}.map --fam ../simplex.ped --cnv-list $cnvname \\\n",
    "            --noweb --1 --cnv-${sub} --out ${cnvtype}${qc}_${sub}Burden;\n",
    "            # gene sets\n",
    "            plink --map ${cnvname}.map --fam ../simplex.ped --cnv-list $cnvname \\\n",
    "                --noweb --1 --cnv-intersect glist-hg19 --cnv-verbose-report-regions \\\n",
    "                --cnv-subset genes.txt --cnv-${sub} \\\n",
    "                --out ${cnvtype}${qc}_${sub}Genes;\n",
    "            plink --map ${cnvname}.map --fam ../simplex.ped --cnv-list $cnvname \\\n",
    "                --noweb --1 --cnv-intersect glist-hg19 --cnv-verbose-report-regions \\\n",
    "                --cnv-subset hg19_allenBrainGene_trimmed.txt --cnv-${sub} \\\n",
    "                --out ${cnvtype}${qc}_${sub}BrainGenes;\n",
    "        done;\n",
    "    done;\n",
    "done"
   ]
  }
 ],
 "metadata": {
  "kernelspec": {
   "display_name": "Python [default]",
   "language": "python",
   "name": "python2"
  },
  "language_info": {
   "codemirror_mode": {
    "name": "ipython",
    "version": 2
   },
   "file_extension": ".py",
   "mimetype": "text/x-python",
   "name": "python",
   "nbconvert_exporter": "python",
   "pygments_lexer": "ipython2",
   "version": "2.7.14"
  },
  "nav_menu": {},
  "toc": {
   "navigate_menu": true,
   "number_sections": true,
   "sideBar": true,
   "threshold": 6,
   "toc_cell": false,
   "toc_section_display": "block",
   "toc_window_display": false
  }
 },
 "nbformat": 4,
 "nbformat_minor": 2
}
