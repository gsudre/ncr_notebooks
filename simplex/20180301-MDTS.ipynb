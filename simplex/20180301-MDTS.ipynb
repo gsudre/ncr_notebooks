{
 "cells": [
  {
   "cell_type": "markdown",
   "metadata": {},
   "source": [
    "MDTS is not installing properly, but we can still just download the script and run them as is. First, let's get our files ready:"
   ]
  },
  {
   "cell_type": "code",
   "execution_count": 3,
   "metadata": {
    "collapsed": true
   },
   "outputs": [],
   "source": [
    "%%bash\n",
    "\n",
    "cd ~/data/cnv/mdts\n",
    "\n",
    "mkdir BAM\n",
    "while read s; do\n",
    "    ln -s /data/NCR_SBRB/simplex/BAM/${s}/${s}_sorted_RG_markduplicate_recalibrated.bam BAM/${s}.bam;\n",
    "    ln -s /data/NCR_SBRB/simplex/BAM/${s}/${s}_sorted_RG_markduplicate_recalibrated.bai BAM/${s}.bai;\n",
    "done < ../conifer84/samples.txt"
   ]
  },
  {
   "cell_type": "code",
   "execution_count": 1,
   "metadata": {},
   "outputs": [
    {
     "data": {
      "text/html": [
       "<script>requirejs.config({paths: { 'plotly': ['https://cdn.plot.ly/plotly-latest.min']},});if(!window.Plotly) {{require(['plotly'],function(plotly) {window.Plotly=plotly;});}}</script>"
      ],
      "text/vnd.plotly.v1+html": [
       "<script>requirejs.config({paths: { 'plotly': ['https://cdn.plot.ly/plotly-latest.min']},});if(!window.Plotly) {{require(['plotly'],function(plotly) {window.Plotly=plotly;});}}</script>"
      ]
     },
     "metadata": {},
     "output_type": "display_data"
    }
   ],
   "source": [
    "import numpy as np\n",
    "import matplotlib.pyplot as plt\n",
    "import seaborn as sns\n",
    "import pandas as pd\n",
    "from plotly.offline import download_plotlyjs, init_notebook_mode, plot, iplot\n",
    "\n",
    "init_notebook_mode(connected=True)\n",
    "%matplotlib inline"
   ]
  },
  {
   "cell_type": "code",
   "execution_count": 4,
   "metadata": {},
   "outputs": [
    {
     "name": "stdout",
     "output_type": "stream",
     "text": [
      "Unique samples: 84\n",
      "Unique families: 19\n",
      "Unique children: 46\n"
     ]
    }
   ],
   "source": [
    "import glob\n",
    "ped_files = ['/data/sudregp/multiplex_simplex/simplex.ped']\n",
    "wes_prefix = ['CLIA', 'CCGO', 'WPS']\n",
    "# fid = open('/home/sudregp/data/multiplex_simplex/samples_simplex_all.txt', 'r')\n",
    "# exclude_list = [line.rstrip() for line in fid]\n",
    "# fid.close()\n",
    "\n",
    "# no controls/affected pair for comparison\n",
    "exclude_list = ['CLIA_400165', 'CLIA_400164', 'CLIA_400155', 'CLIA_400146',\n",
    "                'CLIA_400145', 'CLIA_400126', 'CLIA_400207', 'CLIA_400208',\n",
    "                'CLIA_400209']\n",
    "# missing one parent\n",
    "exclude_list += ['CLIA_400169', 'CLIA_400168']\n",
    "# family 9030\n",
    "exclude_list += ['CCGO_800978', 'CCGO_800977', 'CCGO_800976', 'CCGO_800979',\n",
    "                 'CCGO_800980', 'CLIA_400067']\n",
    "\n",
    "trios = []\n",
    "affected = []\n",
    "controls = []\n",
    "samples = []\n",
    "famids = []\n",
    "sexes = {}\n",
    "for ped_file in ped_files:\n",
    "    fid = open(ped_file, 'r')\n",
    "    for line in fid:\n",
    "        famid, sid, fa, mo, sex, aff = line.rstrip().split('\\t')\n",
    "        # if the current ID and its parents have WES data, and the sample is \n",
    "        # not in yet\n",
    "        if (fa.split('_')[0] in wes_prefix and\n",
    "            mo.split('_')[0] in wes_prefix and\n",
    "            sid.split('_')[0] in wes_prefix and\n",
    "            sid not in samples and\n",
    "            (sid not in exclude_list or fa not in exclude_list or mo not in exclude_list)):\n",
    "            fam = {}\n",
    "            fam['child'] = sid\n",
    "            if aff == '1':\n",
    "                affected.append(sid)\n",
    "            else:\n",
    "                controls.append(sid)\n",
    "            fam['father'] = fa\n",
    "            fam['mother'] = mo\n",
    "            fam['famid'] = famid\n",
    "            sexes[sid] = sex\n",
    "            trios.append(fam)\n",
    "            samples += [sid, fa, mo]\n",
    "            famids.append(famid)\n",
    "    fid.close()\n",
    "samples = set(samples)\n",
    "famids = set(famids)\n",
    "kids = set(affected + controls)\n",
    "good_kids = kids\n",
    "\n",
    "print 'Unique samples:', len(samples)\n",
    "print 'Unique families:', len(famids)\n",
    "print 'Unique children:', len(kids)"
   ]
  },
  {
   "cell_type": "code",
   "execution_count": 6,
   "metadata": {
    "collapsed": true
   },
   "outputs": [],
   "source": [
    "fid = open('/data/sudregp/cnv/mdts/simplex84.ped', 'w')\n",
    "fid.write('subj_id\\tfamily_id\\tfather_id\\tmother_id\\tgender\\tbam_path\\n')\n",
    "for trio in trios:\n",
    "    fid.write('\\t'.join([trio['child'], trio['famid'], trio['father'],\n",
    "                         trio['mother'], sexes[trio['child']],\n",
    "                         'BAM/%s.bam' % trio['child']]) + '\\n')\n",
    "    fid.write('\\t'.join([trio['father'], trio['famid'], '0', '0', '1',\n",
    "                         'BAM/%s.bam' % trio['father']]) + '\\n')\n",
    "    fid.write('\\t'.join([trio['mother'], trio['famid'], '0', '0', '2',\n",
    "                         'BAM/%s.bam' % trio['mother']]) + '\\n')\n",
    "fid.close()"
   ]
  },
  {
   "cell_type": "markdown",
   "metadata": {},
   "source": [
    "I'm running it in a R terminal to have a better look at the output, but here's a history of the commands (following from https://github.com/JMF47/MDTS/blob/master/vignettes/mdts.Rmd):"
   ]
  },
  {
   "cell_type": "raw",
   "metadata": {},
   "source": [
    "source('getMetaData.R')\n",
    "pD = getMetaData(\"../simplex84.ped\")\n",
    "\n",
    "library(BSgenome.Hsapiens.UCSC.hg19)\n",
    "genome = BSgenome.Hsapiens.UCSC.hg19; map_file = \"chr1.map.bw\"\n",
    "source('calcBins.R')\n",
    "setwd('../')\n",
    "bins = calcBins(pD, n=5, med=150, min=5, genome, map_file)"
   ]
  },
  {
   "cell_type": "markdown",
   "metadata": {},
   "source": [
    "Can't tell yet if the chr1 file is enough, or if they need one per each chromosome. Also, need to check if this is the best reference file for us, and check if the other parameters are also appropriate.\n",
    "\n",
    "Based on the output I'm seeing so far, I'd need one map_file for each chromossome. For example, the output of calcBins looks like this so far:"
   ]
  },
  {
   "cell_type": "raw",
   "metadata": {},
   "source": [
    "> bins = calcBins(pD, n=5, med=150, min=5, genome, map_file)\n",
    "Reading coverage information of subsamples\n",
    "BAM/CLIA_400188.bam\n",
    "BAM/CLIA_400137.bam\n",
    "BAM/CLIA_400121.bam\n",
    "BAM/CLIA_400122.bam\n",
    "BAM/CLIA_400171.bam\n",
    "Calculating Proto-regions\n",
    "Selecting Proto-regions in Chr 1"
   ]
  },
  {
   "cell_type": "code",
   "execution_count": null,
   "metadata": {
    "collapsed": true
   },
   "outputs": [],
   "source": []
  },
  {
   "cell_type": "markdown",
   "metadata": {},
   "source": [
    "# TODO\n",
    "\n",
    "*"
   ]
  }
 ],
 "metadata": {
  "kernelspec": {
   "display_name": "Python [default]",
   "language": "python",
   "name": "python2"
  },
  "language_info": {
   "codemirror_mode": {
    "name": "ipython",
    "version": 2
   },
   "file_extension": ".py",
   "mimetype": "text/x-python",
   "name": "python",
   "nbconvert_exporter": "python",
   "pygments_lexer": "ipython2",
   "version": "2.7.14"
  },
  "nav_menu": {},
  "toc": {
   "navigate_menu": true,
   "number_sections": true,
   "sideBar": true,
   "threshold": 6,
   "toc_cell": false,
   "toc_section_display": "block",
   "toc_window_display": false
  }
 },
 "nbformat": 4,
 "nbformat_minor": 2
}
