{
 "cells": [
  {
   "cell_type": "markdown",
   "metadata": {},
   "source": [
    "Philip asked me to confirm some of the simplex results. I do need to come up with some stats for the combinations of gene-based results. But, the most exciting results were the ones about CNV length. So, let's see if those CNVs are confirmed in the PennCNV data. Also, we need to check what to do with the fact that 400178 is Hispanic. Do we find databases with well-known CNVs in that population, or re-run the analysis without it?"
   ]
  },
  {
   "cell_type": "markdown",
   "metadata": {},
   "source": [
    "For now, let's try to confirm the findings with PennCNV. For that, I can look at the same data to see if the CNVs are there, and/or look at a different sample for the same kid, and see if the CNVs are still there. Here's the result:"
   ]
  },
  {
   "cell_type": "code",
   "execution_count": 1,
   "metadata": {},
   "outputs": [
    {
     "name": "stdout",
     "output_type": "stream",
     "text": [
      "=== ALL > 225Kb ===\n",
      "1\tCLIA_400216\t16\t33326701\t33630152\t3\t93\t17 303.451\n",
      "1\tCLIA_400216\t17\t44379939\t44627953\t3\t95\t33 248.014\n",
      "1\tCLIA_400134\t16\t33326701\t33630152\t3\t93\t17 303.451\n",
      "1\tCLIA_400178\t1\t71529027\t71871700\t1\t98\t29 342.673\n",
      "1\tCLIA_400178\t5\t86690076\t87492322\t1\t72\t19 802.246\n",
      "=== CLEAN > 5Kb ===\n",
      "   1   CLIA_400123    4     17845860     17879030      3           83       31  33.17\n",
      "   1   CLIA_400123   12     22837754     22843415      3           85       13  5.661\n",
      "   1   CLIA_400178    1     62910396     62921225      1           98       18  10.829\n",
      "   1   CLIA_400178    1     71529027     71871700      1           98       29  342.673\n",
      "   1   CLIA_400178    3    180321797    180334721      1           93       24  12.924\n",
      "   1   CLIA_400178    4     17845860     17879761      1           92       34  33.901\n",
      "   1   CLIA_400178    4     68471897     68507036      1           62       22  35.139\n",
      "   1   CLIA_400178    4    100820580    100830058      1           70       12  9.478\n",
      "   1   CLIA_400178    4    113186077    113191253      1           92       10  5.176\n",
      "   1   CLIA_400178    5     65317020     65349964      1           88       24  32.944\n",
      "   1   CLIA_400178    5     86690076     87492322      1           72       19  802.246\n",
      "   1   CLIA_400178    5     89689567     89756134      1           91       13  66.567\n",
      "   1   CLIA_400178    5     89808056     89813870      1           91        9  5.814\n",
      "   1   CLIA_400178    6    136565848    136588372      1           92        9  22.524\n",
      "   1   CLIA_400178   11     32622146     32636497      1           91       16  14.351\n",
      "   1   CLIA_400178   12     22837754     22843608      1           91       14  5.854\n",
      "   1   CLIA_400178   12     75892385     75900743      1           91       12  8.358\n"
     ]
    }
   ],
   "source": [
    "%%bash\n",
    "cd ~/data/cnv/xhmm_clean\n",
    "echo \"=== ALL > 225Kb ===\"\n",
    "cat denovo_q60.cnv | awk '{ if (($5-$4)/1000 > 225) { print $_, ($5-$4)/1000 } }'\n",
    "echo \"=== CLEAN > 5Kb ===\"\n",
    "cat denovo_q60_clean.cnv | awk '{ if (($5-$4)/1000 > 5) { print $_, ($5-$4)/1000 } }'"
   ]
  },
  {
   "cell_type": "markdown",
   "metadata": {},
   "source": [
    "In particular, the two findings that appear in both samples are quite interesting. I did all the joint/denovo analysis in PennCNV already, but there I used the exact same sample, and it inquires the parental samples as well. If I use the separate sample, I won't have the parents' samples (most likely). So, let's try to do an individual analysis of those two samples: 400178 is 12608 (from Shaw04 box) and 400123 is 5066 (from Shaw01_2017 box). For completeness, 400216 is WG1023565-DNAF09-1412@0175548932 from CIDR, and 400134 is WG1023564-DNAH10-10018@0175461069 from CIDR."
   ]
  },
  {
   "cell_type": "markdown",
   "metadata": {},
   "source": [
    "But it's taking forever to generate the exported reports for those arrays, so I'm going to test the code with the NISC genotyping first..."
   ]
  },
  {
   "cell_type": "code",
   "execution_count": null,
   "metadata": {
    "collapsed": true
   },
   "outputs": [],
   "source": [
    "# in the terminal\n",
    "cd ~/data/cnv/confirm_penncnv/\n",
    "module load penncnv\n",
    "detect_cnv.pl -test -hmm ../penncnv/penncnv_example.hmm -pfb ../penncnv/InfiniumExome.pfb ../penncnv/InfiniumExome/CLI\n",
    "A_400178 ../penncnv/InfiniumExome/CLIA_400123 -log clean_results.log -out clean_results.rawcnv\n",
    "detect_cnv.pl -test -hmm ../penncnv/penncnv_example.hmm -pfb ../penncnv/InfiniumExome.pfb ../penncnv/InfiniumExome/CLI\n",
    "A_400178 ../penncnv/InfiniumExome/CLIA_400123 -log clean_results_gc.log -out clean_results_gc.rawcnv -gcmodel ../penncnv/InfiniumExo\n",
    "me.hg19.gcmodel"
   ]
  },
  {
   "cell_type": "code",
   "execution_count": 2,
   "metadata": {},
   "outputs": [
    {
     "name": "stdout",
     "output_type": "stream",
     "text": [
      "chr3:8809033-8809741          numsnp=8      length=709         state2,cn=1 ../penncnv/InfiniumExome/CLIA_400178 startsnp=exm287414 endsnp=exm287450\n",
      "chr6:85473722-85473772        numsnp=3      length=51          state2,cn=1 ../penncnv/InfiniumExome/CLIA_400178 startsnp=exm564056 endsnp=exm564058\n",
      "chr6:152129399-152129456      numsnp=3      length=58          state2,cn=1 ../penncnv/InfiniumExome/CLIA_400178 startsnp=exm587263 endsnp=exm2275918\n",
      "chr8:144992269-144992552      numsnp=7      length=284         state2,cn=1 ../penncnv/InfiniumExome/CLIA_400178 startsnp=exm729132 endsnp=exm729157\n",
      "chr8:146033273-146033748      numsnp=6      length=476         state2,cn=1 ../penncnv/InfiniumExome/CLIA_400178 startsnp=exm733960 endsnp=exm733989\n",
      "chr9:214517-215057            numsnp=8      length=541         state2,cn=1 ../penncnv/InfiniumExome/CLIA_400178 startsnp=exm734565 endsnp=exm734603\n",
      "chr11:47611672-47611940       numsnp=4      length=269         state2,cn=1 ../penncnv/InfiniumExome/CLIA_400178 startsnp=exm905611 endsnp=exm905620\n",
      "chr13:53420234-53421215       numsnp=6      length=982         state2,cn=1 ../penncnv/InfiniumExome/CLIA_400178 startsnp=exm1070833 endsnp=exm1070873\n",
      "chr14:77786793-77787706       numsnp=6      length=914         state2,cn=1 ../penncnv/InfiniumExome/CLIA_400178 startsnp=exm1117522 endsnp=exm1117541\n",
      "chr3:8809033-8809741          numsnp=8      length=709         state2,cn=1 ../penncnv/InfiniumExome/CLIA_400178 startsnp=exm287414 endsnp=exm287450\n",
      "chr6:85473722-85473772        numsnp=3      length=51          state2,cn=1 ../penncnv/InfiniumExome/CLIA_400178 startsnp=exm564056 endsnp=exm564058\n",
      "chr6:152129399-152129456      numsnp=3      length=58          state2,cn=1 ../penncnv/InfiniumExome/CLIA_400178 startsnp=exm587263 endsnp=exm2275918\n",
      "chr8:144992269-144992552      numsnp=7      length=284         state2,cn=1 ../penncnv/InfiniumExome/CLIA_400178 startsnp=exm729132 endsnp=exm729157\n",
      "chr8:146033273-146033748      numsnp=6      length=476         state2,cn=1 ../penncnv/InfiniumExome/CLIA_400178 startsnp=exm733960 endsnp=exm733989\n",
      "chr9:214517-215329            numsnp=11     length=813         state2,cn=1 ../penncnv/InfiniumExome/CLIA_400178 startsnp=exm734565 endsnp=exm734625\n",
      "chr9:841866-842146            numsnp=3      length=281         state2,cn=1 ../penncnv/InfiniumExome/CLIA_400178 startsnp=exm735369 endsnp=exm735384\n",
      "chr11:47611672-47611940       numsnp=4      length=269         state2,cn=1 ../penncnv/InfiniumExome/CLIA_400178 startsnp=exm905611 endsnp=exm905620\n",
      "chr13:53420234-53421215       numsnp=6      length=982         state2,cn=1 ../penncnv/InfiniumExome/CLIA_400178 startsnp=exm1070833 endsnp=exm1070873\n",
      "chr14:59931005-59931373       numsnp=4      length=369         state2,cn=1 ../penncnv/InfiniumExome/CLIA_400178 startsnp=exm1104988 endsnp=exm1104999\n",
      "chr14:77786793-77787706       numsnp=6      length=914         state2,cn=1 ../penncnv/InfiniumExome/CLIA_400178 startsnp=exm1117522 endsnp=exm1117541\n"
     ]
    }
   ],
   "source": [
    "%%bash\n",
    "cd ~/data/cnv/confirm_penncnv/\n",
    "cat clean_results.rawcnv\n",
    "cat clean_results_gc.rawcnv"
   ]
  },
  {
   "cell_type": "markdown",
   "metadata": {},
   "source": [
    "Well, neither one popped up. Maybe there's a lack of markers in the region... let's see with the more dense array. "
   ]
  },
  {
   "cell_type": "code",
   "execution_count": null,
   "metadata": {
    "collapsed": true
   },
   "outputs": [],
   "source": []
  }
 ],
 "metadata": {
  "kernelspec": {
   "display_name": "Python [default]",
   "language": "python",
   "name": "python2"
  },
  "language_info": {
   "codemirror_mode": {
    "name": "ipython",
    "version": 2
   },
   "file_extension": ".py",
   "mimetype": "text/x-python",
   "name": "python",
   "nbconvert_exporter": "python",
   "pygments_lexer": "ipython2",
   "version": "2.7.14"
  },
  "nav_menu": {},
  "toc": {
   "navigate_menu": true,
   "number_sections": true,
   "sideBar": true,
   "threshold": 6,
   "toc_cell": false,
   "toc_section_display": "block",
   "toc_window_display": false
  }
 },
 "nbformat": 4,
 "nbformat_minor": 2
}
