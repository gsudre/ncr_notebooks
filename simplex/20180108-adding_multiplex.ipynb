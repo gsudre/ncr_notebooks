{
 "cells": [
  {
   "cell_type": "markdown",
   "metadata": {},
   "source": [
    "Let's start adding multiplex samples to this analysis. I first chopped the pedigree main file based on the trees from pedigree_trees/exome_dx, just get whatever trios were complete. \n",
    "\n",
    "**Note that according to Wendy there are a couple families that are both in the simplex study and also the multiplex. This is a bit weird to me, especially if we are going to make this comparison here. She said simplex is only within nuclear families. So, I'll have to trim the simplex analysis to remove those families, or at least be careful not to include them in both categories. **\n",
    "\n",
    "But for now let's just make sure I run GATK for everybody we need.\n",
    "\n",
    "Also note that I've been trying to run this for over a week, but I've been waiting on a finalized pipeline from Sijung/Tri. Since they haven't sent one yet, I'll go ahead and run the old pipeline. At least the scripts will be ready, but I'll need to delete all this data, because it's almost 10Tb of data."
   ]
  },
  {
   "cell_type": "code",
   "execution_count": 1,
   "metadata": {},
   "outputs": [
    {
     "name": "stdout",
     "output_type": "stream",
     "text": [
      "85 need_BAM.txt\n"
     ]
    }
   ],
   "source": [
    "cd ~/data/multiplex_simplex\n",
    "rm need_BAM.txt\n",
    "while read s; do \n",
    "    if [ ! -e BAM/${s}.bam ]; then\n",
    "        echo $s >> need_BAM.txt;\n",
    "    fi;\n",
    "done < samples_unique.txt\n",
    "wc -l need_BAM.txt"
   ]
  },
  {
   "cell_type": "code",
   "execution_count": 2,
   "metadata": {
    "collapsed": true
   },
   "outputs": [],
   "source": [
    "cd ~/data/multiplex_simplex\n",
    "rm swarm.gatk\n",
    "while read s; do \n",
    "    if [ ! -e BAM/${s}.bam ]; then\n",
    "        echo \"bash ~/autodenovo/gatk_upToSingleCalls_temps.sh $s\" >> swarm.gatk;\n",
    "    fi;\n",
    "done < need_BAM.txt"
   ]
  },
  {
   "cell_type": "code",
   "execution_count": 3,
   "metadata": {},
   "outputs": [
    {
     "name": "stdout",
     "output_type": "stream",
     "text": [
      "58169040\n"
     ]
    }
   ],
   "source": [
    "swarm -f swarm.gatk -t 16 -g 120 --job-name gatk_single --logdir trash \\\n",
    "    --time=48:00:00 --gres=lscratch:100"
   ]
  },
  {
   "cell_type": "code",
   "execution_count": null,
   "metadata": {
    "collapsed": true
   },
   "outputs": [],
   "source": []
  }
 ],
 "metadata": {
  "kernelspec": {
   "display_name": "Bash",
   "language": "bash",
   "name": "bash"
  },
  "language_info": {
   "codemirror_mode": "shell",
   "file_extension": ".sh",
   "mimetype": "text/x-sh",
   "name": "bash"
  },
  "nav_menu": {},
  "toc": {
   "navigate_menu": true,
   "number_sections": true,
   "sideBar": true,
   "threshold": 6,
   "toc_cell": false,
   "toc_section_display": "block",
   "toc_window_display": false
  }
 },
 "nbformat": 4,
 "nbformat_minor": 2
}
