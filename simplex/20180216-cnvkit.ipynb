{
 "cells": [
  {
   "cell_type": "markdown",
   "metadata": {},
   "source": [
    "As the results with Conifer are not looking very promising, let's give CNVkit another shot."
   ]
  },
  {
   "cell_type": "markdown",
   "metadata": {},
   "source": [
    "The thing about CNVkit, along with many other WES CNV tools, is that it depends on a reference. It does however have an option of constructing the reference with zero samples. So, here are a few options we can test:\n",
    " * no reference\n",
    " * siblings are reference\n",
    " * all other family members are reference\n",
    " * all controls in study are reference"
   ]
  },
  {
   "cell_type": "markdown",
   "metadata": {},
   "source": [
    "Let's then start with that first option, which is equivalent to the \"power user\" option in their manual:"
   ]
  },
  {
   "cell_type": "code",
   "execution_count": null,
   "metadata": {},
   "outputs": [],
   "source": [
    "cd ~/data/cnv/cnvkit\n",
    "module load cnvkit\n",
    "\n",
    "mkdir BAM\n",
    "while read s; do\n",
    "    ln -s /data/NCR_SBRB/simplex/BAM/${s}/${s}_sorted_RG_markduplicate_recalibrated.bam BAM/${s}.bam;\n",
    "    ln -s /data/NCR_SBRB/simplex/BAM/${s}/${s}_sorted_RG_markduplicate_recalibrated.bai BAM/${s}.bai;\n",
    "done < ../conifer84/samples.txt"
   ]
  },
  {
   "cell_type": "code",
   "execution_count": null,
   "metadata": {},
   "outputs": [],
   "source": [
    "exome_targets='/data/NCR_SBRB/simplex/SeqCapEZ_Exome_v3.0_Design_Annotation_files/SeqCap_EZ_Exome_v3_hg19_capture_targets.bed'\n",
    "ref_fa='/fdb/igenomes/Homo_sapiens/UCSC/hg19/Sequence/WholeGenomeFasta/genome.fa'\n",
    "\n",
    "cnvkit.py batch BAM/*.bam -n \\\n",
    "    -t $exome_targets -f $ref_fa \\\n",
    "    --access /usr/local/apps/cnvkit/0.9.1/data/access-5k-mappable.hg19.bed \\\n",
    "    --output-reference my_flat_reference.cnn -d flat/ -p 30"
   ]
  },
  {
   "cell_type": "markdown",
   "metadata": {},
   "source": [
    "I ended up running it in a terminal because the notebook wasn't showing error messages. Also, I had to install with pip a newer version of pysam (--user), because the version in the module was crashing cnvkit."
   ]
  },
  {
   "cell_type": "markdown",
   "metadata": {},
   "source": [
    "Before we go ahead with the call command, let's calculate some confidence intervals so we can use as filters in the future too:"
   ]
  },
  {
   "cell_type": "code",
   "execution_count": null,
   "metadata": {},
   "outputs": [],
   "source": [
    "cd flat\n",
    "while read s; do\n",
    "    cnvkit.py call ${s}.cns -y -m threshold;\n",
    "    cnvkit.py segmetrics -s ${s}.cn{s,r} --ci;\n",
    "    cnvkit.py call ${s}.segmetrics.cns -y -m threshold --filter ci;\n",
    "done < ../../conifer84/samples.txt"
   ]
  },
  {
   "cell_type": "markdown",
   "metadata": {},
   "source": [
    "# TODO\n",
    "\n",
    "* export VCFs?\n",
    "* write PLINK files\n",
    "* analyze data\n",
    "* try other options for reference (see above)\n",
    "* try with one of the aligners suggested in the CNVkit page"
   ]
  }
 ],
 "metadata": {
  "kernelspec": {
   "display_name": "Bash",
   "language": "bash",
   "name": "bash"
  },
  "language_info": {
   "codemirror_mode": "shell",
   "file_extension": ".sh",
   "mimetype": "text/x-sh",
   "name": "bash"
  },
  "nav_menu": {},
  "toc": {
   "navigate_menu": true,
   "number_sections": true,
   "sideBar": true,
   "threshold": 6,
   "toc_cell": false,
   "toc_section_display": "block",
   "toc_window_display": false
  }
 },
 "nbformat": 4,
 "nbformat_minor": 2
}
