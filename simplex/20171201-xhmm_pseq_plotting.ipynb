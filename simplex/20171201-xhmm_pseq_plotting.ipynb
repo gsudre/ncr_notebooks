{
 "cells": [
  {
   "cell_type": "code",
   "execution_count": 2,
   "metadata": {
    "collapsed": true
   },
   "outputs": [],
   "source": [
    "import numpy as np\n",
    "import matplotlib.pyplot as plt\n",
    "import seaborn as sns\n",
    "import pandas as pd\n",
    "\n",
    "%matplotlib inline"
   ]
  },
  {
   "cell_type": "code",
   "execution_count": 10,
   "metadata": {},
   "outputs": [
    {
     "data": {
      "text/html": [
       "<div>\n",
       "<style>\n",
       "    .dataframe thead tr:only-child th {\n",
       "        text-align: right;\n",
       "    }\n",
       "\n",
       "    .dataframe thead th {\n",
       "        text-align: left;\n",
       "    }\n",
       "\n",
       "    .dataframe tbody tr th {\n",
       "        vertical-align: top;\n",
       "    }\n",
       "</style>\n",
       "<table border=\"1\" class=\"dataframe\">\n",
       "  <thead>\n",
       "    <tr style=\"text-align: right;\">\n",
       "      <th></th>\n",
       "      <th>CLASS</th>\n",
       "      <th>CHILD</th>\n",
       "      <th>LOCUS</th>\n",
       "      <th>CNV</th>\n",
       "      <th>NUM_TARG</th>\n",
       "      <th>PAR_WITH</th>\n",
       "      <th>PAR_WITHOUT</th>\n",
       "      <th>PAR_MISS</th>\n",
       "      <th>CHILD_WITH</th>\n",
       "      <th>CHILD_WITHOUT</th>\n",
       "      <th>CHILD_MISS</th>\n",
       "    </tr>\n",
       "  </thead>\n",
       "  <tbody>\n",
       "    <tr>\n",
       "      <th>0</th>\n",
       "      <td>DENOVO</td>\n",
       "      <td>CLIA_400138</td>\n",
       "      <td>chr1:14510..70018</td>\n",
       "      <td>&lt;DUP&gt;</td>\n",
       "      <td>16</td>\n",
       "      <td>10</td>\n",
       "      <td>27</td>\n",
       "      <td>5</td>\n",
       "      <td>9</td>\n",
       "      <td>39</td>\n",
       "      <td>0</td>\n",
       "    </tr>\n",
       "    <tr>\n",
       "      <th>1</th>\n",
       "      <td>MATERNAL_TRANSMITTED</td>\n",
       "      <td>CLIA_400152</td>\n",
       "      <td>chr1:19051..70018</td>\n",
       "      <td>&lt;DEL&gt;</td>\n",
       "      <td>7</td>\n",
       "      <td>5</td>\n",
       "      <td>33</td>\n",
       "      <td>4</td>\n",
       "      <td>9</td>\n",
       "      <td>38</td>\n",
       "      <td>1</td>\n",
       "    </tr>\n",
       "    <tr>\n",
       "      <th>2</th>\n",
       "      <td>MATERNAL_NON_TRANSMITTED</td>\n",
       "      <td>CLIA_400153</td>\n",
       "      <td>chr1:19051..70018</td>\n",
       "      <td>&lt;DEL&gt;</td>\n",
       "      <td>7</td>\n",
       "      <td>5</td>\n",
       "      <td>33</td>\n",
       "      <td>4</td>\n",
       "      <td>10</td>\n",
       "      <td>37</td>\n",
       "      <td>1</td>\n",
       "    </tr>\n",
       "    <tr>\n",
       "      <th>3</th>\n",
       "      <td>PATERNAL_NON_TRANSMITTED</td>\n",
       "      <td>CLIA_400162</td>\n",
       "      <td>chr1:69036..120881</td>\n",
       "      <td>&lt;DUP&gt;</td>\n",
       "      <td>6</td>\n",
       "      <td>6</td>\n",
       "      <td>34</td>\n",
       "      <td>2</td>\n",
       "      <td>7</td>\n",
       "      <td>41</td>\n",
       "      <td>0</td>\n",
       "    </tr>\n",
       "    <tr>\n",
       "      <th>4</th>\n",
       "      <td>PATERNAL_NON_TRANSMITTED</td>\n",
       "      <td>CLIA_400163</td>\n",
       "      <td>chr1:69036..120881</td>\n",
       "      <td>&lt;DUP&gt;</td>\n",
       "      <td>6</td>\n",
       "      <td>6</td>\n",
       "      <td>34</td>\n",
       "      <td>2</td>\n",
       "      <td>7</td>\n",
       "      <td>41</td>\n",
       "      <td>0</td>\n",
       "    </tr>\n",
       "  </tbody>\n",
       "</table>\n",
       "</div>"
      ],
      "text/plain": [
       "                      CLASS        CHILD               LOCUS    CNV  NUM_TARG  \\\n",
       "0                    DENOVO  CLIA_400138   chr1:14510..70018  <DUP>        16   \n",
       "1      MATERNAL_TRANSMITTED  CLIA_400152   chr1:19051..70018  <DEL>         7   \n",
       "2  MATERNAL_NON_TRANSMITTED  CLIA_400153   chr1:19051..70018  <DEL>         7   \n",
       "3  PATERNAL_NON_TRANSMITTED  CLIA_400162  chr1:69036..120881  <DUP>         6   \n",
       "4  PATERNAL_NON_TRANSMITTED  CLIA_400163  chr1:69036..120881  <DUP>         6   \n",
       "\n",
       "   PAR_WITH  PAR_WITHOUT  PAR_MISS  CHILD_WITH  CHILD_WITHOUT  CHILD_MISS  \n",
       "0        10           27         5           9             39           0  \n",
       "1         5           33         4           9             38           1  \n",
       "2         5           33         4          10             37           1  \n",
       "3         6           34         2           7             41           0  \n",
       "4         6           34         2           7             41           0  "
      ]
     },
     "execution_count": 10,
     "metadata": {},
     "output_type": "execute_result"
    }
   ],
   "source": [
    "df = pd.read_table('/data/NCR_SBRB/simplex/xhmm/DATA_gene_disrupt_q10.denovo.cnv')\n",
    "df.rename(index=str, columns={'#CLASS': 'CLASS'}, inplace=True)\n",
    "df.head()"
   ]
  },
  {
   "cell_type": "markdown",
   "metadata": {},
   "source": [
    "OK, so this is working. Let's then make the matrices we'll need to replicate the plots from before:"
   ]
  },
  {
   "cell_type": "code",
   "execution_count": 14,
   "metadata": {
    "collapsed": true
   },
   "outputs": [],
   "source": [
    "quality = range(10, 100, 10)\n",
    "dfs = []\n",
    "\n",
    "for qual in quality:\n",
    "    df = pd.read_table('/data/NCR_SBRB/simplex/xhmm/DATA_gene_disrupt_q%d.denovo.cnv' % qual)\n",
    "    df.rename(index=str, columns={'#CLASS': 'CLASS'}, inplace=True)\n",
    "    dfs.append(df)"
   ]
  },
  {
   "cell_type": "code",
   "execution_count": 19,
   "metadata": {
    "collapsed": true
   },
   "outputs": [],
   "source": [
    "children = np.unique(df.CHILD)\n",
    "nchildren = len(children)\n",
    "ncnvs = np.zeros([nchildren, len(quality)])\n",
    "ndnms = np.zeros([nchildren, len(quality)])\n",
    "\n",
    "for c, child in enumerate(children):\n",
    "    for q in range(len(quality)):\n",
    "        ncnvs[c, q] = np.sum(dfs[q].CHILD == child)\n",
    "        idx = np.logical_and(dfs[q].CHILD == child, dfs[q].CLASS == 'DENOVO')\n",
    "        ndnms[c, q] = np.sum(idx)"
   ]
  },
  {
   "cell_type": "code",
   "execution_count": 25,
   "metadata": {},
   "outputs": [
    {
     "data": {
      "image/png": "[encoded data removed]",
      "text/plain": [
       "<matplotlib.figure.Figure at 0x2aaaf88e4910>"
      ]
     },
     "metadata": {},
     "output_type": "display_data"
    }
   ],
   "source": [
    "fig = plt.figure(figsize=(15, 5))\n",
    "plt.subplot(1, 2, 1)\n",
    "sns.boxplot(data=[ncnvs[:, q] for q in range(len(quality))], orient='v')\n",
    "plt.xlabel('quality')\n",
    "plt.title('CNV events per child')\n",
    "locs, labels = plt.xticks(range(len(quality)), quality)\n",
    "\n",
    "plt.subplot(1, 2, 2)\n",
    "sns.boxplot(data=[ndnms[:, q] for q in range(len(quality))], orient='v')\n",
    "plt.xlabel('quality')\n",
    "plt.title('De novo events')\n",
    "locs, labels = plt.xticks(range(len(quality)), quality)"
   ]
  },
  {
   "cell_type": "markdown",
   "metadata": {},
   "source": [
    "We already knew we'd have some outliers, based on the overall XHMM plots, but we certainly need to figure out who they are. Also, it's great that our numbers ar elooking more like the XHMM original paper numbers! In fact, they had some outliers as well. If we were to specify some sort of frequency threshold to the CNVs, or even tweak the HMM parameters a bit, we can shift those numbers up and down if needed.\n",
    "\n",
    "Now that we have the total number of CNV events for each child in the trios, let's see if ADHD trios have more disruptive denovo or total CNVs:"
   ]
  },
  {
   "cell_type": "code",
   "execution_count": 26,
   "metadata": {
    "collapsed": true
   },
   "outputs": [],
   "source": [
    "# figure out who is who in each trio\n",
    "\n",
    "import glob\n",
    "data_dir = '/data/NCR_SBRB/simplex/'\n",
    "trios = {}\n",
    "affected = []\n",
    "controls = []\n",
    "peds = glob.glob(data_dir + '*trio*ped')\n",
    "for ped in peds:\n",
    "    trio_name = ped.split('/')[-1].split('.')[0]\n",
    "    fid = open(ped, 'r')\n",
    "    fam = {}\n",
    "    for line in fid:\n",
    "        famid, sid, fa, mo, sex, aff = line.rstrip().split('\\t')\n",
    "        if fa != '0':\n",
    "            fam['child'] = sid\n",
    "            if aff == '1':\n",
    "                affected.append(trio_name)\n",
    "            else:\n",
    "                controls.append(trio_name)\n",
    "        elif sex == '1':\n",
    "            fam['father'] = sid\n",
    "        else:\n",
    "            fam['mother'] = sid\n",
    "    trios[trio_name] = fam\n",
    "    fid.close()\n",
    "    \n",
    "fid = open('/data/NCR_SBRB/simplex/famids.txt', 'r')\n",
    "fams = [t.rstrip() for t in fid]\n",
    "fid.close()\n",
    "\n",
    "# CCGO_800976 was removed during sample filtering step in XHMM, let's remove the family that has that sample, as it's a father\n",
    "del trios['10369_trio1']\n",
    "del trios['10369_trio2']\n",
    "fams.remove('10369')"
   ]
  },
  {
   "cell_type": "code",
   "execution_count": 30,
   "metadata": {},
   "outputs": [
    {
     "name": "stdout",
     "output_type": "stream",
     "text": [
      "Only one pair per family:\n",
      "Nonparametric: [0.53224926354512392, 0.50660682069574703, 0.53212438190009514, 0.72207723178217575, 0.84387756566758187, 0.6555002383818942, 0.64685855760076771, 0.95187117457673287, 0.73888268036352733]\n",
      "T-test: [0.50844100667987191, 0.49238809762741598, 0.47781889909757969, 0.47425800896313297, 0.47401279051244305, 0.40638657967389291, 0.41520495179179595, 0.39046419555125877, 0.74863357085679916]\n",
      "All pairs:\n",
      "Non-parametric: [0.079688540280076825, 0.064411971943592106, 0.09176233433295955, 0.11358578146233372, 0.24714130808926404, 0.16197854205097284, 0.46835405686831316, 0.49067810522014971, 0.48256783506915923]\n",
      "T-test: [0.24661640862815806, 0.23548551490905389, 0.24818983195110902, 0.25121158037408958, 0.27700981392294954, 0.24190346458986461, 0.27340098466721785, 0.26560870008958759, 0.90777580660855106]\n"
     ]
    }
   ],
   "source": [
    "from scipy import stats\n",
    "rel_ps = []\n",
    "wilcoxon_ps = []\n",
    "for q, qual in enumerate(quality):\n",
    "    x, y = [], []\n",
    "    for fam in fams:\n",
    "        # this family only has an affected trio\n",
    "        if fam != '10042':\n",
    "            keys = [k for k in trios.iterkeys() if k.find(fam)==0]\n",
    "            keys.sort()\n",
    "            # now keys has the affected trio first, all others aftewards\n",
    "            k = np.nonzero(children == trios[keys[0]]['child'])[0][0]\n",
    "            x.append(ndnms[k, q])\n",
    "            k = np.nonzero(children == trios[keys[1]]['child'])[0][0]\n",
    "            y.append(ndnms[k, q])\n",
    "    stat, pval = stats.wilcoxon(x, y)\n",
    "    wilcoxon_ps.append(pval)\n",
    "    stat, pval = stats.ttest_rel(x, y)\n",
    "    rel_ps.append(pval)\n",
    "print 'Only one pair per family:'\n",
    "print 'Nonparametric:', wilcoxon_ps\n",
    "print 'T-test:', rel_ps\n",
    "\n",
    "ttest_ps = []\n",
    "mann_ps = []\n",
    "for q, qual in enumerate(quality):\n",
    "    x, y = [], []\n",
    "    for fam in fams:\n",
    "        # this family only has an affected trio\n",
    "        if fam != '10042':\n",
    "            keys = [k for k in trios.iterkeys() if k.find(fam)==0]\n",
    "            keys.sort()\n",
    "            # now keys has the affected trio first, all others aftewards\n",
    "            k = np.nonzero(children == trios[keys[0]]['child'])[0][0]\n",
    "            x.append(ndnms[k, q])\n",
    "            for mykey in keys[1:]:\n",
    "                k = np.nonzero(children == trios[mykey]['child'])[0][0]\n",
    "                y.append(ndnms[k, q])\n",
    "    stat, pval = stats.mannwhitneyu(x, y)\n",
    "    mann_ps.append(pval)\n",
    "    stat, pval = stats.ttest_ind(x, y)\n",
    "    ttest_ps.append(pval)\n",
    "print 'All pairs:'\n",
    "print 'Non-parametric:', mann_ps\n",
    "print 'T-test:', ttest_ps"
   ]
  },
  {
   "cell_type": "markdown",
   "metadata": {},
   "source": [
    "Nothing there for de novo mutations... what about all CNVs?"
   ]
  },
  {
   "cell_type": "code",
   "execution_count": 31,
   "metadata": {},
   "outputs": [
    {
     "name": "stdout",
     "output_type": "stream",
     "text": [
      "Only one pair per family:\n",
      "Nonparametric: [0.53224926354512392, 0.50660682069574703, 0.53212438190009514, 0.72207723178217575, 0.84387756566758187, 0.6555002383818942, 0.64685855760076771, 0.95187117457673287, 0.73888268036352733]\n",
      "T-test: [0.50844100667987191, 0.49238809762741598, 0.47781889909757969, 0.47425800896313297, 0.47401279051244305, 0.40638657967389291, 0.41520495179179595, 0.39046419555125877, 0.74863357085679916]\n",
      "All pairs:\n",
      "Non-parametric: [0.28465215748233974, 0.27336643835631647, 0.31170851964651675, 0.21081391714567105, 0.21399525652509138, 0.21973689510810962, 0.48662971054212012, 0.36452463990088574, 0.48660108532104546]\n",
      "T-test: [0.35157999218144576, 0.30757470876788101, 0.30975468810084478, 0.28590427669184554, 0.27621705550953768, 0.23150452255279355, 0.33782649711295221, 0.43446703943362408, 0.9771694405754523]\n"
     ]
    }
   ],
   "source": [
    "rel_ps = []\n",
    "wilcoxon_ps = []\n",
    "for q, qual in enumerate(quality):\n",
    "    x, y = [], []\n",
    "    for fam in fams:\n",
    "        # this family only has an affected trio\n",
    "        if fam != '10042':\n",
    "            keys = [k for k in trios.iterkeys() if k.find(fam)==0]\n",
    "            keys.sort()\n",
    "            # now keys has the affected trio first, all others aftewards\n",
    "            k = np.nonzero(children == trios[keys[0]]['child'])[0][0]\n",
    "            x.append(ncnvs[k, q])\n",
    "            k = np.nonzero(children == trios[keys[1]]['child'])[0][0]\n",
    "            y.append(ncnvs[k, q])\n",
    "    stat, pval = stats.wilcoxon(x, y)\n",
    "    wilcoxon_ps.append(pval)\n",
    "    stat, pval = stats.ttest_rel(x, y)\n",
    "    rel_ps.append(pval)\n",
    "print 'Only one pair per family:'\n",
    "print 'Nonparametric:', wilcoxon_ps\n",
    "print 'T-test:', rel_ps\n",
    "\n",
    "ttest_ps = []\n",
    "mann_ps = []\n",
    "for q, qual in enumerate(quality):\n",
    "    x, y = [], []\n",
    "    for fam in fams:\n",
    "        # this family only has an affected trio\n",
    "        if fam != '10042':\n",
    "            keys = [k for k in trios.iterkeys() if k.find(fam)==0]\n",
    "            keys.sort()\n",
    "            # now keys has the affected trio first, all others aftewards\n",
    "            k = np.nonzero(children == trios[keys[0]]['child'])[0][0]\n",
    "            x.append(ncnvs[k, q])\n",
    "            for mykey in keys[1:]:\n",
    "                k = np.nonzero(children == trios[mykey]['child'])[0][0]\n",
    "                y.append(ncnvs[k, q])\n",
    "    stat, pval = stats.mannwhitneyu(x, y)\n",
    "    mann_ps.append(pval)\n",
    "    stat, pval = stats.ttest_ind(x, y)\n",
    "    ttest_ps.append(pval)\n",
    "print 'All pairs:'\n",
    "print 'Non-parametric:', mann_ps\n",
    "print 'T-test:', ttest_ps"
   ]
  },
  {
   "cell_type": "markdown",
   "metadata": {},
   "source": [
    "Not really... oh well. Let's look at more samples, and work on cleaning up the XHMM results a bit further, after adding new samples."
   ]
  },
  {
   "cell_type": "markdown",
   "metadata": {},
   "source": [
    "# TODO\n",
    "\n",
    "* specify some sort of frequency threshold for CNVs?"
   ]
  }
 ],
 "metadata": {
  "kernelspec": {
   "display_name": "Python [default]",
   "language": "python",
   "name": "python2"
  },
  "language_info": {
   "codemirror_mode": {
    "name": "ipython",
    "version": 2
   },
   "file_extension": ".py",
   "mimetype": "text/x-python",
   "name": "python",
   "nbconvert_exporter": "python",
   "pygments_lexer": "ipython2",
   "version": "2.7.14"
  },
  "nav_menu": {},
  "toc": {
   "navigate_menu": true,
   "number_sections": true,
   "sideBar": true,
   "threshold": 6,
   "toc_cell": false,
   "toc_section_display": "block",
   "toc_window_display": false
  }
 },
 "nbformat": 4,
 "nbformat_minor": 2
}
