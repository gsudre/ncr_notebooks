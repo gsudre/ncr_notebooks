{
 "cells": [
  {
   "cell_type": "markdown",
   "metadata": {},
   "source": [
    "We will continue with the plan delineated in the 12/07 note on going deeper into the simplex CNV analysis. But in this notebook let's focus on the XHMM analysis, while we run the joint calling analysis in parallel."
   ]
  },
  {
   "cell_type": "code",
   "execution_count": 1,
   "metadata": {
    "collapsed": true
   },
   "outputs": [],
   "source": [
    "import numpy as np\n",
    "import matplotlib.pyplot as plt\n",
    "import seaborn as sns\n",
    "import pandas as pd\n",
    "\n",
    "%matplotlib inline"
   ]
  },
  {
   "cell_type": "code",
   "execution_count": 3,
   "metadata": {
    "collapsed": true
   },
   "outputs": [],
   "source": [
    "# figure out who is who in each trio\n",
    "import glob\n",
    "data_dir = '/data/sudregp/cnv/penncnv/'\n",
    "ped_file = '/data/sudregp/cnv/simplex.ped'\n",
    "wes_prefix = ['CLIA', 'CCGO', 'WPS']\n",
    "trios = []\n",
    "affected = []\n",
    "controls = []\n",
    "fid = open(ped_file, 'r')\n",
    "for line in fid:\n",
    "    famid, sid, fa, mo, sex, aff = line.rstrip().split('\\t')\n",
    "    if fa[:4] in wes_prefix and mo[:4] in wes_prefix and sid[:4] in wes_prefix:\n",
    "        fam = {}\n",
    "        fam['child'] = sid\n",
    "        if aff == '1':\n",
    "            affected.append(sid)\n",
    "        else:\n",
    "            controls.append(sid)\n",
    "        fam['father'] = fa\n",
    "        fam['mother'] = mo\n",
    "        fam['famid'] = famid\n",
    "        trios.append(fam)\n",
    "fid.close()\n",
    "\n",
    "# CCGO_800976 was removed during sample filtering step in XHMM, let's remove the family that has that sample, as it's a father\n",
    "# we also remove 10042, as it only has an affected kid\n",
    "trios = [t for t in trios if t['famid'] not in ['10042', '10369']]"
   ]
  },
  {
   "cell_type": "markdown",
   "metadata": {},
   "source": [
    "For each family, let's get the affected kid and compute the difference in CNVs betweem them and the unaffected kids. We can do that for only denovo CNVs, or total:"
   ]
  },
  {
   "cell_type": "code",
   "execution_count": 4,
   "metadata": {},
   "outputs": [
    {
     "name": "stderr",
     "output_type": "stream",
     "text": [
      "NOTICE: the --qclrrsd argument is set as 0.3 by default\n",
      "NOTICE: the --qcbafdrift argument is set as 0.01 by default\n",
      "NOTICE: the --qcwf argument is set as 0.05 by default\n",
      "WARNING: CNV calls from 97 files are skipped due to lack of QC measure in qclogfile all_simplex.log\n",
      "NOTICE: Writting 0 file names that pass QC to qcpass file all_simplex.qcpass\n",
      "NOTICE: Writting 0 records of QC summary to qcsum file all_simplex.qcsum\n"
     ]
    }
   ],
   "source": [
    "%%bash\n",
    "module load penncnv\n",
    "\n",
    "cd /data/sudregp/cnv/penncnv/results\n",
    "cat CCGO*.log CLIA*.log > all_simplex.log\n",
    "cat CCGO*.jointcnv CLIA*.jointcnv > all_simplex.jointcnv\n",
    "filter_cnv.pl all_simplex.jointcnv -qclogfile all_simplex.log \\\n",
    "    -qcpassout all_simplex.qcpass \\\n",
    "    -qcsumout all_simplex.qcsum -out all_simplex"
   ]
  },
  {
   "cell_type": "markdown",
   "metadata": {},
   "source": [
    "So, it turns out that the default values used in QC are not output to the log file if using the joint call. Does that mean that joint calls are not as affected by those metrics? Let's go on with the analysis without doing QC, and then we can check if there any any outliers. If yes, then we can do the usual rawcnv call just to get those QC metrics, and apply them to the joint calls.\n",
    "\n",
    "So, before we try to import these results into pseq, let's do a quick check of the numbers:"
   ]
  },
  {
   "cell_type": "code",
   "execution_count": 3,
   "metadata": {},
   "outputs": [
    {
     "name": "stdout",
     "output_type": "stream",
     "text": [
      "CCGO_800979.jointcnv: 1 denovo, 28 inherited\n",
      "CCGO_800980.jointcnv: 3 denovo, 43 inherited\n",
      "CLIA_400121.jointcnv: 0 denovo, 110 inherited\n",
      "CLIA_400122.jointcnv: 3 denovo, 110 inherited\n",
      "CLIA_400123.jointcnv: 3 denovo, 53 inherited\n",
      "CLIA_400125.jointcnv: 283 denovo, 71 inherited\n",
      "CLIA_400126.jointcnv: 382 denovo, 457 inherited\n",
      "CLIA_400127.jointcnv: 10 denovo, 71 inherited\n",
      "CLIA_400128.jointcnv: 1 denovo, 84 inherited\n",
      "CLIA_400129.jointcnv: 1 denovo, 94 inherited\n",
      "CLIA_400130.jointcnv: 0 denovo, 215 inherited\n",
      "CLIA_400131.jointcnv: 4 denovo, 161 inherited\n",
      "CLIA_400132.jointcnv: 77 denovo, 263 inherited\n",
      "CLIA_400133.jointcnv: 1 denovo, 188 inherited\n",
      "CLIA_400134.jointcnv: 3 denovo, 148 inherited\n",
      "CLIA_400135.jointcnv: 8 denovo, 325 inherited\n",
      "CLIA_400138.jointcnv: 16 denovo, 120 inherited\n",
      "CLIA_400139.jointcnv: 49 denovo, 269 inherited\n",
      "CLIA_400140.jointcnv: 2 denovo, 196 inherited\n",
      "CLIA_400142.jointcnv: 29 denovo, 284 inherited\n",
      "CLIA_400144.jointcnv: 0 denovo, 143 inherited\n",
      "CLIA_400148.jointcnv: 5 denovo, 117 inherited\n",
      "CLIA_400149.jointcnv: 600 denovo, 152 inherited\n",
      "CLIA_400152.jointcnv: 0 denovo, 152 inherited\n",
      "CLIA_400153.jointcnv: 7 denovo, 89 inherited\n",
      "CLIA_400155.jointcnv: 57 denovo, 282 inherited\n",
      "CLIA_400158.jointcnv: 45 denovo, 116 inherited\n",
      "CLIA_400159.jointcnv: 2 denovo, 177 inherited\n",
      "CLIA_400162.jointcnv: 95 denovo, 226 inherited\n",
      "CLIA_400163.jointcnv: 359 denovo, 195 inherited\n",
      "CLIA_400166.jointcnv: 11 denovo, 193 inherited\n",
      "CLIA_400170.jointcnv: 0 denovo, 172 inherited\n",
      "CLIA_400172.jointcnv: 229 denovo, 111 inherited\n",
      "CLIA_400175.jointcnv: 50 denovo, 144 inherited\n",
      "CLIA_400178.jointcnv: 5 denovo, 56 inherited\n",
      "CLIA_400179.jointcnv: 30 denovo, 50 inherited\n",
      "CLIA_400180.jointcnv: 0 denovo, 105 inherited\n",
      "CLIA_400181.jointcnv: 286 denovo, 68 inherited\n",
      "CLIA_400189.jointcnv: 0 denovo, 155 inherited\n",
      "CLIA_400191.jointcnv: 0 denovo, 160 inherited\n",
      "CLIA_400193.jointcnv: 0 denovo, 179 inherited\n",
      "CLIA_400195.jointcnv: 4 denovo, 344 inherited\n",
      "CLIA_400200.jointcnv: 9 denovo, 306 inherited\n",
      "CLIA_400201.jointcnv: 0 denovo, 169 inherited\n",
      "CLIA_400203.jointcnv: 916 denovo, 24 inherited\n",
      "CLIA_400204.jointcnv: 0 denovo, 190 inherited\n",
      "CLIA_400205.jointcnv: 1 denovo, 222 inherited\n",
      "CLIA_400209.jointcnv: 3 denovo, 280 inherited\n",
      "CLIA_400210.jointcnv: 0 denovo, 350 inherited\n",
      "CLIA_400212.jointcnv: 1 denovo, 168 inherited\n",
      "CLIA_400216.jointcnv: 6 denovo, 79 inherited\n"
     ]
    }
   ],
   "source": [
    "%%bash\n",
    "cd /data/sudregp/cnv/penncnv/results\n",
    "\n",
    "for triocnv in `ls -1 C*.jointcnv`; do\n",
    "    rm denovo.txt inherited.txt 2>/dev/null\n",
    "    grep mother ${triocnv} > mom_snps;\n",
    "    grep father ${triocnv} > dad_snps;\n",
    "    cat mom_snps dad_snps > parent_snps;\n",
    "    for snp in `grep offspring ${triocnv} | cut -d' ' -f 1`; do\n",
    "        if ! grep -q $snp parent_snps; then\n",
    "            echo \"$snp\" >> denovo.txt\n",
    "        else\n",
    "            echo \"$snp\" >> inherited.txt\n",
    "        fi;\n",
    "   done\n",
    "   echo ${triocnv}: `cat denovo.txt 2>/dev/null | wc -l` denovo, `cat inherited.txt 2>/dev/null | wc -l` inherited;\n",
    "   rm *_snps;\n",
    "done"
   ]
  },
  {
   "cell_type": "markdown",
   "metadata": {},
   "source": [
    "Well, there are a few trios that would make you wonder about their data quality. Let me create a QC file and see if these are samples that would be excluded (in terminal):"
   ]
  },
  {
   "cell_type": "code",
   "execution_count": null,
   "metadata": {
    "collapsed": true
   },
   "outputs": [],
   "source": [
    "%%bash\n",
    "module load penncnv\n",
    "\n",
    "cd /data/sudregp/cnv/penncnv\n",
    "\n",
    "pfb_file=InfiniumExome.pfb\n",
    "gc_file=InfiniumExome.hg19.gcmodel\n",
    "detect_cnv.pl -test -hmm ~/autodenovo/penncnv_example.hmm -pfb $pfb_file -log results/all_simplex_but1.log InfiniumExome/* -out results/all_simplex_but1.rawcnv;\n",
    "\n",
    "pfb_file=HumanExome.pfb\n",
    "gc_file=HumanExome.hg19.gcmodel\n",
    "detect_cnv.pl -test -hmm ~/autodenovo/penncnv_example.hmm -pfb $pfb_file -log results/fam_10369.log HumanExome/* -out results/fam_10369.rawcnv;"
   ]
  },
  {
   "cell_type": "code",
   "execution_count": null,
   "metadata": {
    "collapsed": true
   },
   "outputs": [],
   "source": [
    "%%bash\n",
    "\n",
    "module load penncnv\n",
    "\n",
    "cd /data/sudregp/cnv/penncnv/results\n",
    "cat all_simplex_but1.log fam_10369.log > all_simplex_rawcnv.log\n",
    "cat all_simplex_but1.rawcnv fam_10369.rawcnv > all_simplex.rawcnv\n",
    "filter_cnv.pl all_simplex.rawcnv -qclogfile all_simplex_rawcnv.log \\\n",
    "    -qcpassout all_simplex.qcpass \\\n",
    "    -qcsumout all_simplex.qcsum -out all_simplex"
   ]
  },
  {
   "cell_type": "markdown",
   "metadata": {},
   "source": [
    "So, it does take a while, so let's just swarm it. But, to do that we need to figure out who is who in our pedigree. Note that I'm going to drop the convention I had before that the first trio in a family is the affected one, because we'll eventually play with extended families, and that convention will break down."
   ]
  },
  {
   "cell_type": "code",
   "execution_count": 1,
   "metadata": {
    "collapsed": true
   },
   "outputs": [],
   "source": [
    "import numpy as np\n",
    "import matplotlib.pyplot as plt\n",
    "import seaborn as sns\n",
    "import pandas as pd\n",
    "\n",
    "%matplotlib inline"
   ]
  },
  {
   "cell_type": "code",
   "execution_count": 8,
   "metadata": {
    "collapsed": true
   },
   "outputs": [],
   "source": [
    "# figure out who is who in each trio\n",
    "import glob\n",
    "data_dir = '/data/sudregp/cnv/penncnv/'\n",
    "ped_file = '/data/sudregp/cnv/simplex.ped'\n",
    "wes_prefix = ['CLIA', 'CCGO', 'WPS']\n",
    "trios = []\n",
    "affected = []\n",
    "controls = []\n",
    "fid = open(ped_file, 'r')\n",
    "for line in fid:\n",
    "    famid, sid, fa, mo, sex, aff = line.rstrip().split('\\t')\n",
    "    if fa[:4] in wes_prefix and mo[:4] in wes_prefix and sid[:4] in wes_prefix:\n",
    "        fam = {}\n",
    "        fam['child'] = sid\n",
    "        if aff == '1':\n",
    "            affected.append(sid)\n",
    "        else:\n",
    "            controls.append(sid)\n",
    "        fam['father'] = fa\n",
    "        fam['mother'] = mo\n",
    "        fam['famid'] = famid\n",
    "        trios.append(fam)\n",
    "fid.close()"
   ]
  },
  {
   "cell_type": "code",
   "execution_count": 18,
   "metadata": {
    "collapsed": true
   },
   "outputs": [],
   "source": [
    "fid = open('/data/sudregp/cnv/penncnv/swarm.joint_call', 'w')\n",
    "str1 = 'cd /data/sudregp/cnv/penncnv/; '\n",
    "str2 = 'detect_cnv.pl -joint -hmm penncnv_example.hmm -pfb %s.pfb %s/%s %s/%s %s/%s -out results/%s.jointcnv --log results/%s.log'\n",
    "\n",
    "box = 'InfiniumExome'\n",
    "for trio in trios:\n",
    "    fid.write(str1)\n",
    "    fid.write(str2 % (box, box, trio['father'], box, trio['mother'], box,\n",
    "                      trio['child'], trio['child'], trio['child']) + '\\n')\n",
    "fid.close()"
   ]
  },
  {
   "cell_type": "code",
   "execution_count": 20,
   "metadata": {},
   "outputs": [
    {
     "name": "stdout",
     "output_type": "stream",
     "text": [
      "55729461\n"
     ]
    }
   ],
   "source": [
    "%%bash\n",
    "cd /data/sudregp/cnv/penncnv/\n",
    "swarm -g 4 --job-name penn_joint --time 2:00:00 -f swarm.joint_call \\\n",
    "    --module penncnv --partition quick --logdir trash"
   ]
  },
  {
   "cell_type": "markdown",
   "metadata": {},
   "source": [
    "And I'll run the trio that's in a different box by itself:"
   ]
  },
  {
   "cell_type": "code",
   "execution_count": 19,
   "metadata": {},
   "outputs": [
    {
     "name": "stdout",
     "output_type": "stream",
     "text": [
      "cd /data/sudregp/cnv/penncnv/; detect_cnv.pl -joint -hmm penncnv_example.hmm -pfb HumanExome.pfb HumanExome/CCGO_800976 HumanExome/CCGO_800977 HumanExome/CCGO_800980 -out results/CCGO_800980.jointcnv --log results/CCGO_800980.log\n",
      "cd /data/sudregp/cnv/penncnv/; detect_cnv.pl -joint -hmm penncnv_example.hmm -pfb HumanExome.pfb HumanExome/CCGO_800976 HumanExome/CCGO_800977 HumanExome/CCGO_800979 -out results/CCGO_800979.jointcnv --log results/CCGO_800979.log\n"
     ]
    }
   ],
   "source": [
    "diff_box = [fam for fam in trios if fam['famid']=='10369']\n",
    "box = 'HumanExome'\n",
    "for trio in diff_box:\n",
    "    print str1 + str2 % (box, box, trio['father'], box, trio['mother'], box,\n",
    "                         trio['child'], trio['child'], trio['child'])"
   ]
  },
  {
   "cell_type": "markdown",
   "metadata": {},
   "source": [
    "# TODO\n",
    "\n",
    "* Look into sex chromosomes? Something to the idea that adhd is more present in boys...\n",
    "* Play with the minimum size of the CNV\n",
    "* Play with the HMM parameters\n",
    "* Check (and plot) within family differences; the ones with big differences are interesting.\n",
    "* Include parent burden in the analysis\n",
    "* Filter based on neural vs nonneural CNVs (i.e. expressed in the brain\n",
    "* Look at literature-only CNVs (J Chia and A Thapaer for CNVs in ADHD\n",
    "* Match with file of ranked simplex by Wendy (maybe blindly)?\n",
    "* Do all of the above with XHMM and array data. Maybe start with array because it'll be simpler?"
   ]
  }
 ],
 "metadata": {
  "kernelspec": {
   "display_name": "Python [default]",
   "language": "python",
   "name": "python2"
  },
  "language_info": {
   "codemirror_mode": {
    "name": "ipython",
    "version": 2
   },
   "file_extension": ".py",
   "mimetype": "text/x-python",
   "name": "python",
   "nbconvert_exporter": "python",
   "pygments_lexer": "ipython2",
   "version": "2.7.14"
  },
  "nav_menu": {},
  "toc": {
   "navigate_menu": true,
   "number_sections": true,
   "sideBar": true,
   "threshold": 6,
   "toc_cell": false,
   "toc_section_display": "block",
   "toc_window_display": false
  }
 },
 "nbformat": 4,
 "nbformat_minor": 2
}
