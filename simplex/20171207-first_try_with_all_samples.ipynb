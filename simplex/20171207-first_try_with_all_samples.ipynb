{
 "cells": [
  {
   "cell_type": "markdown",
   "metadata": {},
   "source": [
    "Let's try to look at all samples to see if there is anything there, as there wasn't much to go with in the simplex only. True, maybe looking at ADHD yes/no is not the best way to go about this. Maybe looking at brain metrics or some graph theory idea would be better. But we need to do this bit anyways, so let's go with it in parallel. "
   ]
  },
  {
   "cell_type": "markdown",
   "metadata": {},
   "source": [
    "# New samples\n",
    "\n",
    "The first step is to make sure we have all files for all participants. I created the file all_samples.ped in data/cnv, derived from pedigree_20171205.csv. Then, I replaced all IDs by their WES code. Now, we run this code to populate our trio dictionary:"
   ]
  },
  {
   "cell_type": "code",
   "execution_count": 1,
   "metadata": {
    "collapsed": true
   },
   "outputs": [],
   "source": [
    "import numpy as np\n",
    "import matplotlib.pyplot as plt\n",
    "import seaborn as sns\n",
    "import pandas as pd\n",
    "\n",
    "%matplotlib inline"
   ]
  },
  {
   "cell_type": "code",
   "execution_count": null,
   "metadata": {
    "collapsed": true
   },
   "outputs": [],
   "source": [
    "# figure out who is who in each trio\n",
    "import glob\n",
    "data_dir = '/data/NCR_SBRB/cnvsimplex/'\n",
    "trios = {}\n",
    "affected = []\n",
    "controls = []\n",
    "peds = glob.glob(data_dir + '*trio*ped')\n",
    "for ped in peds:\n",
    "    trio_name = ped.split('/')[-1].split('.')[0]\n",
    "    fid = open(ped, 'r')\n",
    "    fam = {}\n",
    "    for line in fid:\n",
    "        famid, sid, fa, mo, sex, aff = line.rstrip().split('\\t')\n",
    "        if fa != '0':\n",
    "            fam['child'] = sid\n",
    "            if aff == '1':\n",
    "                affected.append(trio_name)\n",
    "            else:\n",
    "                controls.append(trio_name)\n",
    "        elif sex == '1':\n",
    "            fam['father'] = sid\n",
    "        else:\n",
    "            fam['mother'] = sid\n",
    "    trios[trio_name] = fam\n",
    "    fid.close()\n",
    "    \n",
    "fid = open('/data/NCR_SBRB/simplex/famids.txt', 'r')\n",
    "fams = [t.rstrip() for t in fid]\n",
    "fid.close()\n",
    "\n",
    "# CCGO_800976 was removed during sample filtering step in XHMM, let's remove the family that has that sample, as it's a father\n",
    "del trios['10369_trio1']\n",
    "del trios['10369_trio2']\n",
    "fams.remove('10369')"
   ]
  },
  {
   "cell_type": "markdown",
   "metadata": {},
   "source": [
    "# PennCNV\n",
    "\n",
    "Let's run the joint calling algorithm for all samples. It takes longer, but supposedly it's more accurate than the trio/quartet calling (http://penncnv.openbioinformatics.org/en/latest/user-guide/joint/). The drawback is that it only works for trios, but we were planning on working with trios only anyways.\n",
    "\n"
   ]
  }
 ],
 "metadata": {
  "kernelspec": {
   "display_name": "Python [default]",
   "language": "python",
   "name": "python2"
  },
  "language_info": {
   "codemirror_mode": {
    "name": "ipython",
    "version": 2
   },
   "file_extension": ".py",
   "mimetype": "text/x-python",
   "name": "python",
   "nbconvert_exporter": "python",
   "pygments_lexer": "ipython2",
   "version": "2.7.14"
  },
  "nav_menu": {},
  "toc": {
   "navigate_menu": true,
   "number_sections": true,
   "sideBar": true,
   "threshold": 6,
   "toc_cell": false,
   "toc_section_display": "block",
   "toc_window_display": false
  }
 },
 "nbformat": 4,
 "nbformat_minor": 2
}
